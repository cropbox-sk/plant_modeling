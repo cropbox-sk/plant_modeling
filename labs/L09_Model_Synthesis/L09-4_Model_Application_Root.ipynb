{
 "cells": [
  {
   "cell_type": "markdown",
   "metadata": {},
   "source": [
    "# Lab09-4"
   ]
  },
  {
   "cell_type": "markdown",
   "metadata": {},
   "source": [
    "Model Application (root)"
   ]
  },
  {
   "cell_type": "code",
   "execution_count": 1,
   "metadata": {},
   "outputs": [
    {
     "data": {
      "text/html": [
       "<script>\n",
       "// Immediately-invoked-function-expression to avoid global variables.\n",
       "(function() {\n",
       "    var warning_div = document.getElementById(\"webio-warning-16806626827108584244\");\n",
       "    var hide = function () {\n",
       "        var script = document.getElementById(\"webio-setup-18399678617388667171\");\n",
       "        var parent = script && script.parentElement;\n",
       "        var grandparent = parent && parent.parentElement;\n",
       "        if (grandparent) {\n",
       "            grandparent.style.display = \"none\";\n",
       "        }\n",
       "        warning_div.style.display = \"none\";\n",
       "    };\n",
       "    if (typeof Jupyter !== \"undefined\") {\n",
       "        console.log(\"WebIO detected Jupyter notebook environment.\");\n",
       "        // Jupyter notebook.\n",
       "        var extensions = (\n",
       "            Jupyter\n",
       "            && Jupyter.notebook.config.data\n",
       "            && Jupyter.notebook.config.data.load_extensions\n",
       "        );\n",
       "        if (extensions && extensions[\"webio-jupyter-notebook\"]) {\n",
       "            // Extension already loaded.\n",
       "            console.log(\"Jupyter WebIO nbextension detected; not loading ad-hoc.\");\n",
       "            hide();\n",
       "            return;\n",
       "        }\n",
       "    } else if (window.location.pathname.includes(\"/lab\")) {\n",
       "        // Guessing JupyterLa\n",
       "        console.log(\"Jupyter Lab detected; make sure the @webio/jupyter-lab-provider labextension is installed.\");\n",
       "        hide();\n",
       "        return;\n",
       "    }\n",
       "})();\n",
       "\n",
       "</script>\n",
       "<p\n",
       "    id=\"webio-warning-16806626827108584244\"\n",
       "    class=\"output_text output_stderr\"\n",
       "    style=\"padding: 1em; font-weight: bold;\"\n",
       ">\n",
       "    Unable to load WebIO. Please make sure WebIO works for your Jupyter client.\n",
       "    For troubleshooting, please see <a href=\"https://juliagizmos.github.io/WebIO.jl/latest/providers/ijulia/\">\n",
       "    the WebIO/IJulia documentation</a>.\n",
       "    <!-- TODO: link to installation docs. -->\n",
       "</p>\n"
      ],
      "text/plain": [
       "HTML{String}(\"<script>\\n// Immediately-invoked-function-expression to avoid global variables.\\n(function() {\\n    var warning_div = document.getElementById(\\\"webio-warning-16806626827108584244\\\");\\n    var hide = function () {\\n        var script = document.getElementById(\\\"webio-setup-18399678617388667171\\\");\\n        var parent = script && script.parentElement;\\n        var grandparent = parent && parent.parentElement;\\n        if (grandparent) {\\n            grandparent.style.display = \\\"none\\\";\\n        }\\n        warning_div.style.display = \\\"none\\\";\\n    };\\n    if (typeof Jupyter !== \\\"undefined\\\") {\\n        console.log(\\\"WebIO detected Jupyter notebook environment.\\\");\\n        // Jupyter notebook.\\n        var extensions = (\\n            Jupyter\\n            && Jupyter.notebook.config.data\\n            && Jupyter.notebook.config.data.load_extensions\\n        );\\n        if (extensions && extensions[\\\"webio-jupyter-notebook\\\"]) {\\n            // Extension already loaded.\\n            console.log(\\\"Jupyter WebIO nbextension detected; not loading ad-hoc.\\\");\\n            hide();\\n            return;\\n        }\\n    } else if (window.location.pathname.includes(\\\"/lab\\\")) {\\n        // Guessing JupyterLa\\n        console.log(\\\"Jupyter Lab detected; make sure the @webio/jupyter-lab-provider labextension is installed.\\\");\\n        hide();\\n        return;\\n    }\\n})();\\n\\n</script>\\n<p\\n    id=\\\"webio-warning-16806626827108584244\\\"\\n    class=\\\"output_text output_stderr\\\"\\n    style=\\\"padding: 1em; font-weight: bold;\\\"\\n>\\n    Unable to load WebIO. Please make sure WebIO works for your Jupyter client.\\n    For troubleshooting, please see <a href=\\\"https://juliagizmos.github.io/WebIO.jl/latest/providers/ijulia/\\\">\\n    the WebIO/IJulia documentation</a>.\\n    <!-- TODO: link to installation docs. -->\\n</p>\\n\")"
      ]
     },
     "metadata": {},
     "output_type": "display_data"
    }
   ],
   "source": [
    "using Cropbox"
   ]
  },
  {
   "cell_type": "markdown",
   "metadata": {},
   "source": [
    "## Root Model"
   ]
  },
  {
   "cell_type": "markdown",
   "metadata": {},
   "source": [
    "Although Cropbox framework was originally intended for implementing traditional process-based models with mostly static structure, we can use `produce` kind of variables for dynamically adding new systems on demand, which is useful for implementing Functional-Structural Plant Models (FSPM). In this example, we implement a root structure growth algorithm used in [CRootBox](https://plant-root-soil-interactions-modelling.github.io/CRootBox/) model."
   ]
  },
  {
   "cell_type": "code",
   "execution_count": 2,
   "metadata": {},
   "outputs": [
    {
     "data": {
      "text/plain": [
       "Main.Root"
      ]
     },
     "execution_count": 2,
     "metadata": {},
     "output_type": "execute_result"
    }
   ],
   "source": [
    "include(\"root/root.jl\")"
   ]
  },
  {
   "cell_type": "markdown",
   "metadata": {},
   "source": [
    "### Configurations"
   ]
  },
  {
   "cell_type": "markdown",
   "metadata": {},
   "source": [
    "Root system architecture in this example constists of three types of segments: primary root, first order lateral root, and second order lateral root. The number of initial primary roots is set by a parameter (`maxB`). As a segment grows, a new segment can be initiated and spawned depending on the transition table (`T`). Each segment type has its own set of parameters related to length (`lb` for basal zone, `la` for axial zone, `ln` for branching interval), elongation rate (`r`), branching angle (`θ`) and so on. Note that some parameter values are combined with standard deviation after `±` operator whose acutal value is decided on initialization. Random sampling of parameters is what gives more realistic root growth behavior for the model."
   ]
  },
  {
   "cell_type": "code",
   "execution_count": 3,
   "metadata": {},
   "outputs": [
    {
     "data": {
      "text/plain": [
       "Config for 5 systems:\n",
       "  \u001b[95mRootArchitecture\u001b[39m\n",
       "    \u001b[94mmaxB\u001b[39m\u001b[90m = \u001b[39m5\n",
       "  \u001b[95mBaseRoot\u001b[39m\n",
       "    \u001b[94mT\u001b[39m\u001b[90m = \u001b[39m[0 1 0; 0 0 1; 0 0 0]\n",
       "  \u001b[95mPrimaryRoot\u001b[39m\n",
       "    \u001b[94mlb   \u001b[39m\u001b[90m = \u001b[39m0.1 ± 0.01\n",
       "    \u001b[94mla   \u001b[39m\u001b[90m = \u001b[39m18.0 ± 1.8\n",
       "    \u001b[94mln   \u001b[39m\u001b[90m = \u001b[39m0.6 ± 0.06\n",
       "    \u001b[94mlmax \u001b[39m\u001b[90m = \u001b[39m89.7 ± 7.4\n",
       "    \u001b[94mr    \u001b[39m\u001b[90m = \u001b[39m6.0 ± 0.6\n",
       "    \u001b[94mΔx   \u001b[39m\u001b[90m = \u001b[39m0.5\n",
       "    \u001b[94mσ    \u001b[39m\u001b[90m = \u001b[39m10\n",
       "    \u001b[94mθ    \u001b[39m\u001b[90m = \u001b[39m80 ± 8\n",
       "    \u001b[94mN    \u001b[39m\u001b[90m = \u001b[39m1.5\n",
       "    \u001b[94ma    \u001b[39m\u001b[90m = \u001b[39m0.04 ± 0.004\n",
       "    \u001b[94mcolor\u001b[39m\u001b[90m = \u001b[39mRGBA{N0f8}(1.0,0.0,0.0,1.0)\n",
       "  \u001b[95mFirstOrderLateralRoot\u001b[39m\n",
       "    \u001b[94mlb   \u001b[39m\u001b[90m = \u001b[39m0.2 ± 0.04\n",
       "    \u001b[94mla   \u001b[39m\u001b[90m = \u001b[39m0.4 ± 0.04\n",
       "    \u001b[94mln   \u001b[39m\u001b[90m = \u001b[39m0.4 ± 0.03\n",
       "    \u001b[94mlmax \u001b[39m\u001b[90m = \u001b[39m0.6 ± 1.6\n",
       "    \u001b[94mr    \u001b[39m\u001b[90m = \u001b[39m2.0 ± 0.2\n",
       "    \u001b[94mΔx   \u001b[39m\u001b[90m = \u001b[39m0.1\n",
       "    \u001b[94mσ    \u001b[39m\u001b[90m = \u001b[39m20\n",
       "    \u001b[94mθ    \u001b[39m\u001b[90m = \u001b[39m70 ± 15\n",
       "    \u001b[94mN    \u001b[39m\u001b[90m = \u001b[39m1\n",
       "    \u001b[94ma    \u001b[39m\u001b[90m = \u001b[39m0.03 ± 0.003\n",
       "    \u001b[94mcolor\u001b[39m\u001b[90m = \u001b[39mRGBA{N0f8}(0.0,1.0,0.0,1.0)\n",
       "  \u001b[95mSecondOrderLateralRoot\u001b[39m\n",
       "    \u001b[94mlb   \u001b[39m\u001b[90m = \u001b[39m0\n",
       "    \u001b[94mla   \u001b[39m\u001b[90m = \u001b[39m0.4 ± 0.02\n",
       "    \u001b[94mln   \u001b[39m\u001b[90m = \u001b[39m0\n",
       "    \u001b[94mlmax \u001b[39m\u001b[90m = \u001b[39m0.4\n",
       "    \u001b[94mr    \u001b[39m\u001b[90m = \u001b[39m2.0 ± 0.2\n",
       "    \u001b[94mΔx   \u001b[39m\u001b[90m = \u001b[39m0.1\n",
       "    \u001b[94mσ    \u001b[39m\u001b[90m = \u001b[39m20\n",
       "    \u001b[94mθ    \u001b[39m\u001b[90m = \u001b[39m70 ± 10\n",
       "    \u001b[94mN    \u001b[39m\u001b[90m = \u001b[39m2\n",
       "    \u001b[94ma    \u001b[39m\u001b[90m = \u001b[39m0.02 ± 0.002\n",
       "    \u001b[94mcolor\u001b[39m\u001b[90m = \u001b[39mRGBA{N0f8}(0.0,0.0,1.0,1.0)"
      ]
     },
     "execution_count": 3,
     "metadata": {},
     "output_type": "execute_result"
    }
   ],
   "source": [
    "root_maize = @config(\n",
    "    :RootArchitecture => :maxB => 5,\n",
    "    :BaseRoot => :T => [\n",
    "        # P F S\n",
    "          0 1 0 ; # P\n",
    "          0 0 1 ; # F\n",
    "          0 0 0 ; # S\n",
    "    ],\n",
    "    :PrimaryRoot => (\n",
    "        :lb => 0.1 ± 0.01,\n",
    "        :la => 18.0 ± 1.8,\n",
    "        :ln => 0.6 ± 0.06,\n",
    "        :lmax => 89.7 ± 7.4,\n",
    "        :r => 6.0 ± 0.6,\n",
    "        :Δx => 0.5,\n",
    "        :σ => 10,\n",
    "        :θ => 80 ± 8,\n",
    "        :N => 1.5,\n",
    "        :a => 0.04 ± 0.004,\n",
    "        :color => Root.RGBA(1, 0, 0, 1),\n",
    "    ),\n",
    "    :FirstOrderLateralRoot => (\n",
    "        :lb => 0.2 ± 0.04,\n",
    "        :la => 0.4 ± 0.04,\n",
    "        :ln => 0.4 ± 0.03,\n",
    "        :lmax => 0.6 ± 1.6,\n",
    "        :r => 2.0 ± 0.2,\n",
    "        :Δx => 0.1,\n",
    "        :σ => 20,\n",
    "        :θ => 70 ± 15,\n",
    "        :N => 1,\n",
    "        :a => 0.03 ± 0.003,\n",
    "        :color => Root.RGBA(0, 1, 0, 1),\n",
    "    ),\n",
    "    :SecondOrderLateralRoot => (\n",
    "        :lb => 0,\n",
    "        :la => 0.4 ± 0.02,\n",
    "        :ln => 0,\n",
    "        :lmax => 0.4,\n",
    "        :r => 2.0 ± 0.2,\n",
    "        :Δx => 0.1,\n",
    "        :σ => 20,\n",
    "        :θ => 70 ± 10,\n",
    "        :N => 2,\n",
    "        :a => 0.02 ± 0.002,\n",
    "        :color => Root.RGBA(0, 0, 1, 1),\n",
    "    )\n",
    ")"
   ]
  },
  {
   "cell_type": "code",
   "execution_count": 4,
   "metadata": {},
   "outputs": [
    {
     "data": {
      "text/plain": [
       "Config for 1 systems:\n",
       "  \u001b[95mPot\u001b[39m\n",
       "    \u001b[94mr1    \u001b[39m\u001b[90m = \u001b[39m10\n",
       "    \u001b[94mr2    \u001b[39m\u001b[90m = \u001b[39m6\n",
       "    \u001b[94mheight\u001b[39m\u001b[90m = \u001b[39m30"
      ]
     },
     "execution_count": 4,
     "metadata": {},
     "output_type": "execute_result"
    }
   ],
   "source": [
    "container_pot = @config :Pot => (\n",
    "    :r1 => 10,\n",
    "    :r2 => 6,\n",
    "    :height => 30,\n",
    ")"
   ]
  },
  {
   "cell_type": "code",
   "execution_count": 5,
   "metadata": {},
   "outputs": [
    {
     "data": {
      "text/plain": [
       "Config for 1 systems:\n",
       "  \u001b[95mSoilCore\u001b[39m\n",
       "    \u001b[94md \u001b[39m\u001b[90m = \u001b[39m5\n",
       "    \u001b[94ml \u001b[39m\u001b[90m = \u001b[39m20\n",
       "    \u001b[94mx0\u001b[39m\u001b[90m = \u001b[39m3\n",
       "    \u001b[94my0\u001b[39m\u001b[90m = \u001b[39m3"
      ]
     },
     "execution_count": 5,
     "metadata": {},
     "output_type": "execute_result"
    }
   ],
   "source": [
    "soilcore = @config :SoilCore => (\n",
    "    :d => 5,\n",
    "    :l => 20,\n",
    "    :x0 => 3,\n",
    "    :y0 => 3,\n",
    ")"
   ]
  },
  {
   "cell_type": "markdown",
   "metadata": {},
   "source": [
    "### Simulation"
   ]
  },
  {
   "cell_type": "markdown",
   "metadata": {},
   "source": [
    "First we create an instance of pot (`Root.Pot`) which is a container holding our root system."
   ]
  },
  {
   "cell_type": "code",
   "execution_count": 6,
   "metadata": {},
   "outputs": [
    {
     "data": {
      "text/plain": [
       "\u001b[95mPot\u001b[39m\n",
       "  \u001b[94mcontext\u001b[39m\u001b[90m = \u001b[39m<Context>\n",
       "  \u001b[94mconfig\u001b[39m\u001b[90m = \u001b[39m<Config>\n",
       "  \u001b[94mdist\u001b[39m\u001b[90m (distance)\u001b[39m\u001b[90m = \u001b[39m<call>\n",
       "  \u001b[94mr1\u001b[39m\u001b[90m (top_radius)\u001b[39m\u001b[90m = \u001b[39m10.0 cm\n",
       "  \u001b[94mr2\u001b[39m\u001b[90m (bottom_radius)\u001b[39m\u001b[90m = \u001b[39m6.0 cm\n",
       "  \u001b[94mh\u001b[39m\u001b[90m (height)\u001b[39m\u001b[90m = \u001b[39m30.0 cm\n",
       "  \u001b[94msq\u001b[39m\u001b[90m (square)\u001b[39m\u001b[90m = \u001b[39mfalse"
      ]
     },
     "execution_count": 6,
     "metadata": {},
     "output_type": "execute_result"
    }
   ],
   "source": [
    "b = instance(Root.Pot, config=container_pot)"
   ]
  },
  {
   "cell_type": "markdown",
   "metadata": {},
   "source": [
    "Then, an instance of root system (`Root.RootArchitecture`) is created with parameters for maize (`root_maize`). The instance of pot (`b`) just created above is supplied as an option. `seed` argument indicates a seed number for random number generator. By having a fixed seed number, we have same simulation results every time the model runs."
   ]
  },
  {
   "cell_type": "code",
   "execution_count": 7,
   "metadata": {},
   "outputs": [
    {
     "data": {
      "text/plain": [
       "\u001b[95mRootArchitecture\u001b[39m\n",
       "  \u001b[94mcontext\u001b[39m\u001b[90m = \u001b[39m<Context>\n",
       "  \u001b[94mconfig\u001b[39m\u001b[90m = \u001b[39m<Config>\n",
       "  \u001b[94mbox\u001b[39m\u001b[90m = \u001b[39m<Pot>\n",
       "  \u001b[94mmaxB\u001b[39m\u001b[90m (number_of_basal_roots)\u001b[39m\u001b[90m = \u001b[39m5\n",
       "  \u001b[94mRT0\u001b[39m\u001b[90m (initial_transformation)\u001b[39m\u001b[90m = \u001b[39mIdentityTransformation()\n",
       "  \u001b[94mroots\u001b[39m\u001b[90m = \u001b[39mMain.Root.PrimaryRoot[]"
      ]
     },
     "execution_count": 7,
     "metadata": {},
     "output_type": "execute_result"
    }
   ],
   "source": [
    "s = instance(Root.RootArchitecture; config=root_maize, options=(; box=b), seed=0)"
   ]
  },
  {
   "cell_type": "markdown",
   "metadata": {},
   "source": [
    "Note that we explicitly create an instance of the model using `instance()` instead of `simulate()` which only gives an output of simulation. We need an instance later used for visualization."
   ]
  },
  {
   "cell_type": "code",
   "execution_count": 8,
   "metadata": {},
   "outputs": [
    {
     "name": "stderr",
     "output_type": "stream",
     "text": [
      "\u001b[32mProgress: 100%[=========================================] Time: 0:01:30\u001b[39m\n"
     ]
    }
   ],
   "source": [
    "r = simulate!(s, stop=500);"
   ]
  },
  {
   "cell_type": "markdown",
   "metadata": {},
   "source": [
    "We can *gather* all root segments produced during simulation from the current instance of model."
   ]
  },
  {
   "cell_type": "code",
   "execution_count": 9,
   "metadata": {},
   "outputs": [
    {
     "data": {
      "text/plain": [
       "161338-element Array{Any,1}:\n",
       " <PrimaryRoot>\n",
       " <PrimaryRoot>\n",
       " <PrimaryRoot>\n",
       " <PrimaryRoot>\n",
       " <PrimaryRoot>\n",
       " <PrimaryRoot>\n",
       " <PrimaryRoot>\n",
       " <PrimaryRoot>\n",
       " <PrimaryRoot>\n",
       " <PrimaryRoot>\n",
       " <PrimaryRoot>\n",
       " <PrimaryRoot>\n",
       " <PrimaryRoot>\n",
       " ⋮\n",
       " <SecondOrderLateralRoot>\n",
       " <SecondOrderLateralRoot>\n",
       " <SecondOrderLateralRoot>\n",
       " <SecondOrderLateralRoot>\n",
       " <SecondOrderLateralRoot>\n",
       " <SecondOrderLateralRoot>\n",
       " <SecondOrderLateralRoot>\n",
       " <SecondOrderLateralRoot>\n",
       " <SecondOrderLateralRoot>\n",
       " <SecondOrderLateralRoot>\n",
       " <SecondOrderLateralRoot>\n",
       " <FirstOrderLateralRoot>"
      ]
     },
     "execution_count": 9,
     "metadata": {},
     "output_type": "execute_result"
    }
   ],
   "source": [
    "L = gather!(s, Root.BaseRoot; callback=Root.gatherbaseroot!)"
   ]
  },
  {
   "cell_type": "markdown",
   "metadata": {},
   "source": [
    "Then, here is total length of the root."
   ]
  },
  {
   "cell_type": "code",
   "execution_count": 10,
   "metadata": {},
   "outputs": [
    {
     "data": {
      "text/plain": [
       "1430.2434799249459 cm"
      ]
     },
     "execution_count": 10,
     "metadata": {},
     "output_type": "execute_result"
    }
   ],
   "source": [
    "[s.length' for s in L] |> sum"
   ]
  },
  {
   "cell_type": "markdown",
   "metadata": {},
   "source": [
    "### Visualization"
   ]
  },
  {
   "cell_type": "markdown",
   "metadata": {},
   "source": [
    "Due to limitations of JupyterHub, you won't be able to see visualization of 3D root structure in this notebook. Instead, a screenshot captured on a local machine running the same simulation is attached below."
   ]
  },
  {
   "cell_type": "code",
   "execution_count": 11,
   "metadata": {},
   "outputs": [
    {
     "data": {},
     "execution_count": 11,
     "metadata": {},
     "output_type": "execute_result"
    }
   ],
   "source": [
    "Root.render(s)"
   ]
  },
  {
   "cell_type": "markdown",
   "metadata": {},
   "source": [
    "![](root/root.png)"
   ]
  }
 ],
 "metadata": {
  "@webio": {
   "lastCommId": null,
   "lastKernelId": null
  },
  "kernelspec": {
   "display_name": "Julia 1.5.3",
   "language": "julia",
   "name": "julia-1.5"
  },
  "language_info": {
   "file_extension": ".jl",
   "mimetype": "application/julia",
   "name": "julia",
   "version": "1.5.3"
  }
 },
 "nbformat": 4,
 "nbformat_minor": 4
}
