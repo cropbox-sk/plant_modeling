{
 "cells": [
  {
   "cell_type": "markdown",
   "metadata": {},
   "source": [
    "# Lab 01"
   ]
  },
  {
   "cell_type": "markdown",
   "metadata": {},
   "source": [
    "## 1. Julia"
   ]
  },
  {
   "cell_type": "markdown",
   "metadata": {},
   "source": [
    "[Julia](https://julialang.org) is a programming language designed for scientific computing in mind. It is a dynamic programming language convenient as Python and R, but also provides good performance and extensibility as C/C++ and Fortran. Students may start learning Julia by following [the official website](https://julialang.org/learning/). We also have external materials for [Introduction to Julia](https://juliaacademy.com/p/intro-to-julia) provided in `Unit_01` folder."
   ]
  },
  {
   "cell_type": "markdown",
   "metadata": {},
   "source": [
    "### Expression"
   ]
  },
  {
   "cell_type": "markdown",
   "metadata": {},
   "source": [
    "Variable `a` is defined with a value `1`."
   ]
  },
  {
   "cell_type": "code",
   "execution_count": 1,
   "metadata": {},
   "outputs": [
    {
     "data": {
      "text/plain": [
       "1"
      ]
     },
     "execution_count": 1,
     "metadata": {},
     "output_type": "execute_result"
    }
   ],
   "source": [
    "a = 1"
   ]
  },
  {
   "cell_type": "markdown",
   "metadata": {},
   "source": [
    "Here is a simple expression working with the variable `a`."
   ]
  },
  {
   "cell_type": "code",
   "execution_count": 2,
   "metadata": {},
   "outputs": [
    {
     "data": {
      "text/plain": [
       "2"
      ]
     },
     "execution_count": 2,
     "metadata": {},
     "output_type": "execute_result"
    }
   ],
   "source": [
    "a + 1"
   ]
  },
  {
   "cell_type": "markdown",
   "metadata": {},
   "source": [
    "### Function"
   ]
  },
  {
   "cell_type": "markdown",
   "metadata": {},
   "source": [
    "Function can be defined by `function` block."
   ]
  },
  {
   "cell_type": "code",
   "execution_count": 3,
   "metadata": {},
   "outputs": [
    {
     "data": {
      "text/plain": [
       "f (generic function with 1 method)"
      ]
     },
     "execution_count": 3,
     "metadata": {},
     "output_type": "execute_result"
    }
   ],
   "source": [
    "function f(x)\n",
    "    return 2*x\n",
    "end"
   ]
  },
  {
   "cell_type": "markdown",
   "metadata": {},
   "source": [
    "Alternatively, a simple syntax can be also used."
   ]
  },
  {
   "cell_type": "code",
   "execution_count": 4,
   "metadata": {},
   "outputs": [
    {
     "data": {
      "text/plain": [
       "f (generic function with 1 method)"
      ]
     },
     "execution_count": 4,
     "metadata": {},
     "output_type": "execute_result"
    }
   ],
   "source": [
    "f(x) = 2x"
   ]
  },
  {
   "cell_type": "markdown",
   "metadata": {},
   "source": [
    "Here we call function `f(x)` with a single argument `2` mapped to `x`."
   ]
  },
  {
   "cell_type": "code",
   "execution_count": 5,
   "metadata": {},
   "outputs": [
    {
     "data": {
      "text/plain": [
       "4"
      ]
     },
     "execution_count": 5,
     "metadata": {},
     "output_type": "execute_result"
    }
   ],
   "source": [
    "f(2)"
   ]
  },
  {
   "cell_type": "markdown",
   "metadata": {},
   "source": [
    "There are two types of function arguments: positional and keyword."
   ]
  },
  {
   "cell_type": "code",
   "execution_count": 6,
   "metadata": {},
   "outputs": [
    {
     "data": {
      "text/plain": [
       "g (generic function with 1 method)"
      ]
     },
     "execution_count": 6,
     "metadata": {},
     "output_type": "execute_result"
    }
   ],
   "source": [
    "g(x, y; a, b) = (x + 2y) * (3a + 4b)"
   ]
  },
  {
   "cell_type": "markdown",
   "metadata": {},
   "source": [
    "Here, function `g()` has positional arguments `x`, `y` and keyword arguments `a` and `b`. Values of positional arguments are mapped by their positions whereas mapping of keyword arguments are determined by the name of keywords in front of the value."
   ]
  },
  {
   "cell_type": "code",
   "execution_count": 7,
   "metadata": {},
   "outputs": [
    {
     "data": {
      "text/plain": [
       "125"
      ]
     },
     "execution_count": 7,
     "metadata": {},
     "output_type": "execute_result"
    }
   ],
   "source": [
    "g(1, 2; a = 3, b = 4)"
   ]
  },
  {
   "cell_type": "markdown",
   "metadata": {},
   "source": [
    "Keyword arguments are placed after `;` and the order of between keyword arguments are not important."
   ]
  },
  {
   "cell_type": "code",
   "execution_count": 8,
   "metadata": {},
   "outputs": [
    {
     "data": {
      "text/plain": [
       "125"
      ]
     },
     "execution_count": 8,
     "metadata": {},
     "output_type": "execute_result"
    }
   ],
   "source": [
    "g(1, 2; b = 4, a = 3)"
   ]
  },
  {
   "cell_type": "markdown",
   "metadata": {},
   "source": [
    "In some cases, `,` can be used instead of `;`, but it'd be recommended to keep using `;` for clarity."
   ]
  },
  {
   "cell_type": "code",
   "execution_count": 9,
   "metadata": {},
   "outputs": [
    {
     "data": {
      "text/plain": [
       "125"
      ]
     },
     "execution_count": 9,
     "metadata": {},
     "output_type": "execute_result"
    }
   ],
   "source": [
    "g(1, 2, a = 3, b = 4)"
   ]
  },
  {
   "cell_type": "markdown",
   "metadata": {},
   "source": [
    "For example, automatic binding of existing variables as keyword arguments is only allowed when `;` is used."
   ]
  },
  {
   "cell_type": "code",
   "execution_count": 10,
   "metadata": {},
   "outputs": [
    {
     "data": {
      "text/plain": [
       "125"
      ]
     },
     "execution_count": 10,
     "metadata": {},
     "output_type": "execute_result"
    }
   ],
   "source": [
    "a = 3\n",
    "b = 4\n",
    "g(1, 2; a, b)"
   ]
  },
  {
   "cell_type": "markdown",
   "metadata": {},
   "source": [
    "### Data Types"
   ]
  },
  {
   "cell_type": "markdown",
   "metadata": {},
   "source": [
    "Julia supports many built-in types which are going to be building blocks for our own data structure."
   ]
  },
  {
   "cell_type": "markdown",
   "metadata": {},
   "source": [
    "#### Integers"
   ]
  },
  {
   "cell_type": "markdown",
   "metadata": {},
   "source": [
    "`Int` is an alias for the default type of signed integer depending on the system (*i.e.* `Int64` for 64-bit)."
   ]
  },
  {
   "cell_type": "code",
   "execution_count": 11,
   "metadata": {},
   "outputs": [
    {
     "data": {
      "text/plain": [
       "Int64"
      ]
     },
     "execution_count": 11,
     "metadata": {},
     "output_type": "execute_result"
    }
   ],
   "source": [
    "Int"
   ]
  },
  {
   "cell_type": "code",
   "execution_count": 12,
   "metadata": {},
   "outputs": [
    {
     "data": {
      "text/plain": [
       "1"
      ]
     },
     "execution_count": 12,
     "metadata": {},
     "output_type": "execute_result"
    }
   ],
   "source": [
    "vi = 1"
   ]
  },
  {
   "cell_type": "code",
   "execution_count": 13,
   "metadata": {},
   "outputs": [
    {
     "data": {
      "text/plain": [
       "Int64"
      ]
     },
     "execution_count": 13,
     "metadata": {},
     "output_type": "execute_result"
    }
   ],
   "source": [
    "typeof(vi)"
   ]
  },
  {
   "cell_type": "markdown",
   "metadata": {},
   "source": [
    "#### Floating-point Numbers"
   ]
  },
  {
   "cell_type": "markdown",
   "metadata": {},
   "source": [
    "On 64-bit systems, `Float64` is the default type for floating numbers. Note that there is no alias `Float`."
   ]
  },
  {
   "cell_type": "code",
   "execution_count": 14,
   "metadata": {},
   "outputs": [
    {
     "data": {
      "text/plain": [
       "1.0"
      ]
     },
     "execution_count": 14,
     "metadata": {},
     "output_type": "execute_result"
    }
   ],
   "source": [
    "vf = 1.0"
   ]
  },
  {
   "cell_type": "code",
   "execution_count": 15,
   "metadata": {},
   "outputs": [
    {
     "data": {
      "text/plain": [
       "Float64"
      ]
     },
     "execution_count": 15,
     "metadata": {},
     "output_type": "execute_result"
    }
   ],
   "source": [
    "typeof(vf)"
   ]
  },
  {
   "cell_type": "markdown",
   "metadata": {},
   "source": [
    "#### String"
   ]
  },
  {
   "cell_type": "markdown",
   "metadata": {},
   "source": [
    "String is a colletion of multiple characters. Use double quotes (`\"\"`) to construct a string."
   ]
  },
  {
   "cell_type": "code",
   "execution_count": 16,
   "metadata": {},
   "outputs": [
    {
     "data": {
      "text/plain": [
       "\"abc\""
      ]
     },
     "execution_count": 16,
     "metadata": {},
     "output_type": "execute_result"
    }
   ],
   "source": [
    "vs = \"abc\""
   ]
  },
  {
   "cell_type": "code",
   "execution_count": 17,
   "metadata": {},
   "outputs": [
    {
     "data": {
      "text/plain": [
       "String"
      ]
     },
     "execution_count": 17,
     "metadata": {},
     "output_type": "execute_result"
    }
   ],
   "source": [
    "typeof(vs)"
   ]
  },
  {
   "cell_type": "markdown",
   "metadata": {},
   "source": [
    "#### Symbol"
   ]
  },
  {
   "cell_type": "markdown",
   "metadata": {},
   "source": [
    "Symbol is often called an interned string. It can contain multiple characters like `string`, but only one copy of the string is stored internally. It is useful to indicate some pre-defined names such as names of variables. We'll see some examples in the tutorial later."
   ]
  },
  {
   "cell_type": "code",
   "execution_count": 18,
   "metadata": {},
   "outputs": [
    {
     "data": {
      "text/plain": [
       ":abc"
      ]
     },
     "execution_count": 18,
     "metadata": {},
     "output_type": "execute_result"
    }
   ],
   "source": [
    "vk = :abc"
   ]
  },
  {
   "cell_type": "code",
   "execution_count": 19,
   "metadata": {},
   "outputs": [
    {
     "data": {
      "text/plain": [
       "Symbol"
      ]
     },
     "execution_count": 19,
     "metadata": {},
     "output_type": "execute_result"
    }
   ],
   "source": [
    "typeof(vk)"
   ]
  },
  {
   "cell_type": "markdown",
   "metadata": {},
   "source": [
    "#### Tuple"
   ]
  },
  {
   "cell_type": "markdown",
   "metadata": {},
   "source": [
    "Tuple is a collection of arbitrary number of elements with any types. Note that positional arguments of functions are internally based on tuples."
   ]
  },
  {
   "cell_type": "code",
   "execution_count": 20,
   "metadata": {},
   "outputs": [
    {
     "data": {
      "text/plain": [
       "(1, 2)"
      ]
     },
     "execution_count": 20,
     "metadata": {},
     "output_type": "execute_result"
    }
   ],
   "source": [
    "vt = (1, 2)"
   ]
  },
  {
   "cell_type": "code",
   "execution_count": 21,
   "metadata": {},
   "outputs": [
    {
     "data": {
      "text/plain": [
       "Tuple{Int64, Int64}"
      ]
     },
     "execution_count": 21,
     "metadata": {},
     "output_type": "execute_result"
    }
   ],
   "source": [
    "typeof(vt)"
   ]
  },
  {
   "cell_type": "markdown",
   "metadata": {},
   "source": [
    "#### Named Tuple"
   ]
  },
  {
   "cell_type": "markdown",
   "metadata": {},
   "source": [
    "Named tuples are like tuples, but their components have associated names. Keyword arguments of functions are based on named tuples."
   ]
  },
  {
   "cell_type": "code",
   "execution_count": 22,
   "metadata": {},
   "outputs": [
    {
     "data": {
      "text/plain": [
       "(a = 1, b = 2)"
      ]
     },
     "execution_count": 22,
     "metadata": {},
     "output_type": "execute_result"
    }
   ],
   "source": [
    "vn = (a = 1, b = 2)"
   ]
  },
  {
   "cell_type": "code",
   "execution_count": 23,
   "metadata": {},
   "outputs": [
    {
     "data": {
      "text/plain": [
       "NamedTuple{(:a, :b), Tuple{Int64, Int64}}"
      ]
     },
     "execution_count": 23,
     "metadata": {},
     "output_type": "execute_result"
    }
   ],
   "source": [
    "typeof(vn)"
   ]
  },
  {
   "cell_type": "markdown",
   "metadata": {},
   "source": [
    "#### Composite Type"
   ]
  },
  {
   "cell_type": "markdown",
   "metadata": {},
   "source": [
    "Composite type, often called struct or object in other languages, is a collection of multiple fields."
   ]
  },
  {
   "cell_type": "code",
   "execution_count": 24,
   "metadata": {},
   "outputs": [],
   "source": [
    "struct MyType\n",
    "    a\n",
    "    b\n",
    "end"
   ]
  },
  {
   "cell_type": "markdown",
   "metadata": {},
   "source": [
    "By default, a composite type can be constructed by calling the type name as a function with field values as arguments."
   ]
  },
  {
   "cell_type": "code",
   "execution_count": 25,
   "metadata": {},
   "outputs": [
    {
     "data": {
      "text/plain": [
       "MyType(1, 2)"
      ]
     },
     "execution_count": 25,
     "metadata": {},
     "output_type": "execute_result"
    }
   ],
   "source": [
    "m = MyType(1, 2)"
   ]
  },
  {
   "cell_type": "markdown",
   "metadata": {},
   "source": [
    "Individual fields can be accessed by using a property accessor (`.`)."
   ]
  },
  {
   "cell_type": "code",
   "execution_count": 26,
   "metadata": {},
   "outputs": [
    {
     "data": {
      "text/plain": [
       "1"
      ]
     },
     "execution_count": 26,
     "metadata": {},
     "output_type": "execute_result"
    }
   ],
   "source": [
    "m.a"
   ]
  },
  {
   "cell_type": "code",
   "execution_count": 27,
   "metadata": {},
   "outputs": [
    {
     "data": {
      "text/plain": [
       "2"
      ]
     },
     "execution_count": 27,
     "metadata": {},
     "output_type": "execute_result"
    }
   ],
   "source": [
    "m.b"
   ]
  },
  {
   "cell_type": "markdown",
   "metadata": {},
   "source": [
    "### Data Structures"
   ]
  },
  {
   "cell_type": "markdown",
   "metadata": {},
   "source": [
    "There are many useful data structures provided by standard Julia library which are used extensively in Cropbox modeling framework."
   ]
  },
  {
   "cell_type": "markdown",
   "metadata": {},
   "source": [
    "#### Pair"
   ]
  },
  {
   "cell_type": "markdown",
   "metadata": {},
   "source": [
    "`Pair` is a collection of two elements, key and value, stored in a composite type. A nice syntax using `=>` is often used for constructing a pair object."
   ]
  },
  {
   "cell_type": "code",
   "execution_count": 28,
   "metadata": {},
   "outputs": [
    {
     "data": {
      "text/plain": [
       ":a => 1"
      ]
     },
     "execution_count": 28,
     "metadata": {},
     "output_type": "execute_result"
    }
   ],
   "source": [
    "vp = :a => 1"
   ]
  },
  {
   "cell_type": "code",
   "execution_count": 29,
   "metadata": {},
   "outputs": [
    {
     "data": {
      "text/plain": [
       ":a => 1"
      ]
     },
     "execution_count": 29,
     "metadata": {},
     "output_type": "execute_result"
    }
   ],
   "source": [
    "Pair(:a, 1)"
   ]
  },
  {
   "cell_type": "code",
   "execution_count": 30,
   "metadata": {
    "scrolled": true
   },
   "outputs": [
    {
     "data": {
      "text/plain": [
       "Pair{Symbol, Int64}"
      ]
     },
     "execution_count": 30,
     "metadata": {},
     "output_type": "execute_result"
    }
   ],
   "source": [
    "typeof(vp)"
   ]
  },
  {
   "cell_type": "markdown",
   "metadata": {},
   "source": [
    "#### Vector"
   ]
  },
  {
   "cell_type": "markdown",
   "metadata": {},
   "source": [
    "`Vector` is 1-dimensional `Array` which is a collection of multiple elements with the same type. A nice syntax using brackets (`[..]`) is often used for constructing a vector object."
   ]
  },
  {
   "cell_type": "code",
   "execution_count": 31,
   "metadata": {},
   "outputs": [
    {
     "data": {
      "text/plain": [
       "3-element Vector{Int64}:\n",
       " 1\n",
       " 2\n",
       " 3"
      ]
     },
     "execution_count": 31,
     "metadata": {},
     "output_type": "execute_result"
    }
   ],
   "source": [
    "vv = [1, 2, 3]"
   ]
  },
  {
   "cell_type": "code",
   "execution_count": 32,
   "metadata": {},
   "outputs": [
    {
     "data": {
      "text/plain": [
       "Vector{Int64} (alias for Array{Int64, 1})"
      ]
     },
     "execution_count": 32,
     "metadata": {},
     "output_type": "execute_result"
    }
   ],
   "source": [
    "typeof(vv)"
   ]
  },
  {
   "cell_type": "markdown",
   "metadata": {},
   "source": [
    "The type of vector elements may be explicitly given."
   ]
  },
  {
   "cell_type": "code",
   "execution_count": 33,
   "metadata": {},
   "outputs": [
    {
     "data": {
      "text/plain": [
       "3-element Vector{Float64}:\n",
       " 1.0\n",
       " 2.0\n",
       " 3.0"
      ]
     },
     "execution_count": 33,
     "metadata": {},
     "output_type": "execute_result"
    }
   ],
   "source": [
    "vvf = Float64[1, 2, 3]"
   ]
  },
  {
   "cell_type": "code",
   "execution_count": 34,
   "metadata": {},
   "outputs": [
    {
     "data": {
      "text/plain": [
       "Vector{Float64} (alias for Array{Float64, 1})"
      ]
     },
     "execution_count": 34,
     "metadata": {},
     "output_type": "execute_result"
    }
   ],
   "source": [
    "typeof(vvf)"
   ]
  },
  {
   "cell_type": "markdown",
   "metadata": {},
   "source": [
    "### Macros"
   ]
  },
  {
   "cell_type": "markdown",
   "metadata": {},
   "source": [
    "Macros are functions generating code. For example, `@show` macro returns an expression to print out the content of variable."
   ]
  },
  {
   "cell_type": "code",
   "execution_count": 35,
   "metadata": {},
   "outputs": [
    {
     "name": "stdout",
     "output_type": "stream",
     "text": [
      "a = 3\n"
     ]
    },
    {
     "data": {
      "text/plain": [
       "3"
      ]
     },
     "execution_count": 35,
     "metadata": {},
     "output_type": "execute_result"
    }
   ],
   "source": [
    "@show a"
   ]
  },
  {
   "cell_type": "markdown",
   "metadata": {},
   "source": [
    "We can take a look at the expression generated by this macro."
   ]
  },
  {
   "cell_type": "code",
   "execution_count": 36,
   "metadata": {},
   "outputs": [
    {
     "data": {
      "text/plain": [
       "quote\n",
       "    Base.println(\"a = \", Base.repr(begin\n",
       "                #= show.jl:955 =#\n",
       "                local var\"#118#value\" = a\n",
       "            end))\n",
       "    var\"#118#value\"\n",
       "end"
      ]
     },
     "execution_count": 36,
     "metadata": {},
     "output_type": "execute_result"
    }
   ],
   "source": [
    "@macroexpand @show a"
   ]
  },
  {
   "cell_type": "markdown",
   "metadata": {},
   "source": [
    "What `@show a` generates in this case is basically close to the code below."
   ]
  },
  {
   "cell_type": "code",
   "execution_count": 37,
   "metadata": {},
   "outputs": [
    {
     "name": "stdout",
     "output_type": "stream",
     "text": [
      "a = 3\n"
     ]
    },
    {
     "data": {
      "text/plain": [
       "3"
      ]
     },
     "execution_count": 37,
     "metadata": {},
     "output_type": "execute_result"
    }
   ],
   "source": [
    "println(\"a = \", repr(a))\n",
    "a"
   ]
  },
  {
   "cell_type": "markdown",
   "metadata": {},
   "source": [
    "Such an ability to generate code on the fly is what drives our modeling framework which we'll use throughout this course."
   ]
  },
  {
   "cell_type": "markdown",
   "metadata": {},
   "source": [
    "## 2. Cropbox"
   ]
  },
  {
   "cell_type": "markdown",
   "metadata": {},
   "source": [
    "[Cropbox](https://github.com/tomyun/Cropbox.jl) is a modeling framework we're building in our research group to support development of crop models."
   ]
  },
  {
   "cell_type": "markdown",
   "metadata": {},
   "source": [
    "### Model Specification"
   ]
  },
  {
   "cell_type": "markdown",
   "metadata": {},
   "source": [
    "We now start using Cropbox framework to make a very simple exponential growth model adapted from an example introduced in the manual of [Fortran Simulation Translator](https://library.wur.nl/WebQuery/wurpubs/302463) which used to be an underlying framework for many early crop models."
   ]
  },
  {
   "cell_type": "code",
   "execution_count": 38,
   "metadata": {},
   "outputs": [],
   "source": [
    "using Cropbox"
   ]
  },
  {
   "cell_type": "markdown",
   "metadata": {},
   "source": [
    "Here is the original equation of the model. Initial value of $x$ is 1.\n",
    "\n",
    "$$\\frac{dx}{dt} = ax$$"
   ]
  },
  {
   "cell_type": "markdown",
   "metadata": {},
   "source": [
    "We now represent this model in a **system** named `S` which contains the state variable `x` and other supporting variables."
   ]
  },
  {
   "cell_type": "code",
   "execution_count": 39,
   "metadata": {
    "scrolled": true
   },
   "outputs": [
    {
     "data": {
      "text/plain": [
       "S"
      ]
     },
     "execution_count": 39,
     "metadata": {},
     "output_type": "execute_result"
    }
   ],
   "source": [
    "@system S(Controller) begin\n",
    "    i => 1 ~ preserve\n",
    "    a => 0.1 ~ preserve(parameter)\n",
    "    r(a, x) => a*x ~ track\n",
    "    x(r) ~ accumulate(init = i)\n",
    "end"
   ]
  },
  {
   "cell_type": "markdown",
   "metadata": {},
   "source": [
    "Here we declared four variables.\n",
    "- `i`: variable containing initial value of `x` which never changes (*preserved*)\n",
    "- `a`: variable containing constant **parameter** of exponential growth\n",
    "- `r`: rate variable which needs to be calculated or *tracked* every time step\n",
    "- `x`: state variable which *accumulates* by rate `r` over time with initial value `i`"
   ]
  },
  {
   "cell_type": "markdown",
   "metadata": {},
   "source": [
    "We can visualize dependency graph between variables defined in our system `S` by using some internal functions provided by the framework."
   ]
  },
  {
   "cell_type": "code",
   "execution_count": 40,
   "metadata": {},
   "outputs": [
    {
     "data": {
      "image/svg+xml": [
       "<?xml version=\"1.0\" encoding=\"UTF-8\" standalone=\"no\"?>\n",
       "<!DOCTYPE svg PUBLIC \"-//W3C//DTD SVG 1.1//EN\"\n",
       " \"http://www.w3.org/Graphics/SVG/1.1/DTD/svg11.dtd\">\n",
       "<!-- Generated by graphviz version 2.49.0 (20210829.0051)\n",
       " -->\n",
       "<!-- Pages: 1 -->\n",
       "<svg width=\"497pt\" height=\"190pt\"\n",
       " viewBox=\"0.00 0.00 496.88 190.00\" xmlns=\"http://www.w3.org/2000/svg\" xmlns:xlink=\"http://www.w3.org/1999/xlink\">\n",
       "<g id=\"graph0\" class=\"graph\" transform=\"scale(1 1) rotate(0) translate(4 186)\">\n",
       "<polygon fill=\"white\" stroke=\"transparent\" points=\"-4,4 -4,-186 492.88,-186 492.88,4 -4,4\"/>\n",
       "<!-- 1 -->\n",
       "<g id=\"node1\" class=\"node\">\n",
       "<title>1</title>\n",
       "<text text-anchor=\"middle\" x=\"179\" y=\"-144.8\" font-family=\"Courier,monospace\" font-size=\"9.00\">∘context</text>\n",
       "</g>\n",
       "<!-- 2 -->\n",
       "<g id=\"node2\" class=\"node\">\n",
       "<title>2</title>\n",
       "<text text-anchor=\"middle\" x=\"179\" y=\"-116.8\" font-family=\"Courier,monospace\" font-size=\"9.00\">context</text>\n",
       "</g>\n",
       "<!-- 1&#45;&gt;2 -->\n",
       "<g id=\"edge1\" class=\"edge\">\n",
       "<title>1&#45;&gt;2</title>\n",
       "<path fill=\"none\" stroke=\"black\" stroke-width=\"0.2\" d=\"M179,-139.97C179,-136.53 179,-132.16 179,-128.39\"/>\n",
       "<polygon fill=\"black\" stroke=\"black\" stroke-width=\"0.2\" points=\"179.7,-128.36 179,-126.36 178.3,-128.36 179.7,-128.36\"/>\n",
       "</g>\n",
       "<!-- 3 -->\n",
       "<g id=\"node3\" class=\"node\">\n",
       "<title>3</title>\n",
       "<text text-anchor=\"middle\" x=\"179\" y=\"-4.8\" font-family=\"Courier,monospace\" font-size=\"9.00\">⋆context</text>\n",
       "</g>\n",
       "<!-- 2&#45;&gt;3 -->\n",
       "<g id=\"edge2\" class=\"edge\">\n",
       "<title>2&#45;&gt;3</title>\n",
       "<path fill=\"none\" stroke=\"black\" stroke-width=\"0.2\" d=\"M179,-111.77C179,-93.09 179,-37.53 179,-16.34\"/>\n",
       "<polygon fill=\"black\" stroke=\"black\" stroke-width=\"0.2\" points=\"179.7,-16.16 179,-14.16 178.3,-16.16 179.7,-16.16\"/>\n",
       "</g>\n",
       "<!-- 8 -->\n",
       "<g id=\"node8\" class=\"node\">\n",
       "<title>8</title>\n",
       "<text text-anchor=\"middle\" x=\"357\" y=\"-88.8\" font-family=\"Courier,monospace\" font-size=\"9.00\">x</text>\n",
       "</g>\n",
       "<!-- 2&#45;&gt;8 -->\n",
       "<g id=\"edge3\" class=\"edge\">\n",
       "<title>2&#45;&gt;8</title>\n",
       "<path fill=\"none\" stroke=\"black\" stroke-width=\"0.2\" d=\"M199.77,-114.97C239.39,-109.18 324.11,-96.8 349.6,-93.08\"/>\n",
       "<polygon fill=\"black\" stroke=\"black\" stroke-width=\"0.2\" points=\"350,-93.73 351.87,-92.75 349.79,-92.35 350,-93.73\"/>\n",
       "</g>\n",
       "<!-- 9 -->\n",
       "<g id=\"node9\" class=\"node\">\n",
       "<title>9</title>\n",
       "<text text-anchor=\"middle\" x=\"357\" y=\"-32.8\" font-family=\"Courier,monospace\" font-size=\"9.00\">⋆x</text>\n",
       "</g>\n",
       "<!-- 2&#45;&gt;9 -->\n",
       "<g id=\"edge4\" class=\"edge\">\n",
       "<title>2&#45;&gt;9</title>\n",
       "<path fill=\"none\" stroke=\"black\" stroke-width=\"0.2\" d=\"M192.09,-111.97C226.27,-96.22 317.65,-54.13 347.45,-40.4\"/>\n",
       "<polygon fill=\"black\" stroke=\"black\" stroke-width=\"0.2\" points=\"347.97,-40.93 349.49,-39.46 347.38,-39.66 347.97,-40.93\"/>\n",
       "</g>\n",
       "<!-- 4 -->\n",
       "<g id=\"node4\" class=\"node\">\n",
       "<title>4</title>\n",
       "<text text-anchor=\"middle\" x=\"179\" y=\"-172.8\" font-family=\"Courier,monospace\" font-size=\"9.00\">config</text>\n",
       "</g>\n",
       "<!-- 4&#45;&gt;1 -->\n",
       "<g id=\"edge5\" class=\"edge\">\n",
       "<title>4&#45;&gt;1</title>\n",
       "<path fill=\"none\" stroke=\"black\" stroke-width=\"0.2\" d=\"M179,-167.97C179,-164.53 179,-160.16 179,-156.39\"/>\n",
       "<polygon fill=\"black\" stroke=\"black\" stroke-width=\"0.2\" points=\"179.7,-156.36 179,-154.36 178.3,-156.36 179.7,-156.36\"/>\n",
       "</g>\n",
       "<!-- 4&#45;&gt;3 -->\n",
       "<g id=\"edge6\" class=\"edge\">\n",
       "<title>4&#45;&gt;3</title>\n",
       "<path fill=\"none\" stroke=\"black\" stroke-width=\"0.2\" d=\"M160.85,-172.42C115.34,-167.96 0,-153.35 0,-120 0,-120 0,-120 0,-62 0,-30.38 103.65,-15.62 153.2,-10.36\"/>\n",
       "<polygon fill=\"black\" stroke=\"black\" stroke-width=\"0.2\" points=\"153.31,-11.05 155.23,-10.15 153.17,-9.66 153.31,-11.05\"/>\n",
       "</g>\n",
       "<!-- 6 -->\n",
       "<g id=\"node6\" class=\"node\">\n",
       "<title>6</title>\n",
       "<text text-anchor=\"middle\" x=\"430\" y=\"-88.8\" font-family=\"Courier,monospace\" font-size=\"9.00\">a</text>\n",
       "</g>\n",
       "<!-- 4&#45;&gt;6 -->\n",
       "<g id=\"edge7\" class=\"edge\">\n",
       "<title>4&#45;&gt;6</title>\n",
       "<path fill=\"none\" stroke=\"black\" stroke-width=\"0.2\" d=\"M197.05,-168.1C247.55,-151.61 388.76,-105.47 422.63,-94.41\"/>\n",
       "<polygon fill=\"black\" stroke=\"black\" stroke-width=\"0.2\" points=\"423.2,-94.96 424.88,-93.67 422.76,-93.63 423.2,-94.96\"/>\n",
       "</g>\n",
       "<!-- 5 -->\n",
       "<g id=\"node5\" class=\"node\">\n",
       "<title>5</title>\n",
       "<text text-anchor=\"middle\" x=\"477\" y=\"-116.8\" font-family=\"Courier,monospace\" font-size=\"9.00\">i</text>\n",
       "</g>\n",
       "<!-- 5&#45;&gt;8 -->\n",
       "<g id=\"edge8\" class=\"edge\">\n",
       "<title>5&#45;&gt;8</title>\n",
       "<path fill=\"none\" stroke=\"black\" stroke-width=\"0.2\" d=\"M471.84,-116.88C452.72,-112.74 385.84,-98.25 363.98,-93.51\"/>\n",
       "<polygon fill=\"black\" stroke=\"black\" stroke-width=\"0.2\" points=\"364.11,-92.82 362,-93.08 363.81,-94.19 364.11,-92.82\"/>\n",
       "</g>\n",
       "<!-- 5&#45;&gt;9 -->\n",
       "<g id=\"edge9\" class=\"edge\">\n",
       "<title>5&#45;&gt;9</title>\n",
       "<path fill=\"none\" stroke=\"black\" stroke-width=\"0.2\" d=\"M476.07,-111.78C473.85,-99.17 467,-70.56 449,-56 424.58,-36.24 384.97,-34.88 366.75,-35.43\"/>\n",
       "<polygon fill=\"black\" stroke=\"black\" stroke-width=\"0.2\" points=\"366.61,-34.73 364.63,-35.5 366.66,-36.13 366.61,-34.73\"/>\n",
       "</g>\n",
       "<!-- 7 -->\n",
       "<g id=\"node7\" class=\"node\">\n",
       "<title>7</title>\n",
       "<text text-anchor=\"middle\" x=\"435\" y=\"-60.8\" font-family=\"Courier,monospace\" font-size=\"9.00\">r</text>\n",
       "</g>\n",
       "<!-- 6&#45;&gt;7 -->\n",
       "<g id=\"edge10\" class=\"edge\">\n",
       "<title>6&#45;&gt;7</title>\n",
       "<path fill=\"none\" stroke=\"black\" stroke-width=\"0.2\" d=\"M431.16,-83.97C431.82,-80.53 432.66,-76.16 433.39,-72.39\"/>\n",
       "<polygon fill=\"black\" stroke=\"black\" stroke-width=\"0.2\" points=\"434.09,-72.46 433.78,-70.36 432.71,-72.19 434.09,-72.46\"/>\n",
       "</g>\n",
       "<!-- 7&#45;&gt;9 -->\n",
       "<g id=\"edge11\" class=\"edge\">\n",
       "<title>7&#45;&gt;9</title>\n",
       "<path fill=\"none\" stroke=\"black\" stroke-width=\"0.2\" d=\"M429.88,-60.29C417.12,-56.04 383.68,-44.89 366.91,-39.3\"/>\n",
       "<polygon fill=\"black\" stroke=\"black\" stroke-width=\"0.2\" points=\"367.06,-38.62 364.94,-38.65 366.62,-39.94 367.06,-38.62\"/>\n",
       "</g>\n",
       "<!-- 8&#45;&gt;3 -->\n",
       "<g id=\"edge12\" class=\"edge\">\n",
       "<title>8&#45;&gt;3</title>\n",
       "<path fill=\"none\" stroke=\"black\" stroke-width=\"0.2\" d=\"M351.86,-87.63C328.56,-76.9 232.24,-32.53 194.38,-15.09\"/>\n",
       "<polygon fill=\"black\" stroke=\"black\" stroke-width=\"0.2\" points=\"194.3,-14.28 192.19,-14.08 193.71,-15.55 194.3,-14.28\"/>\n",
       "</g>\n",
       "<!-- 8&#45;&gt;7 -->\n",
       "<g id=\"edge13\" class=\"edge\">\n",
       "<title>8&#45;&gt;7</title>\n",
       "<path fill=\"none\" stroke=\"black\" stroke-width=\"0.2\" d=\"M362.12,-88.29C375.56,-83.81 411.89,-71.7 427.6,-66.47\"/>\n",
       "<polygon fill=\"black\" stroke=\"black\" stroke-width=\"0.2\" points=\"428.09,-67.04 429.76,-65.75 427.64,-65.71 428.09,-67.04\"/>\n",
       "</g>\n",
       "<!-- 8&#45;&gt;9 -->\n",
       "<g id=\"edge14\" class=\"edge\">\n",
       "<title>8&#45;&gt;9</title>\n",
       "<path fill=\"none\" stroke=\"black\" stroke-width=\"0.2\" d=\"M357,-83.81C357,-74.04 357,-55.06 357,-44.18\"/>\n",
       "<polygon fill=\"black\" stroke=\"black\" stroke-width=\"0.2\" points=\"357.7,-44.12 357,-42.12 356.3,-44.12 357.7,-44.12\"/>\n",
       "</g>\n",
       "<!-- 9&#45;&gt;3 -->\n",
       "<g id=\"edge15\" class=\"edge\">\n",
       "<title>9&#45;&gt;3</title>\n",
       "<path fill=\"none\" stroke=\"black\" stroke-width=\"0.2\" d=\"M349.35,-32.88C324.69,-29.28 246.47,-17.86 205.15,-11.82\"/>\n",
       "<polygon fill=\"black\" stroke=\"black\" stroke-width=\"0.2\" points=\"204.81,-11.06 202.73,-11.47 204.61,-12.45 204.81,-11.06\"/>\n",
       "</g>\n",
       "</g>\n",
       "</svg>\n"
      ],
      "text/plain": [
       "\u001b[90m[\u001b[39m\u001b[94mi\u001b[39m\u001b[90m → \u001b[39m\u001b[94mconfig\u001b[39m\u001b[90m → \u001b[39m\u001b[94ma\u001b[39m\u001b[90m → \u001b[39m\u001b[94m∘context\u001b[39m\u001b[90m → \u001b[39m\u001b[94mcontext\u001b[39m\u001b[90m → \u001b[39m\u001b[94mx\u001b[39m\u001b[90m → \u001b[39m\u001b[94mr\u001b[39m\u001b[90m → \u001b[39m\u001b[94m⋆x\u001b[39m\u001b[90m → \u001b[39m\u001b[94m⋆context\u001b[39m\u001b[90m]\u001b[39m"
      ]
     },
     "execution_count": 40,
     "metadata": {},
     "output_type": "execute_result"
    }
   ],
   "source": [
    "Cropbox.dependency(S)"
   ]
  },
  {
   "cell_type": "markdown",
   "metadata": {},
   "source": [
    "For example, it's clear to see `r` depends on two variables `x` and `a`. There are some auxiliary nodes (prefixed with $\\circ$/$\\star$) and implicit variables (*i.e.* `config`, `context`) not declared in our model specification and we will discuss them later."
   ]
  },
  {
   "cell_type": "markdown",
   "metadata": {},
   "source": [
    "### Model Simulation"
   ]
  },
  {
   "cell_type": "markdown",
   "metadata": {},
   "source": [
    "Let's run the model for simulation. While you can directly instantiate your model by calling `instance(S)`, here we  will use a helper function `simulate()` for simplicity. It will internally instantiate the model, update it for a given number of iterations and return the result packed in a `DataFrame`. By default, columns will include `tick` variable from internal `Clock` and all state variables defined in the target system."
   ]
  },
  {
   "cell_type": "code",
   "execution_count": 41,
   "metadata": {},
   "outputs": [
    {
     "name": "stderr",
     "output_type": "stream",
     "text": [
      "\u001b[32mProgress: 100%[===========================] Time: 0:00:01 ( 0.15  s/it)\u001b[39m\n"
     ]
    },
    {
     "data": {
      "text/html": [
       "<div class=\"data-frame\"><p>11 rows × 5 columns</p><table class=\"data-frame\"><thead><tr><th></th><th>time</th><th>i</th><th>a</th><th>r</th><th>x</th></tr><tr><th></th><th title=\"Unitful.Quantity{Float64, 𝐓, Unitful.FreeUnits{(hr,), 𝐓, nothing}}\">Quantit…</th><th title=\"Float64\">Float64</th><th title=\"Float64\">Float64</th><th title=\"Float64\">Float64</th><th title=\"Float64\">Float64</th></tr></thead><tbody><tr><th>1</th><td>0.0 hr</td><td>1.0</td><td>0.1</td><td>0.1</td><td>1.0</td></tr><tr><th>2</th><td>1.0 hr</td><td>1.0</td><td>0.1</td><td>0.11</td><td>1.1</td></tr><tr><th>3</th><td>2.0 hr</td><td>1.0</td><td>0.1</td><td>0.121</td><td>1.21</td></tr><tr><th>4</th><td>3.0 hr</td><td>1.0</td><td>0.1</td><td>0.1331</td><td>1.331</td></tr><tr><th>5</th><td>4.0 hr</td><td>1.0</td><td>0.1</td><td>0.14641</td><td>1.4641</td></tr><tr><th>6</th><td>5.0 hr</td><td>1.0</td><td>0.1</td><td>0.161051</td><td>1.61051</td></tr><tr><th>7</th><td>6.0 hr</td><td>1.0</td><td>0.1</td><td>0.177156</td><td>1.77156</td></tr><tr><th>8</th><td>7.0 hr</td><td>1.0</td><td>0.1</td><td>0.194872</td><td>1.94872</td></tr><tr><th>9</th><td>8.0 hr</td><td>1.0</td><td>0.1</td><td>0.214359</td><td>2.14359</td></tr><tr><th>10</th><td>9.0 hr</td><td>1.0</td><td>0.1</td><td>0.235795</td><td>2.35795</td></tr><tr><th>11</th><td>10.0 hr</td><td>1.0</td><td>0.1</td><td>0.259374</td><td>2.59374</td></tr></tbody></table></div>"
      ],
      "text/latex": [
       "\\begin{tabular}{r|ccccc}\n",
       "\t& time & i & a & r & x\\\\\n",
       "\t\\hline\n",
       "\t& Quantit… & Float64 & Float64 & Float64 & Float64\\\\\n",
       "\t\\hline\n",
       "\t1 & 0.0 hr & 1.0 & 0.1 & 0.1 & 1.0 \\\\\n",
       "\t2 & 1.0 hr & 1.0 & 0.1 & 0.11 & 1.1 \\\\\n",
       "\t3 & 2.0 hr & 1.0 & 0.1 & 0.121 & 1.21 \\\\\n",
       "\t4 & 3.0 hr & 1.0 & 0.1 & 0.1331 & 1.331 \\\\\n",
       "\t5 & 4.0 hr & 1.0 & 0.1 & 0.14641 & 1.4641 \\\\\n",
       "\t6 & 5.0 hr & 1.0 & 0.1 & 0.161051 & 1.61051 \\\\\n",
       "\t7 & 6.0 hr & 1.0 & 0.1 & 0.177156 & 1.77156 \\\\\n",
       "\t8 & 7.0 hr & 1.0 & 0.1 & 0.194872 & 1.94872 \\\\\n",
       "\t9 & 8.0 hr & 1.0 & 0.1 & 0.214359 & 2.14359 \\\\\n",
       "\t10 & 9.0 hr & 1.0 & 0.1 & 0.235795 & 2.35795 \\\\\n",
       "\t11 & 10.0 hr & 1.0 & 0.1 & 0.259374 & 2.59374 \\\\\n",
       "\\end{tabular}\n"
      ],
      "text/plain": [
       "\u001b[1m11×5 DataFrame\u001b[0m\n",
       "\u001b[1m Row \u001b[0m│\u001b[1m time      \u001b[0m\u001b[1m i       \u001b[0m\u001b[1m a       \u001b[0m\u001b[1m r        \u001b[0m\u001b[1m x       \u001b[0m\n",
       "\u001b[1m     \u001b[0m│\u001b[90m Quantity… \u001b[0m\u001b[90m Float64 \u001b[0m\u001b[90m Float64 \u001b[0m\u001b[90m Float64  \u001b[0m\u001b[90m Float64 \u001b[0m\n",
       "─────┼────────────────────────────────────────────────\n",
       "   1 │    0.0 hr      1.0      0.1  0.1       1.0\n",
       "   2 │    1.0 hr      1.0      0.1  0.11      1.1\n",
       "   3 │    2.0 hr      1.0      0.1  0.121     1.21\n",
       "   4 │    3.0 hr      1.0      0.1  0.1331    1.331\n",
       "   5 │    4.0 hr      1.0      0.1  0.14641   1.4641\n",
       "   6 │    5.0 hr      1.0      0.1  0.161051  1.61051\n",
       "   7 │    6.0 hr      1.0      0.1  0.177156  1.77156\n",
       "   8 │    7.0 hr      1.0      0.1  0.194872  1.94872\n",
       "   9 │    8.0 hr      1.0      0.1  0.214359  2.14359\n",
       "  10 │    9.0 hr      1.0      0.1  0.235795  2.35795\n",
       "  11 │   10.0 hr      1.0      0.1  0.259374  2.59374"
      ]
     },
     "execution_count": 41,
     "metadata": {},
     "output_type": "execute_result"
    }
   ],
   "source": [
    "r = simulate(S, stop = 10)"
   ]
  },
  {
   "cell_type": "markdown",
   "metadata": {},
   "source": [
    "Note that `tick` is in hourly units (`hr`) by default."
   ]
  },
  {
   "cell_type": "markdown",
   "metadata": {},
   "source": [
    "#### Plotting"
   ]
  },
  {
   "cell_type": "markdown",
   "metadata": {},
   "source": [
    "As the result is backed by [DataFrames.jl](https://github.com/JuliaData/DataFrames.jl), we can easily hand it off to other Julia packages for further analysis. Cropbox framework also provides a handy `plot()` function for simple visualization."
   ]
  },
  {
   "cell_type": "code",
   "execution_count": 42,
   "metadata": {},
   "outputs": [
    {
     "data": {
      "image/svg+xml": [
       "<?xml version=\"1.0\" encoding=\"UTF-8\"?>\n",
       "<svg xmlns=\"http://www.w3.org/2000/svg\"\n",
       "     xmlns:xlink=\"http://www.w3.org/1999/xlink\"\n",
       "     xmlns:gadfly=\"http://www.gadflyjl.org/ns\"\n",
       "     version=\"1.2\"\n",
       "     width=\"141.42mm\" height=\"100mm\" viewBox=\"0 0 141.42 100\"\n",
       "     stroke=\"none\"\n",
       "     fill=\"#000000\"\n",
       "     stroke-width=\"0.3\"\n",
       "     font-size=\"3.88\"\n",
       ">\n",
       "<defs>\n",
       "  <marker id=\"arrow\" markerWidth=\"15\" markerHeight=\"7\" refX=\"5\" refY=\"3.5\" orient=\"auto\" markerUnits=\"strokeWidth\">\n",
       "    <path d=\"M0,0 L15,3.5 L0,7 z\" stroke=\"context-stroke\" fill=\"context-stroke\"/>\n",
       "  </marker>\n",
       "</defs>\n",
       "<g stroke=\"#000000\" stroke-opacity=\"0.000\" fill=\"#FFFFFF\" id=\"img-99d2f227-1\">\n",
       "  <g transform=\"translate(70.71,50)\">\n",
       "    <path d=\"M-70.71,-50 L70.71,-50 70.71,50 -70.71,50  z\" class=\"primitive\"/>\n",
       "  </g>\n",
       "</g>\n",
       "<g class=\"plotroot xscalable yscalable\" id=\"img-99d2f227-2\">\n",
       "  <g font-size=\"3.53\" font-family=\"'PT Sans','Helvetica Neue','Helvetica',sans-serif\" fill=\"#564A55\" stroke=\"#000000\" stroke-opacity=\"0.000\" id=\"img-99d2f227-3\">\n",
       "    <g transform=\"translate(70.68,93.72)\">\n",
       "      <g class=\"primitive\">\n",
       "        <text text-anchor=\"middle\" dy=\"0.6em\">time (hr)</text>\n",
       "      </g>\n",
       "    </g>\n",
       "  </g>\n",
       "  <g class=\"guide xlabels\" font-size=\"2.82\" font-family=\"'PT Sans Caption','Helvetica Neue','Helvetica',sans-serif\" fill=\"#6C606B\" id=\"img-99d2f227-4\">\n",
       "    <g transform=\"translate(13.02,87.04)\">\n",
       "      <g class=\"primitive\">\n",
       "        <text text-anchor=\"middle\" dy=\"0.6em\">0</text>\n",
       "      </g>\n",
       "    </g>\n",
       "    <g transform=\"translate(70.68,87.04)\">\n",
       "      <g class=\"primitive\">\n",
       "        <text text-anchor=\"middle\" dy=\"0.6em\">5</text>\n",
       "      </g>\n",
       "    </g>\n",
       "    <g transform=\"translate(128.34,87.04)\">\n",
       "      <g class=\"primitive\">\n",
       "        <text text-anchor=\"middle\" dy=\"0.6em\">10</text>\n",
       "      </g>\n",
       "    </g>\n",
       "  </g>\n",
       "  <g class=\"guide colorkey\" id=\"img-99d2f227-5\">\n",
       "    <g fill=\"#4C404B\" font-size=\"2.82\" font-family=\"'PT Sans','Helvetica Neue','Helvetica',sans-serif\" id=\"img-99d2f227-6\">\n",
       "      <g transform=\"translate(134.97,47.75)\" id=\"img-99d2f227-7\">\n",
       "        <g class=\"primitive\">\n",
       "          <text dy=\"0.35em\">x</text>\n",
       "        </g>\n",
       "      </g>\n",
       "    </g>\n",
       "    <g stroke-width=\"0.3\" id=\"img-99d2f227-8\">\n",
       "      <g stroke=\"#FFFFFF\" stroke-opacity=\"0.000\" fill-opacity=\"1\" fill=\"#00BFFF\" id=\"img-99d2f227-9\">\n",
       "        <g transform=\"translate(132.15,47.75)\" id=\"img-99d2f227-10\">\n",
       "          <circle cx=\"0\" cy=\"0\" r=\"0.7\" class=\"primitive\"/>\n",
       "        </g>\n",
       "      </g>\n",
       "    </g>\n",
       "    <g fill=\"#362A35\" font-size=\"3.18\" font-family=\"'PT Sans','Helvetica Neue','Helvetica',sans-serif\" stroke=\"#000000\" stroke-opacity=\"0.000\" id=\"img-99d2f227-11\">\n",
       "      <g transform=\"translate(131.34,44.44)\" id=\"img-99d2f227-12\">\n",
       "        <g class=\"primitive\">\n",
       "          <text dy=\"-0em\"></text>\n",
       "        </g>\n",
       "      </g>\n",
       "    </g>\n",
       "  </g>\n",
       "  <g clip-path=\"url(#img-99d2f227-13)\">\n",
       "    <g id=\"img-99d2f227-14\">\n",
       "      <g pointer-events=\"visible\" stroke-width=\"0.3\" fill=\"#000000\" fill-opacity=\"0.000\" stroke=\"#000000\" stroke-opacity=\"0.000\" class=\"guide background\" id=\"img-99d2f227-15\">\n",
       "        <g transform=\"translate(70.68,45.52)\" id=\"img-99d2f227-16\">\n",
       "          <path d=\"M-59.66,-40.52 L59.66,-40.52 59.66,40.52 -59.66,40.52  z\" class=\"primitive\"/>\n",
       "        </g>\n",
       "      </g>\n",
       "      <g class=\"guide ygridlines xfixed\" stroke-dasharray=\"0.5,0.5\" stroke-width=\"0.2\" stroke=\"#D0D0E0\" id=\"img-99d2f227-17\">\n",
       "        <g transform=\"translate(70.68,84.04)\" id=\"img-99d2f227-18\">\n",
       "          <path fill=\"none\" d=\"M-59.66,0 L59.66,0 \" class=\"primitive\"/>\n",
       "        </g>\n",
       "        <g transform=\"translate(70.68,64.78)\" id=\"img-99d2f227-19\">\n",
       "          <path fill=\"none\" d=\"M-59.66,0 L59.66,0 \" class=\"primitive\"/>\n",
       "        </g>\n",
       "        <g transform=\"translate(70.68,45.52)\" id=\"img-99d2f227-20\">\n",
       "          <path fill=\"none\" d=\"M-59.66,0 L59.66,0 \" class=\"primitive\"/>\n",
       "        </g>\n",
       "        <g transform=\"translate(70.68,26.26)\" id=\"img-99d2f227-21\">\n",
       "          <path fill=\"none\" d=\"M-59.66,0 L59.66,0 \" class=\"primitive\"/>\n",
       "        </g>\n",
       "        <g transform=\"translate(70.68,7)\" id=\"img-99d2f227-22\">\n",
       "          <path fill=\"none\" d=\"M-59.66,0 L59.66,0 \" class=\"primitive\"/>\n",
       "        </g>\n",
       "      </g>\n",
       "      <g class=\"guide xgridlines yfixed\" stroke-dasharray=\"0.5,0.5\" stroke-width=\"0.2\" stroke=\"#D0D0E0\" id=\"img-99d2f227-23\">\n",
       "        <g transform=\"translate(13.02,45.52)\" id=\"img-99d2f227-24\">\n",
       "          <path fill=\"none\" d=\"M0,-40.52 L0,40.52 \" class=\"primitive\"/>\n",
       "        </g>\n",
       "        <g transform=\"translate(70.68,45.52)\" id=\"img-99d2f227-25\">\n",
       "          <path fill=\"none\" d=\"M0,-40.52 L0,40.52 \" class=\"primitive\"/>\n",
       "        </g>\n",
       "        <g transform=\"translate(128.34,45.52)\" id=\"img-99d2f227-26\">\n",
       "          <path fill=\"none\" d=\"M0,-40.52 L0,40.52 \" class=\"primitive\"/>\n",
       "        </g>\n",
       "      </g>\n",
       "      <g class=\"plotpanel\" id=\"img-99d2f227-27\">\n",
       "        <metadata>\n",
       "          <boundingbox value=\"11.019999999999996mm 5.0mm 119.32135623730952mm 81.04333333333335mm\"/>\n",
       "          <unitbox value=\"-0.17342841475818052 3.0519188335568725 10.346856829516362 -2.1038376671137455\"/>\n",
       "        </metadata>\n",
       "        <g stroke-width=\"0.3\" fill=\"#000000\" fill-opacity=\"0.000\" class=\"geometry\" id=\"img-99d2f227-28\">\n",
       "          <g class=\"color_LCHab{Float32}(70.0f0,60.0f0,240.0f0)\" stroke-dasharray=\"none\" stroke=\"#00BFFF\" id=\"img-99d2f227-29\">\n",
       "            <g transform=\"translate(70.68,57.67)\" id=\"img-99d2f227-30\">\n",
       "              <path fill=\"none\" d=\"M-57.66,26.37 L-46.13,22.52 -34.6,18.28 -23.06,13.62 -11.53,8.5 -0,2.86 11.53,-3.35 23.06,-10.17 34.6,-17.68 46.13,-25.94 57.66,-35.02 \" class=\"primitive\"/>\n",
       "            </g>\n",
       "          </g>\n",
       "        </g>\n",
       "      </g>\n",
       "    </g>\n",
       "  </g>\n",
       "  <g class=\"guide ylabels\" font-size=\"2.82\" font-family=\"'PT Sans Caption','Helvetica Neue','Helvetica',sans-serif\" fill=\"#6C606B\" id=\"img-99d2f227-31\">\n",
       "    <g transform=\"translate(10.02,84.04)\" id=\"img-99d2f227-32\">\n",
       "      <g class=\"primitive\">\n",
       "        <text text-anchor=\"end\" dy=\"0.35em\">1.0</text>\n",
       "      </g>\n",
       "    </g>\n",
       "    <g transform=\"translate(10.02,64.78)\" id=\"img-99d2f227-33\">\n",
       "      <g class=\"primitive\">\n",
       "        <text text-anchor=\"end\" dy=\"0.35em\">1.5</text>\n",
       "      </g>\n",
       "    </g>\n",
       "    <g transform=\"translate(10.02,45.52)\" id=\"img-99d2f227-34\">\n",
       "      <g class=\"primitive\">\n",
       "        <text text-anchor=\"end\" dy=\"0.35em\">2.0</text>\n",
       "      </g>\n",
       "    </g>\n",
       "    <g transform=\"translate(10.02,26.26)\" id=\"img-99d2f227-35\">\n",
       "      <g class=\"primitive\">\n",
       "        <text text-anchor=\"end\" dy=\"0.35em\">2.5</text>\n",
       "      </g>\n",
       "    </g>\n",
       "    <g transform=\"translate(10.02,7)\" id=\"img-99d2f227-36\">\n",
       "      <g class=\"primitive\">\n",
       "        <text text-anchor=\"end\" dy=\"0.35em\">3.0</text>\n",
       "      </g>\n",
       "    </g>\n",
       "  </g>\n",
       "</g>\n",
       "<defs>\n",
       "  <clipPath id=\"img-99d2f227-13\">\n",
       "    <path d=\"M11.02,5 L130.34,5 130.34,86.04 11.02,86.04 \" />\n",
       "  </clipPath>\n",
       "</defs>\n",
       "</svg>\n"
      ],
      "text/html": [
       "<?xml version=\"1.0\" encoding=\"UTF-8\"?>\n",
       "<svg xmlns=\"http://www.w3.org/2000/svg\"\n",
       "     xmlns:xlink=\"http://www.w3.org/1999/xlink\"\n",
       "     xmlns:gadfly=\"http://www.gadflyjl.org/ns\"\n",
       "     version=\"1.2\"\n",
       "     width=\"141.42mm\" height=\"100mm\" viewBox=\"0 0 141.42 100\"\n",
       "     stroke=\"none\"\n",
       "     fill=\"#000000\"\n",
       "     stroke-width=\"0.3\"\n",
       "     font-size=\"3.88\"\n",
       ">\n",
       "<defs>\n",
       "  <marker id=\"arrow\" markerWidth=\"15\" markerHeight=\"7\" refX=\"5\" refY=\"3.5\" orient=\"auto\" markerUnits=\"strokeWidth\">\n",
       "    <path d=\"M0,0 L15,3.5 L0,7 z\" stroke=\"context-stroke\" fill=\"context-stroke\"/>\n",
       "  </marker>\n",
       "</defs>\n",
       "<g stroke=\"#000000\" stroke-opacity=\"0.000\" fill=\"#FFFFFF\" id=\"img-bcebfcb9-1\">\n",
       "  <g transform=\"translate(70.71,50)\">\n",
       "    <path d=\"M-70.71,-50 L70.71,-50 70.71,50 -70.71,50  z\" class=\"primitive\"/>\n",
       "  </g>\n",
       "</g>\n",
       "<g class=\"plotroot xscalable yscalable\" id=\"img-bcebfcb9-2\">\n",
       "  <g font-size=\"3.53\" font-family=\"'PT Sans','Helvetica Neue','Helvetica',sans-serif\" fill=\"#564A55\" stroke=\"#000000\" stroke-opacity=\"0.000\" id=\"img-bcebfcb9-3\">\n",
       "    <g transform=\"translate(70.68,93.72)\">\n",
       "      <g class=\"primitive\">\n",
       "        <text text-anchor=\"middle\" dy=\"0.6em\">time (hr)</text>\n",
       "      </g>\n",
       "    </g>\n",
       "  </g>\n",
       "  <g class=\"guide xlabels\" font-size=\"2.82\" font-family=\"'PT Sans Caption','Helvetica Neue','Helvetica',sans-serif\" fill=\"#6C606B\" id=\"img-bcebfcb9-4\">\n",
       "    <g transform=\"translate(13.02,87.04)\">\n",
       "      <g class=\"primitive\">\n",
       "        <text text-anchor=\"middle\" dy=\"0.6em\">0</text>\n",
       "      </g>\n",
       "    </g>\n",
       "    <g transform=\"translate(70.68,87.04)\">\n",
       "      <g class=\"primitive\">\n",
       "        <text text-anchor=\"middle\" dy=\"0.6em\">5</text>\n",
       "      </g>\n",
       "    </g>\n",
       "    <g transform=\"translate(128.34,87.04)\">\n",
       "      <g class=\"primitive\">\n",
       "        <text text-anchor=\"middle\" dy=\"0.6em\">10</text>\n",
       "      </g>\n",
       "    </g>\n",
       "  </g>\n",
       "  <g class=\"guide colorkey\" id=\"img-bcebfcb9-5\">\n",
       "    <g fill=\"#4C404B\" font-size=\"2.82\" font-family=\"'PT Sans','Helvetica Neue','Helvetica',sans-serif\" id=\"img-bcebfcb9-6\">\n",
       "      <g transform=\"translate(134.97,47.75)\" id=\"img-bcebfcb9-7\">\n",
       "        <g class=\"primitive\">\n",
       "          <text dy=\"0.35em\">x</text>\n",
       "        </g>\n",
       "      </g>\n",
       "    </g>\n",
       "    <g stroke-width=\"0.3\" id=\"img-bcebfcb9-8\">\n",
       "      <g stroke=\"#FFFFFF\" stroke-opacity=\"0.000\" fill-opacity=\"1\" fill=\"#00BFFF\" id=\"img-bcebfcb9-9\">\n",
       "        <g transform=\"translate(132.15,47.75)\" id=\"img-bcebfcb9-10\">\n",
       "          <circle cx=\"0\" cy=\"0\" r=\"0.7\" class=\"primitive\"/>\n",
       "        </g>\n",
       "      </g>\n",
       "    </g>\n",
       "    <g fill=\"#362A35\" font-size=\"3.18\" font-family=\"'PT Sans','Helvetica Neue','Helvetica',sans-serif\" stroke=\"#000000\" stroke-opacity=\"0.000\" id=\"img-bcebfcb9-11\">\n",
       "      <g transform=\"translate(131.34,44.44)\" id=\"img-bcebfcb9-12\">\n",
       "        <g class=\"primitive\">\n",
       "          <text dy=\"-0em\"></text>\n",
       "        </g>\n",
       "      </g>\n",
       "    </g>\n",
       "  </g>\n",
       "  <g clip-path=\"url(#img-bcebfcb9-13)\">\n",
       "    <g id=\"img-bcebfcb9-14\">\n",
       "      <g pointer-events=\"visible\" stroke-width=\"0.3\" fill=\"#000000\" fill-opacity=\"0.000\" stroke=\"#000000\" stroke-opacity=\"0.000\" class=\"guide background\" id=\"img-bcebfcb9-15\">\n",
       "        <g transform=\"translate(70.68,45.52)\" id=\"img-bcebfcb9-16\">\n",
       "          <path d=\"M-59.66,-40.52 L59.66,-40.52 59.66,40.52 -59.66,40.52  z\" class=\"primitive\"/>\n",
       "        </g>\n",
       "      </g>\n",
       "      <g class=\"guide ygridlines xfixed\" stroke-dasharray=\"0.5,0.5\" stroke-width=\"0.2\" stroke=\"#D0D0E0\" id=\"img-bcebfcb9-17\">\n",
       "        <g transform=\"translate(70.68,84.04)\" id=\"img-bcebfcb9-18\">\n",
       "          <path fill=\"none\" d=\"M-59.66,0 L59.66,0 \" class=\"primitive\"/>\n",
       "        </g>\n",
       "        <g transform=\"translate(70.68,64.78)\" id=\"img-bcebfcb9-19\">\n",
       "          <path fill=\"none\" d=\"M-59.66,0 L59.66,0 \" class=\"primitive\"/>\n",
       "        </g>\n",
       "        <g transform=\"translate(70.68,45.52)\" id=\"img-bcebfcb9-20\">\n",
       "          <path fill=\"none\" d=\"M-59.66,0 L59.66,0 \" class=\"primitive\"/>\n",
       "        </g>\n",
       "        <g transform=\"translate(70.68,26.26)\" id=\"img-bcebfcb9-21\">\n",
       "          <path fill=\"none\" d=\"M-59.66,0 L59.66,0 \" class=\"primitive\"/>\n",
       "        </g>\n",
       "        <g transform=\"translate(70.68,7)\" id=\"img-bcebfcb9-22\">\n",
       "          <path fill=\"none\" d=\"M-59.66,0 L59.66,0 \" class=\"primitive\"/>\n",
       "        </g>\n",
       "      </g>\n",
       "      <g class=\"guide xgridlines yfixed\" stroke-dasharray=\"0.5,0.5\" stroke-width=\"0.2\" stroke=\"#D0D0E0\" id=\"img-bcebfcb9-23\">\n",
       "        <g transform=\"translate(13.02,45.52)\" id=\"img-bcebfcb9-24\">\n",
       "          <path fill=\"none\" d=\"M0,-40.52 L0,40.52 \" class=\"primitive\"/>\n",
       "        </g>\n",
       "        <g transform=\"translate(70.68,45.52)\" id=\"img-bcebfcb9-25\">\n",
       "          <path fill=\"none\" d=\"M0,-40.52 L0,40.52 \" class=\"primitive\"/>\n",
       "        </g>\n",
       "        <g transform=\"translate(128.34,45.52)\" id=\"img-bcebfcb9-26\">\n",
       "          <path fill=\"none\" d=\"M0,-40.52 L0,40.52 \" class=\"primitive\"/>\n",
       "        </g>\n",
       "      </g>\n",
       "      <g class=\"plotpanel\" id=\"img-bcebfcb9-27\">\n",
       "        <metadata>\n",
       "          <boundingbox value=\"11.019999999999996mm 5.0mm 119.32135623730952mm 81.04333333333335mm\"/>\n",
       "          <unitbox value=\"-0.17342841475818052 3.0519188335568725 10.346856829516362 -2.1038376671137455\"/>\n",
       "        </metadata>\n",
       "        <g stroke-width=\"0.3\" fill=\"#000000\" fill-opacity=\"0.000\" class=\"geometry\" id=\"img-bcebfcb9-28\">\n",
       "          <g class=\"color_LCHab{Float32}(70.0f0,60.0f0,240.0f0)\" stroke-dasharray=\"none\" stroke=\"#00BFFF\" id=\"img-bcebfcb9-29\">\n",
       "            <g transform=\"translate(70.68,57.67)\" id=\"img-bcebfcb9-30\">\n",
       "              <path fill=\"none\" d=\"M-57.66,26.37 L-46.13,22.52 -34.6,18.28 -23.06,13.62 -11.53,8.5 -0,2.86 11.53,-3.35 23.06,-10.17 34.6,-17.68 46.13,-25.94 57.66,-35.02 \" class=\"primitive\"/>\n",
       "            </g>\n",
       "          </g>\n",
       "        </g>\n",
       "      </g>\n",
       "    </g>\n",
       "  </g>\n",
       "  <g class=\"guide ylabels\" font-size=\"2.82\" font-family=\"'PT Sans Caption','Helvetica Neue','Helvetica',sans-serif\" fill=\"#6C606B\" id=\"img-bcebfcb9-31\">\n",
       "    <g transform=\"translate(10.02,84.04)\" id=\"img-bcebfcb9-32\">\n",
       "      <g class=\"primitive\">\n",
       "        <text text-anchor=\"end\" dy=\"0.35em\">1.0</text>\n",
       "      </g>\n",
       "    </g>\n",
       "    <g transform=\"translate(10.02,64.78)\" id=\"img-bcebfcb9-33\">\n",
       "      <g class=\"primitive\">\n",
       "        <text text-anchor=\"end\" dy=\"0.35em\">1.5</text>\n",
       "      </g>\n",
       "    </g>\n",
       "    <g transform=\"translate(10.02,45.52)\" id=\"img-bcebfcb9-34\">\n",
       "      <g class=\"primitive\">\n",
       "        <text text-anchor=\"end\" dy=\"0.35em\">2.0</text>\n",
       "      </g>\n",
       "    </g>\n",
       "    <g transform=\"translate(10.02,26.26)\" id=\"img-bcebfcb9-35\">\n",
       "      <g class=\"primitive\">\n",
       "        <text text-anchor=\"end\" dy=\"0.35em\">2.5</text>\n",
       "      </g>\n",
       "    </g>\n",
       "    <g transform=\"translate(10.02,7)\" id=\"img-bcebfcb9-36\">\n",
       "      <g class=\"primitive\">\n",
       "        <text text-anchor=\"end\" dy=\"0.35em\">3.0</text>\n",
       "      </g>\n",
       "    </g>\n",
       "  </g>\n",
       "</g>\n",
       "<defs>\n",
       "  <clipPath id=\"img-bcebfcb9-13\">\n",
       "    <path d=\"M11.02,5 L130.34,5 130.34,86.04 11.02,86.04 \" />\n",
       "  </clipPath>\n",
       "</defs>\n",
       "</svg>\n"
      ],
      "text/plain": [
       "\"<Cropbox.Plot{Gadfly.Plot}>\""
      ]
     },
     "execution_count": 42,
     "metadata": {},
     "output_type": "execute_result"
    }
   ],
   "source": [
    "plot(r, :time, :x, kind = :line)"
   ]
  },
  {
   "cell_type": "markdown",
   "metadata": {},
   "source": [
    "#### Configuration"
   ]
  },
  {
   "cell_type": "markdown",
   "metadata": {},
   "source": [
    "Remembering the rate of growth variable `a` is a parameter in our model, we can change its value before running the model. Let's try smaller value of 0.05 instead of default 0.1."
   ]
  },
  {
   "cell_type": "code",
   "execution_count": 43,
   "metadata": {},
   "outputs": [
    {
     "data": {
      "text/plain": [
       ":S => (:a => 0.05)"
      ]
     },
     "execution_count": 43,
     "metadata": {},
     "output_type": "execute_result"
    }
   ],
   "source": [
    "c = :S => :a => 0.05"
   ]
  },
  {
   "cell_type": "code",
   "execution_count": 44,
   "metadata": {},
   "outputs": [
    {
     "data": {
      "text/plain": [
       "Config for 1 system:\n",
       "  \u001b[95mS\u001b[39m\n",
       "    \u001b[94ma\u001b[39m\u001b[90m = \u001b[39m0.05"
      ]
     },
     "execution_count": 44,
     "metadata": {},
     "output_type": "execute_result"
    }
   ],
   "source": [
    "@config(c)"
   ]
  },
  {
   "cell_type": "markdown",
   "metadata": {},
   "source": [
    "The initial values of variables (mostly `preserve` kind in practice) tagged as `parameter` can be set in a dictionary-like structure supplied to `simulate()` or `instance()` by keyword argument named `config`."
   ]
  },
  {
   "cell_type": "code",
   "execution_count": 45,
   "metadata": {},
   "outputs": [],
   "source": [
    "r2 = simulate(S, config = c, stop = 10);"
   ]
  },
  {
   "cell_type": "code",
   "execution_count": 46,
   "metadata": {},
   "outputs": [
    {
     "data": {
      "image/svg+xml": [
       "<?xml version=\"1.0\" encoding=\"UTF-8\"?>\n",
       "<svg xmlns=\"http://www.w3.org/2000/svg\"\n",
       "     xmlns:xlink=\"http://www.w3.org/1999/xlink\"\n",
       "     xmlns:gadfly=\"http://www.gadflyjl.org/ns\"\n",
       "     version=\"1.2\"\n",
       "     width=\"141.42mm\" height=\"100mm\" viewBox=\"0 0 141.42 100\"\n",
       "     stroke=\"none\"\n",
       "     fill=\"#000000\"\n",
       "     stroke-width=\"0.3\"\n",
       "     font-size=\"3.88\"\n",
       ">\n",
       "<defs>\n",
       "  <marker id=\"arrow\" markerWidth=\"15\" markerHeight=\"7\" refX=\"5\" refY=\"3.5\" orient=\"auto\" markerUnits=\"strokeWidth\">\n",
       "    <path d=\"M0,0 L15,3.5 L0,7 z\" stroke=\"context-stroke\" fill=\"context-stroke\"/>\n",
       "  </marker>\n",
       "</defs>\n",
       "<g stroke=\"#000000\" stroke-opacity=\"0.000\" fill=\"#FFFFFF\" id=\"img-df548ec3-1\">\n",
       "  <g transform=\"translate(70.71,50)\">\n",
       "    <path d=\"M-70.71,-50 L70.71,-50 70.71,50 -70.71,50  z\" class=\"primitive\"/>\n",
       "  </g>\n",
       "</g>\n",
       "<g class=\"plotroot xscalable yscalable\" id=\"img-df548ec3-2\">\n",
       "  <g font-size=\"3.53\" font-family=\"'PT Sans','Helvetica Neue','Helvetica',sans-serif\" fill=\"#564A55\" stroke=\"#000000\" stroke-opacity=\"0.000\" id=\"img-df548ec3-3\">\n",
       "    <g transform=\"translate(70.68,93.72)\">\n",
       "      <g class=\"primitive\">\n",
       "        <text text-anchor=\"middle\" dy=\"0.6em\">time (hr)</text>\n",
       "      </g>\n",
       "    </g>\n",
       "  </g>\n",
       "  <g class=\"guide xlabels\" font-size=\"2.82\" font-family=\"'PT Sans Caption','Helvetica Neue','Helvetica',sans-serif\" fill=\"#6C606B\" id=\"img-df548ec3-4\">\n",
       "    <g transform=\"translate(13.02,87.04)\">\n",
       "      <g class=\"primitive\">\n",
       "        <text text-anchor=\"middle\" dy=\"0.6em\">0</text>\n",
       "      </g>\n",
       "    </g>\n",
       "    <g transform=\"translate(70.68,87.04)\">\n",
       "      <g class=\"primitive\">\n",
       "        <text text-anchor=\"middle\" dy=\"0.6em\">5</text>\n",
       "      </g>\n",
       "    </g>\n",
       "    <g transform=\"translate(128.34,87.04)\">\n",
       "      <g class=\"primitive\">\n",
       "        <text text-anchor=\"middle\" dy=\"0.6em\">10</text>\n",
       "      </g>\n",
       "    </g>\n",
       "  </g>\n",
       "  <g class=\"guide colorkey\" id=\"img-df548ec3-5\">\n",
       "    <g fill=\"#4C404B\" font-size=\"2.82\" font-family=\"'PT Sans','Helvetica Neue','Helvetica',sans-serif\" id=\"img-df548ec3-6\">\n",
       "      <g transform=\"translate(134.97,47.75)\" id=\"img-df548ec3-7\">\n",
       "        <g class=\"primitive\">\n",
       "          <text dy=\"0.35em\">x</text>\n",
       "        </g>\n",
       "      </g>\n",
       "    </g>\n",
       "    <g stroke-width=\"0.3\" id=\"img-df548ec3-8\">\n",
       "      <g stroke=\"#FFFFFF\" stroke-opacity=\"0.000\" fill-opacity=\"1\" fill=\"#00BFFF\" id=\"img-df548ec3-9\">\n",
       "        <g transform=\"translate(132.15,47.75)\" id=\"img-df548ec3-10\">\n",
       "          <circle cx=\"0\" cy=\"0\" r=\"0.7\" class=\"primitive\"/>\n",
       "        </g>\n",
       "      </g>\n",
       "    </g>\n",
       "    <g fill=\"#362A35\" font-size=\"3.18\" font-family=\"'PT Sans','Helvetica Neue','Helvetica',sans-serif\" stroke=\"#000000\" stroke-opacity=\"0.000\" id=\"img-df548ec3-11\">\n",
       "      <g transform=\"translate(131.34,44.44)\" id=\"img-df548ec3-12\">\n",
       "        <g class=\"primitive\">\n",
       "          <text dy=\"-0em\"></text>\n",
       "        </g>\n",
       "      </g>\n",
       "    </g>\n",
       "  </g>\n",
       "  <g clip-path=\"url(#img-df548ec3-13)\">\n",
       "    <g id=\"img-df548ec3-14\">\n",
       "      <g pointer-events=\"visible\" stroke-width=\"0.3\" fill=\"#000000\" fill-opacity=\"0.000\" stroke=\"#000000\" stroke-opacity=\"0.000\" class=\"guide background\" id=\"img-df548ec3-15\">\n",
       "        <g transform=\"translate(70.68,45.52)\" id=\"img-df548ec3-16\">\n",
       "          <path d=\"M-59.66,-40.52 L59.66,-40.52 59.66,40.52 -59.66,40.52  z\" class=\"primitive\"/>\n",
       "        </g>\n",
       "      </g>\n",
       "      <g class=\"guide ygridlines xfixed\" stroke-dasharray=\"0.5,0.5\" stroke-width=\"0.2\" stroke=\"#D0D0E0\" id=\"img-df548ec3-17\">\n",
       "        <g transform=\"translate(70.68,84.04)\" id=\"img-df548ec3-18\">\n",
       "          <path fill=\"none\" d=\"M-59.66,0 L59.66,0 \" class=\"primitive\"/>\n",
       "        </g>\n",
       "        <g transform=\"translate(70.68,45.52)\" id=\"img-df548ec3-19\">\n",
       "          <path fill=\"none\" d=\"M-59.66,0 L59.66,0 \" class=\"primitive\"/>\n",
       "        </g>\n",
       "        <g transform=\"translate(70.68,7)\" id=\"img-df548ec3-20\">\n",
       "          <path fill=\"none\" d=\"M-59.66,0 L59.66,0 \" class=\"primitive\"/>\n",
       "        </g>\n",
       "      </g>\n",
       "      <g class=\"guide xgridlines yfixed\" stroke-dasharray=\"0.5,0.5\" stroke-width=\"0.2\" stroke=\"#D0D0E0\" id=\"img-df548ec3-21\">\n",
       "        <g transform=\"translate(13.02,45.52)\" id=\"img-df548ec3-22\">\n",
       "          <path fill=\"none\" d=\"M0,-40.52 L0,40.52 \" class=\"primitive\"/>\n",
       "        </g>\n",
       "        <g transform=\"translate(70.68,45.52)\" id=\"img-df548ec3-23\">\n",
       "          <path fill=\"none\" d=\"M0,-40.52 L0,40.52 \" class=\"primitive\"/>\n",
       "        </g>\n",
       "        <g transform=\"translate(128.34,45.52)\" id=\"img-df548ec3-24\">\n",
       "          <path fill=\"none\" d=\"M0,-40.52 L0,40.52 \" class=\"primitive\"/>\n",
       "        </g>\n",
       "      </g>\n",
       "      <g class=\"plotpanel\" id=\"img-df548ec3-25\">\n",
       "        <metadata>\n",
       "          <boundingbox value=\"11.019999999999996mm 5.0mm 119.32135623730952mm 81.04333333333334mm\"/>\n",
       "          <unitbox value=\"-0.17342841475818052 2.0259594167784365 10.346856829516362 -1.0519188335568728\"/>\n",
       "        </metadata>\n",
       "        <g stroke-width=\"0.3\" fill=\"#000000\" fill-opacity=\"0.000\" class=\"geometry\" id=\"img-df548ec3-26\">\n",
       "          <g class=\"color_LCHab{Float32}(70.0f0,60.0f0,240.0f0)\" stroke-dasharray=\"none\" stroke=\"#00BFFF\" id=\"img-df548ec3-27\">\n",
       "            <g transform=\"translate(70.68,61.58)\" id=\"img-df548ec3-28\">\n",
       "              <path fill=\"none\" d=\"M-57.66,22.46 L-46.13,18.61 -34.6,14.56 -23.06,10.32 -11.53,5.86 -0,1.17 11.53,-3.74 23.06,-8.9 34.6,-14.32 46.13,-20.02 57.66,-25.99 \" class=\"primitive\"/>\n",
       "            </g>\n",
       "          </g>\n",
       "        </g>\n",
       "      </g>\n",
       "    </g>\n",
       "  </g>\n",
       "  <g class=\"guide ylabels\" font-size=\"2.82\" font-family=\"'PT Sans Caption','Helvetica Neue','Helvetica',sans-serif\" fill=\"#6C606B\" id=\"img-df548ec3-29\">\n",
       "    <g transform=\"translate(10.02,84.04)\" id=\"img-df548ec3-30\">\n",
       "      <g class=\"primitive\">\n",
       "        <text text-anchor=\"end\" dy=\"0.35em\">1.0</text>\n",
       "      </g>\n",
       "    </g>\n",
       "    <g transform=\"translate(10.02,45.52)\" id=\"img-df548ec3-31\">\n",
       "      <g class=\"primitive\">\n",
       "        <text text-anchor=\"end\" dy=\"0.35em\">1.5</text>\n",
       "      </g>\n",
       "    </g>\n",
       "    <g transform=\"translate(10.02,7)\" id=\"img-df548ec3-32\">\n",
       "      <g class=\"primitive\">\n",
       "        <text text-anchor=\"end\" dy=\"0.35em\">2.0</text>\n",
       "      </g>\n",
       "    </g>\n",
       "  </g>\n",
       "</g>\n",
       "<defs>\n",
       "  <clipPath id=\"img-df548ec3-13\">\n",
       "    <path d=\"M11.02,5 L130.34,5 130.34,86.04 11.02,86.04 \" />\n",
       "  </clipPath>\n",
       "</defs>\n",
       "</svg>\n"
      ],
      "text/html": [
       "<?xml version=\"1.0\" encoding=\"UTF-8\"?>\n",
       "<svg xmlns=\"http://www.w3.org/2000/svg\"\n",
       "     xmlns:xlink=\"http://www.w3.org/1999/xlink\"\n",
       "     xmlns:gadfly=\"http://www.gadflyjl.org/ns\"\n",
       "     version=\"1.2\"\n",
       "     width=\"141.42mm\" height=\"100mm\" viewBox=\"0 0 141.42 100\"\n",
       "     stroke=\"none\"\n",
       "     fill=\"#000000\"\n",
       "     stroke-width=\"0.3\"\n",
       "     font-size=\"3.88\"\n",
       ">\n",
       "<defs>\n",
       "  <marker id=\"arrow\" markerWidth=\"15\" markerHeight=\"7\" refX=\"5\" refY=\"3.5\" orient=\"auto\" markerUnits=\"strokeWidth\">\n",
       "    <path d=\"M0,0 L15,3.5 L0,7 z\" stroke=\"context-stroke\" fill=\"context-stroke\"/>\n",
       "  </marker>\n",
       "</defs>\n",
       "<g stroke=\"#000000\" stroke-opacity=\"0.000\" fill=\"#FFFFFF\" id=\"img-25e6ebd6-1\">\n",
       "  <g transform=\"translate(70.71,50)\">\n",
       "    <path d=\"M-70.71,-50 L70.71,-50 70.71,50 -70.71,50  z\" class=\"primitive\"/>\n",
       "  </g>\n",
       "</g>\n",
       "<g class=\"plotroot xscalable yscalable\" id=\"img-25e6ebd6-2\">\n",
       "  <g font-size=\"3.53\" font-family=\"'PT Sans','Helvetica Neue','Helvetica',sans-serif\" fill=\"#564A55\" stroke=\"#000000\" stroke-opacity=\"0.000\" id=\"img-25e6ebd6-3\">\n",
       "    <g transform=\"translate(70.68,93.72)\">\n",
       "      <g class=\"primitive\">\n",
       "        <text text-anchor=\"middle\" dy=\"0.6em\">time (hr)</text>\n",
       "      </g>\n",
       "    </g>\n",
       "  </g>\n",
       "  <g class=\"guide xlabels\" font-size=\"2.82\" font-family=\"'PT Sans Caption','Helvetica Neue','Helvetica',sans-serif\" fill=\"#6C606B\" id=\"img-25e6ebd6-4\">\n",
       "    <g transform=\"translate(13.02,87.04)\">\n",
       "      <g class=\"primitive\">\n",
       "        <text text-anchor=\"middle\" dy=\"0.6em\">0</text>\n",
       "      </g>\n",
       "    </g>\n",
       "    <g transform=\"translate(70.68,87.04)\">\n",
       "      <g class=\"primitive\">\n",
       "        <text text-anchor=\"middle\" dy=\"0.6em\">5</text>\n",
       "      </g>\n",
       "    </g>\n",
       "    <g transform=\"translate(128.34,87.04)\">\n",
       "      <g class=\"primitive\">\n",
       "        <text text-anchor=\"middle\" dy=\"0.6em\">10</text>\n",
       "      </g>\n",
       "    </g>\n",
       "  </g>\n",
       "  <g class=\"guide colorkey\" id=\"img-25e6ebd6-5\">\n",
       "    <g fill=\"#4C404B\" font-size=\"2.82\" font-family=\"'PT Sans','Helvetica Neue','Helvetica',sans-serif\" id=\"img-25e6ebd6-6\">\n",
       "      <g transform=\"translate(134.97,47.75)\" id=\"img-25e6ebd6-7\">\n",
       "        <g class=\"primitive\">\n",
       "          <text dy=\"0.35em\">x</text>\n",
       "        </g>\n",
       "      </g>\n",
       "    </g>\n",
       "    <g stroke-width=\"0.3\" id=\"img-25e6ebd6-8\">\n",
       "      <g stroke=\"#FFFFFF\" stroke-opacity=\"0.000\" fill-opacity=\"1\" fill=\"#00BFFF\" id=\"img-25e6ebd6-9\">\n",
       "        <g transform=\"translate(132.15,47.75)\" id=\"img-25e6ebd6-10\">\n",
       "          <circle cx=\"0\" cy=\"0\" r=\"0.7\" class=\"primitive\"/>\n",
       "        </g>\n",
       "      </g>\n",
       "    </g>\n",
       "    <g fill=\"#362A35\" font-size=\"3.18\" font-family=\"'PT Sans','Helvetica Neue','Helvetica',sans-serif\" stroke=\"#000000\" stroke-opacity=\"0.000\" id=\"img-25e6ebd6-11\">\n",
       "      <g transform=\"translate(131.34,44.44)\" id=\"img-25e6ebd6-12\">\n",
       "        <g class=\"primitive\">\n",
       "          <text dy=\"-0em\"></text>\n",
       "        </g>\n",
       "      </g>\n",
       "    </g>\n",
       "  </g>\n",
       "  <g clip-path=\"url(#img-25e6ebd6-13)\">\n",
       "    <g id=\"img-25e6ebd6-14\">\n",
       "      <g pointer-events=\"visible\" stroke-width=\"0.3\" fill=\"#000000\" fill-opacity=\"0.000\" stroke=\"#000000\" stroke-opacity=\"0.000\" class=\"guide background\" id=\"img-25e6ebd6-15\">\n",
       "        <g transform=\"translate(70.68,45.52)\" id=\"img-25e6ebd6-16\">\n",
       "          <path d=\"M-59.66,-40.52 L59.66,-40.52 59.66,40.52 -59.66,40.52  z\" class=\"primitive\"/>\n",
       "        </g>\n",
       "      </g>\n",
       "      <g class=\"guide ygridlines xfixed\" stroke-dasharray=\"0.5,0.5\" stroke-width=\"0.2\" stroke=\"#D0D0E0\" id=\"img-25e6ebd6-17\">\n",
       "        <g transform=\"translate(70.68,84.04)\" id=\"img-25e6ebd6-18\">\n",
       "          <path fill=\"none\" d=\"M-59.66,0 L59.66,0 \" class=\"primitive\"/>\n",
       "        </g>\n",
       "        <g transform=\"translate(70.68,45.52)\" id=\"img-25e6ebd6-19\">\n",
       "          <path fill=\"none\" d=\"M-59.66,0 L59.66,0 \" class=\"primitive\"/>\n",
       "        </g>\n",
       "        <g transform=\"translate(70.68,7)\" id=\"img-25e6ebd6-20\">\n",
       "          <path fill=\"none\" d=\"M-59.66,0 L59.66,0 \" class=\"primitive\"/>\n",
       "        </g>\n",
       "      </g>\n",
       "      <g class=\"guide xgridlines yfixed\" stroke-dasharray=\"0.5,0.5\" stroke-width=\"0.2\" stroke=\"#D0D0E0\" id=\"img-25e6ebd6-21\">\n",
       "        <g transform=\"translate(13.02,45.52)\" id=\"img-25e6ebd6-22\">\n",
       "          <path fill=\"none\" d=\"M0,-40.52 L0,40.52 \" class=\"primitive\"/>\n",
       "        </g>\n",
       "        <g transform=\"translate(70.68,45.52)\" id=\"img-25e6ebd6-23\">\n",
       "          <path fill=\"none\" d=\"M0,-40.52 L0,40.52 \" class=\"primitive\"/>\n",
       "        </g>\n",
       "        <g transform=\"translate(128.34,45.52)\" id=\"img-25e6ebd6-24\">\n",
       "          <path fill=\"none\" d=\"M0,-40.52 L0,40.52 \" class=\"primitive\"/>\n",
       "        </g>\n",
       "      </g>\n",
       "      <g class=\"plotpanel\" id=\"img-25e6ebd6-25\">\n",
       "        <metadata>\n",
       "          <boundingbox value=\"11.019999999999996mm 5.0mm 119.32135623730952mm 81.04333333333334mm\"/>\n",
       "          <unitbox value=\"-0.17342841475818052 2.0259594167784365 10.346856829516362 -1.0519188335568728\"/>\n",
       "        </metadata>\n",
       "        <g stroke-width=\"0.3\" fill=\"#000000\" fill-opacity=\"0.000\" class=\"geometry\" id=\"img-25e6ebd6-26\">\n",
       "          <g class=\"color_LCHab{Float32}(70.0f0,60.0f0,240.0f0)\" stroke-dasharray=\"none\" stroke=\"#00BFFF\" id=\"img-25e6ebd6-27\">\n",
       "            <g transform=\"translate(70.68,61.58)\" id=\"img-25e6ebd6-28\">\n",
       "              <path fill=\"none\" d=\"M-57.66,22.46 L-46.13,18.61 -34.6,14.56 -23.06,10.32 -11.53,5.86 -0,1.17 11.53,-3.74 23.06,-8.9 34.6,-14.32 46.13,-20.02 57.66,-25.99 \" class=\"primitive\"/>\n",
       "            </g>\n",
       "          </g>\n",
       "        </g>\n",
       "      </g>\n",
       "    </g>\n",
       "  </g>\n",
       "  <g class=\"guide ylabels\" font-size=\"2.82\" font-family=\"'PT Sans Caption','Helvetica Neue','Helvetica',sans-serif\" fill=\"#6C606B\" id=\"img-25e6ebd6-29\">\n",
       "    <g transform=\"translate(10.02,84.04)\" id=\"img-25e6ebd6-30\">\n",
       "      <g class=\"primitive\">\n",
       "        <text text-anchor=\"end\" dy=\"0.35em\">1.0</text>\n",
       "      </g>\n",
       "    </g>\n",
       "    <g transform=\"translate(10.02,45.52)\" id=\"img-25e6ebd6-31\">\n",
       "      <g class=\"primitive\">\n",
       "        <text text-anchor=\"end\" dy=\"0.35em\">1.5</text>\n",
       "      </g>\n",
       "    </g>\n",
       "    <g transform=\"translate(10.02,7)\" id=\"img-25e6ebd6-32\">\n",
       "      <g class=\"primitive\">\n",
       "        <text text-anchor=\"end\" dy=\"0.35em\">2.0</text>\n",
       "      </g>\n",
       "    </g>\n",
       "  </g>\n",
       "</g>\n",
       "<defs>\n",
       "  <clipPath id=\"img-25e6ebd6-13\">\n",
       "    <path d=\"M11.02,5 L130.34,5 130.34,86.04 11.02,86.04 \" />\n",
       "  </clipPath>\n",
       "</defs>\n",
       "</svg>\n"
      ],
      "text/plain": [
       "\"<Cropbox.Plot{Gadfly.Plot}>\""
      ]
     },
     "execution_count": 46,
     "metadata": {},
     "output_type": "execute_result"
    }
   ],
   "source": [
    "plot(r2, :time, :x, kind = :line)"
   ]
  },
  {
   "cell_type": "markdown",
   "metadata": {},
   "source": [
    "Now we can confirm that the exponential growth became much slower than the previous simulation by using a smaller rate parameter."
   ]
  },
  {
   "cell_type": "markdown",
   "metadata": {},
   "source": [
    "### Model Internals"
   ]
  },
  {
   "cell_type": "markdown",
   "metadata": {},
   "source": [
    "When we specify our model with `@system` macro, Cropbox automatically generates some code behind the scene for handling model setup and update. With our exponential growth model, it would mean we get `struct` named `S` and `update!(::S, ..)` for example. We can take a look at the actual code generatd during this process by using [`@macroexpand`](https://docs.julialang.org/en/v1/base/base/#Base.macroexpand)."
   ]
  },
  {
   "cell_type": "code",
   "execution_count": 47,
   "metadata": {},
   "outputs": [
    {
     "data": {
      "text/plain": [
       "quote\n",
       "    #= /home/Cropbox.jl/src/macro.jl:413 =#\n",
       "    begin\n",
       "        $(Expr(:meta, :doc))\n",
       "        abstract type S <: System end\n",
       "    end\n",
       "    #= /home/Cropbox.jl/src/macro.jl:414 =#\n",
       "    S(; var\"#243#kw\"...) = begin\n",
       "            #= /home/Cropbox.jl/src/macro.jl:414 =#\n",
       "            var\"##_S#275\"(; var\"#243#kw\"...)\n",
       "        end\n",
       "    #= /home/Cropbox.jl/src/macro.jl:415 =#\n",
       "    (Cropbox.Cropbox).typefor(::Cropbox.Type{<:S}) = begin\n",
       "            #= /home/Cropbox.jl/src/macro.jl:415 =#\n",
       "            var\"##_S#275\"\n",
       "        end\n",
       "    #= /home/Cropbox.jl/src/macro.jl:416 =#\n",
       "    let var\"#241###CS#277\" = Cropbox.merge(Cropbox.constsof.(Cropbox._mixincollect(Cropbox.mixinsof(Main, [:System, :Controller])))..., Cropbox.Dict(:__Context__ => Cropbox.typefor(Cropbox.Context))), var\"#242#__Context__\" = var\"#241###CS#277\"[:__Context__], var\"#242#__Context__\" = var\"#241###CS#277\"[:__Context__]\n",
       "        #= /home/Cropbox.jl/src/macro.jl:417 =#\n",
       "        begin\n",
       "            $(Expr(:meta, :doc))\n",
       "            mutable struct var\"##_S#275\" <: S\n",
       "                #= /home/Cropbox.jl/src/macro.jl:418 =#\n",
       "                context::Cropbox.typefor(Cropbox.Context)\n",
       "                config::Cropbox.typefor(Cropbox.Config)\n",
       "                i::Cropbox.Preserve{(Cropbox.Cropbox).valuetype(Float64, nothing)}\n",
       "                a::Cropbox.Preserve{(Cropbox.Cropbox).valuetype(Float64, nothing)}\n",
       "                r::Cropbox.Track{(Cropbox.Cropbox).valuetype(Float64, nothing)}\n",
       "                x::Cropbox.Accumulate{(Cropbox.Cropbox).valuetype(Float64, nothing), (Cropbox.Cropbox).valuetype(Cropbox.Float64, (Cropbox.Cropbox).timeunittype(nothing, (Cropbox.Cropbox).timeunit(var\"#242#__Context__\"))), (Cropbox.Cropbox).valuetype(Float64, (Cropbox.Cropbox).rateunittype(nothing, (Cropbox.Cropbox).timeunittype(nothing, (Cropbox.Cropbox).timeunit(var\"#242#__Context__\"))))}\n",
       "                #= /home/Cropbox.jl/src/macro.jl:419 =#\n",
       "                function var\"##_S#275\"(; var\"#255#__kwargs__\"...)\n",
       "                    #= /home/Cropbox.jl/src/macro.jl:419 =#\n",
       "                    #= /home/Cropbox.jl/src/macro.jl:420 =#\n",
       "                    var\"#247#_names\" = (((Cropbox.Cropbox).names.((Cropbox.Cropbox).mixincollect(S)) |> Cropbox.reverse) |> (Cropbox.Iterators).flatten) |> Cropbox.collect\n",
       "                    #= /home/Cropbox.jl/src/macro.jl:421 =#\n",
       "                    begin\n",
       "                        #= In[47]:gendecl|i|:2 =#\n",
       "                        var\"#248#i\" = (Cropbox.Cropbox).Preserve(; _name = :i, _alias = $(Expr(:copyast, :($(QuoteNode(nothing))))), _value = (Cropbox.Cropbox).sample(let\n",
       "                                            1\n",
       "                                        end), $(Expr(:(=), :optional, false)), $(Expr(:(=), :unit, nothing)), $(Expr(:(=), :_type, :Float64)))\n",
       "                        begin\n",
       "                        end\n",
       "                    end\n",
       "                    begin\n",
       "                        #= /home/Cropbox.jl/src/system/controller.jl:gendecl|config|:4 =#\n",
       "                        var\"#249#config\" = (config = (Cropbox.Cropbox).getbynames(var\"#255#__kwargs__\", [:config], nothing))\n",
       "                        begin\n",
       "                        end\n",
       "                    end\n",
       "                    begin\n",
       "                        #= In[47]:gendecl|a|:3 =#\n",
       "                        var\"#250#a\" = (Cropbox.Cropbox).Preserve(; _name = :a, _alias = $(Expr(:copyast, :($(QuoteNode(nothing))))), _value = (Cropbox.Cropbox).sample(let var\"#251###o#276\" = (Cropbox.Cropbox).option(var\"#249#config\", var\"#247#_names\", [:a])\n",
       "                                            if Cropbox.ismissing(var\"#251###o#276\")\n",
       "                                                let\n",
       "                                                    0.1\n",
       "                                                end\n",
       "                                            else\n",
       "                                                var\"#251###o#276\"\n",
       "                                            end\n",
       "                                        end), $(Expr(:(=), :optional, false)), $(Expr(:(=), :unit, nothing)), $(Expr(:(=), :_type, :Float64)))\n",
       "                        begin\n",
       "                        end\n",
       "                    end\n",
       "                    begin\n",
       "                        #= /home/Cropbox.jl/src/system/controller.jl:gendecl|context|:5 =#\n",
       "                        var\"#252#context\" = (context = (Cropbox.typefor(Cropbox.Context))(; $(Expr(:(=), :config, Symbol(\"#249#config\")))))\n",
       "                        begin\n",
       "                        end\n",
       "                    end\n",
       "                    begin\n",
       "                        #= In[47]:gendecl|x|:5 =#\n",
       "                        var\"#253#x\" = (Cropbox.Cropbox).Accumulate(; _name = :x, _alias = $(Expr(:copyast, :($(QuoteNode(nothing))))), _value = (Cropbox.Cropbox).unitfy((Cropbox.Cropbox).value(var\"#248#i\"), (Cropbox.Cropbox).value(nothing)), $(Expr(:(=), :unit, nothing)), $(Expr(:(=), :timeunit, :((Cropbox.Cropbox).timeunittype(nothing, (Cropbox.Cropbox).timeunit(var\"#242#__Context__\"))))), $(Expr(:(=), :init, Symbol(\"#248#i\"))), $(Expr(:(=), :_type, :Float64)), $(Expr(:(=), :time, :((var\"#252#context\").clock.time))))\n",
       "                        begin\n",
       "                        end\n",
       "                    end\n",
       "                    begin\n",
       "                        #= In[47]:gendecl|r|:4 =#\n",
       "                        var\"#254#r\" = (Cropbox.Cropbox).Track(; _name = :r, _alias = $(Expr(:copyast, :($(QuoteNode(nothing))))), _value = (Cropbox.Cropbox).sample(let a = (Cropbox.Cropbox).value(var\"#250#a\"), x = (Cropbox.Cropbox).value(var\"#253#x\")\n",
       "                                            a * x\n",
       "                                        end), $(Expr(:(=), :unit, nothing)), $(Expr(:(=), :_type, :Float64)))\n",
       "                        begin\n",
       "                        end\n",
       "                    end\n",
       "                    #= /home/Cropbox.jl/src/macro.jl:422 =#\n",
       "                    new(var\"#252#context\", var\"#249#config\", var\"#248#i\", var\"#250#a\", var\"#254#r\", var\"#253#x\")\n",
       "                end\n",
       "            end\n",
       "        end\n",
       "    end\n",
       "    #= /home/Cropbox.jl/src/macro.jl:426 =#\n",
       "    (Cropbox.Cropbox).namefor(::Cropbox.Type{var\"##_S#275\"}) = begin\n",
       "            #= /home/Cropbox.jl/src/macro.jl:426 =#\n",
       "            (Cropbox.Cropbox).namefor(S)\n",
       "        end\n",
       "    #= /home/Cropbox.jl/src/macro.jl:427 =#\n",
       "    (Cropbox.Cropbox).typefor(::Cropbox.Type{var\"##_S#275\"}) = begin\n",
       "            #= /home/Cropbox.jl/src/macro.jl:427 =#\n",
       "            var\"##_S#275\"\n",
       "        end\n",
       "    #= /home/Cropbox.jl/src/macro.jl:428 =#\n",
       "    (Cropbox.Cropbox).source(::Cropbox.Type{var\"##_S#275\"}) = begin\n",
       "            #= /home/Cropbox.jl/src/macro.jl:428 =#\n",
       "            $(Expr(:copyast, :($(QuoteNode(quote\n",
       "    #= In[47]:2 =#\n",
       "    i => 1 ~ preserve\n",
       "    #= In[47]:3 =#\n",
       "    a => 0.1 ~ preserve(parameter)\n",
       "    #= In[47]:4 =#\n",
       "    r(a, x) => a * x ~ track\n",
       "    #= In[47]:5 =#\n",
       "    x(r) ~ accumulate(init = i)\n",
       "end)))))\n",
       "        end\n",
       "    #= /home/Cropbox.jl/src/macro.jl:429 =#\n",
       "    (Cropbox.Cropbox).constsof(::Cropbox.Type{var\"##_S#275\"}) = begin\n",
       "            #= /home/Cropbox.jl/src/macro.jl:429 =#\n",
       "            Cropbox.merge(Cropbox.constsof.(Cropbox._mixincollect(Cropbox.mixinsof(S)))..., Cropbox.Dict(:__Context__ => Cropbox.typefor(Cropbox.Context)))\n",
       "        end\n",
       "    #= /home/Cropbox.jl/src/macro.jl:430 =#\n",
       "    (Cropbox.Cropbox).substsof(::Cropbox.Type{var\"##_S#275\"}) = begin\n",
       "            #= /home/Cropbox.jl/src/macro.jl:430 =#\n",
       "            Dict{Any, Any}()\n",
       "        end\n",
       "    #= /home/Cropbox.jl/src/macro.jl:431 =#\n",
       "    (Cropbox.Cropbox).mixinsof(::Cropbox.Type{var\"##_S#275\"}) = begin\n",
       "            #= /home/Cropbox.jl/src/macro.jl:431 =#\n",
       "            (System, Controller)\n",
       "        end\n",
       "    #= /home/Cropbox.jl/src/macro.jl:432 =#\n",
       "    (Cropbox.Cropbox).fieldnamesunique(::Cropbox.Type{var\"##_S#275\"}) = begin\n",
       "            #= /home/Cropbox.jl/src/macro.jl:432 =#\n",
       "            (:context, :config, :i, :a, :r, :x)\n",
       "        end\n",
       "    #= /home/Cropbox.jl/src/macro.jl:433 =#\n",
       "    (Cropbox.Cropbox).fieldnamesalias(::Cropbox.Type{var\"##_S#275\"}) = begin\n",
       "            #= /home/Cropbox.jl/src/macro.jl:433 =#\n",
       "            ((:context, nothing), (:config, nothing), (:i, nothing), (:a, nothing), (:r, nothing), (:x, nothing))\n",
       "        end\n",
       "    #= /home/Cropbox.jl/src/macro.jl:434 =#\n",
       "    (Cropbox.Cropbox).scopeof(::Cropbox.Type{var\"##_S#275\"}) = begin\n",
       "            #= /home/Cropbox.jl/src/macro.jl:434 =#\n",
       "            Main\n",
       "        end\n",
       "    #= /home/Cropbox.jl/src/macro.jl:435 =#\n",
       "    (Cropbox.Cropbox)._update!(self::var\"##_S#275\", ::(Cropbox.Cropbox).MainStage) = begin\n",
       "            #= /home/Cropbox.jl/src/macro.jl:435 =#\n",
       "            begin\n",
       "                begin\n",
       "                    var\"#266#i\" = self.i\n",
       "                    begin\n",
       "                    end\n",
       "                end\n",
       "                begin\n",
       "                    var\"#267#config\" = self.config\n",
       "                    begin\n",
       "                    end\n",
       "                end\n",
       "                begin\n",
       "                    var\"#268#a\" = self.a\n",
       "                    begin\n",
       "                    end\n",
       "                end\n",
       "                begin\n",
       "                    var\"#269#context\" = self.context\n",
       "                    begin\n",
       "                    end\n",
       "                end\n",
       "                begin\n",
       "                    var\"#269#context\" = self.context\n",
       "                    begin\n",
       "                    end\n",
       "                end\n",
       "                begin\n",
       "                    var\"#270#x\" = self.x\n",
       "                    begin\n",
       "                    end\n",
       "                end\n",
       "                begin\n",
       "                    var\"#271#r\" = self.r\n",
       "                    begin\n",
       "                    end\n",
       "                end\n",
       "                begin\n",
       "                    var\"#270#x\" = self.x\n",
       "                    begin\n",
       "                    end\n",
       "                end\n",
       "                begin\n",
       "                    var\"#269#context\" = self.context\n",
       "                    begin\n",
       "                    end\n",
       "                end\n",
       "                begin\n",
       "                    #= In[47]:genupdate|i|:2 =#\n",
       "                    $(Expr(:symboliclabel, Symbol(\"#220#i__Cropbox.MainStep\")))\n",
       "                    nothing\n",
       "                end\n",
       "                begin\n",
       "                    #= /home/Cropbox.jl/src/system/controller.jl:genupdate|config|:4 =#\n",
       "                    $(Expr(:symboliclabel, Symbol(\"#221#config__Cropbox.MainStep\")))\n",
       "                    nothing\n",
       "                end\n",
       "                begin\n",
       "                    #= In[47]:genupdate|a|:3 =#\n",
       "                    $(Expr(:symboliclabel, Symbol(\"#222#a__Cropbox.MainStep\")))\n",
       "                    nothing\n",
       "                end\n",
       "                begin\n",
       "                    #= /home/Cropbox.jl/src/system/controller.jl:genupdate|context|∘:5 =#\n",
       "                    $(Expr(:symboliclabel, Symbol(\"#223#context__Cropbox.PreStep\")))\n",
       "                    let var\"#272###c#278\" = var\"#269#context\"\n",
       "                        (Cropbox.Cropbox).update!(self, (Cropbox.Cropbox).PreStage())\n",
       "                        var\"#272###c#278\"\n",
       "                    end\n",
       "                end\n",
       "                begin\n",
       "                    #= /home/Cropbox.jl/src/system/controller.jl:genupdate|context|:5 =#\n",
       "                    $(Expr(:symboliclabel, Symbol(\"#224#context__Cropbox.MainStep\")))\n",
       "                    (Cropbox.Cropbox).update!(var\"#269#context\")\n",
       "                end\n",
       "                begin\n",
       "                    #= In[47]:genupdate|x|:5 =#\n",
       "                    $(Expr(:symboliclabel, Symbol(\"#225#x__Cropbox.MainStep\")))\n",
       "                    let var\"#273###s#279\" = var\"#270#x\", var\"#274###a0#280\" = if (var\"#273###s#279\").reset\n",
       "                                (Cropbox.Cropbox).unitfy((Cropbox.Cropbox).value(var\"#266#i\"), (Cropbox.Cropbox).value(nothing))\n",
       "                            else\n",
       "                                (var\"#273###s#279\").value\n",
       "                            end, var\"#275###t#281\" = (Cropbox.Cropbox).value((var\"#269#context\").clock.time), var\"#276###t0#282\" = (var\"#273###s#279\").time, var\"#277###a#283\" = var\"#274###a0#280\" + (var\"#273###s#279\").rate * (var\"#275###t#281\" - var\"#276###t0#282\")\n",
       "                        let var\"#278###s#284\" = var\"#270#x\"\n",
       "                            (Cropbox.Cropbox).store!(var\"#278###s#284\", var\"#277###a#283\")\n",
       "                        end\n",
       "                    end\n",
       "                end\n",
       "                begin\n",
       "                    #= In[47]:genupdate|r|:4 =#\n",
       "                    $(Expr(:symboliclabel, Symbol(\"#226#r__Cropbox.MainStep\")))\n",
       "                    let var\"#279###s#285\" = var\"#271#r\"\n",
       "                        (Cropbox.Cropbox).store!(var\"#279###s#285\", let a = (Cropbox.Cropbox).value(var\"#268#a\"), x = (Cropbox.Cropbox).value(var\"#270#x\")\n",
       "                                a * x\n",
       "                            end)\n",
       "                    end\n",
       "                end\n",
       "                begin\n",
       "                    #= In[47]:genupdate|x|⋆:5 =#\n",
       "                    $(Expr(:symboliclabel, Symbol(\"#227#x__Cropbox.PostStep\")))\n",
       "                    let var\"#280###s#286\" = var\"#270#x\", var\"#281###t#287\" = (Cropbox.Cropbox).value((var\"#269#context\").clock.time), var\"#282###r#288\" = (Cropbox.Cropbox).unitfy(let r = (Cropbox.Cropbox).value(var\"#271#r\")\n",
       "                                    r\n",
       "                                end, (Cropbox.Cropbox).rateunit(var\"#280###s#286\")), var\"#283###e#289\" = (Cropbox.Cropbox).value(false)\n",
       "                        (var\"#280###s#286\").time = var\"#281###t#287\"\n",
       "                        (var\"#280###s#286\").rate = var\"#282###r#288\"\n",
       "                        (var\"#280###s#286\").reset = var\"#283###e#289\"\n",
       "                    end\n",
       "                end\n",
       "                begin\n",
       "                    #= /home/Cropbox.jl/src/system/controller.jl:genupdate|context|⋆:5 =#\n",
       "                    $(Expr(:symboliclabel, Symbol(\"#228#context__Cropbox.PostStep\")))\n",
       "                    let var\"#284###c#290\" = var\"#269#context\", var\"#285###cc#291\" = (var\"#284###c#290\").context\n",
       "                        (Cropbox.Cropbox).update!(self, (Cropbox.Cropbox).PostStage())\n",
       "                        if !(Cropbox.isnothing(var\"#285###cc#291\")) && (Cropbox.Cropbox).value((var\"#284###c#290\").clock.time) < (Cropbox.Cropbox).value((var\"#285###cc#291\").clock.time)\n",
       "                            $(Expr(:symbolicgoto, Symbol(\"#223#context__Cropbox.PreStep\")))\n",
       "                        end\n",
       "                        var\"#284###c#290\"\n",
       "                    end\n",
       "                end\n",
       "                self\n",
       "            end\n",
       "        end\n",
       "    #= /home/Cropbox.jl/src/macro.jl:436 =#\n",
       "    (Cropbox.Cropbox)._update!(self::var\"##_S#275\", ::(Cropbox.Cropbox).PreStage) = begin\n",
       "            #= /home/Cropbox.jl/src/macro.jl:436 =#\n",
       "            begin\n",
       "                begin\n",
       "                    var\"#302#context\" = self.context\n",
       "                    begin\n",
       "                    end\n",
       "                end\n",
       "                begin\n",
       "                    var\"#303#config\" = self.config\n",
       "                    begin\n",
       "                    end\n",
       "                end\n",
       "                begin\n",
       "                    var\"#304#i\" = self.i\n",
       "                    begin\n",
       "                    end\n",
       "                end\n",
       "                begin\n",
       "                    var\"#305#a\" = self.a\n",
       "                    begin\n",
       "                    end\n",
       "                end\n",
       "                begin\n",
       "                    var\"#306#r\" = self.r\n",
       "                    begin\n",
       "                    end\n",
       "                end\n",
       "                begin\n",
       "                    var\"#307#x\" = self.x\n",
       "                    begin\n",
       "                    end\n",
       "                end\n",
       "                begin\n",
       "                    #= /home/Cropbox.jl/src/system/controller.jl:genupdate|context|†:5 =#\n",
       "                    $(Expr(:symboliclabel, Symbol(\"#229#context__Cropbox.PreStage\")))\n",
       "                    (Cropbox.Cropbox).update!(var\"#302#context\", (Cropbox.Cropbox).PreStage())\n",
       "                end\n",
       "                begin\n",
       "                    #= /home/Cropbox.jl/src/system/controller.jl:genupdate|config|†:4 =#\n",
       "                    $(Expr(:symboliclabel, Symbol(\"#230#config__Cropbox.PreStage\")))\n",
       "                    (Cropbox.Cropbox).update!(var\"#303#config\", (Cropbox.Cropbox).PreStage())\n",
       "                end\n",
       "                begin\n",
       "                    #= In[47]:genupdate|i|†:2 =#\n",
       "                    $(Expr(:symboliclabel, Symbol(\"#231#i__Cropbox.PreStage\")))\n",
       "                    nothing\n",
       "                end\n",
       "                begin\n",
       "                    #= In[47]:genupdate|a|†:3 =#\n",
       "                    $(Expr(:symboliclabel, Symbol(\"#232#a__Cropbox.PreStage\")))\n",
       "                    nothing\n",
       "                end\n",
       "                begin\n",
       "                    #= In[47]:genupdate|r|†:4 =#\n",
       "                    $(Expr(:symboliclabel, Symbol(\"#233#r__Cropbox.PreStage\")))\n",
       "                    nothing\n",
       "                end\n",
       "                begin\n",
       "                    #= In[47]:genupdate|x|†:5 =#\n",
       "                    $(Expr(:symboliclabel, Symbol(\"#234#x__Cropbox.PreStage\")))\n",
       "                    nothing\n",
       "                end\n",
       "                self\n",
       "            end\n",
       "        end\n",
       "    #= /home/Cropbox.jl/src/macro.jl:437 =#\n",
       "    (Cropbox.Cropbox)._update!(self::var\"##_S#275\", ::(Cropbox.Cropbox).PostStage) = begin\n",
       "            #= /home/Cropbox.jl/src/macro.jl:437 =#\n",
       "            begin\n",
       "                begin\n",
       "                    var\"#309#context\" = self.context\n",
       "                    begin\n",
       "                    end\n",
       "                end\n",
       "                begin\n",
       "                    var\"#310#config\" = self.config\n",
       "                    begin\n",
       "                    end\n",
       "                end\n",
       "                begin\n",
       "                    var\"#311#i\" = self.i\n",
       "                    begin\n",
       "                    end\n",
       "                end\n",
       "                begin\n",
       "                    var\"#312#a\" = self.a\n",
       "                    begin\n",
       "                    end\n",
       "                end\n",
       "                begin\n",
       "                    var\"#313#r\" = self.r\n",
       "                    begin\n",
       "                    end\n",
       "                end\n",
       "                begin\n",
       "                    var\"#314#x\" = self.x\n",
       "                    begin\n",
       "                    end\n",
       "                end\n",
       "                begin\n",
       "                    #= /home/Cropbox.jl/src/system/controller.jl:genupdate|context|‡:5 =#\n",
       "                    $(Expr(:symboliclabel, Symbol(\"#235#context__Cropbox.PostStage\")))\n",
       "                    (Cropbox.Cropbox).update!(var\"#309#context\", (Cropbox.Cropbox).PostStage())\n",
       "                end\n",
       "                begin\n",
       "                    #= /home/Cropbox.jl/src/system/controller.jl:genupdate|config|‡:4 =#\n",
       "                    $(Expr(:symboliclabel, Symbol(\"#236#config__Cropbox.PostStage\")))\n",
       "                    (Cropbox.Cropbox).update!(var\"#310#config\", (Cropbox.Cropbox).PostStage())\n",
       "                end\n",
       "                begin\n",
       "                    #= In[47]:genupdate|i|‡:2 =#\n",
       "                    $(Expr(:symboliclabel, Symbol(\"#237#i__Cropbox.PostStage\")))\n",
       "                    nothing\n",
       "                end\n",
       "                begin\n",
       "                    #= In[47]:genupdate|a|‡:3 =#\n",
       "                    $(Expr(:symboliclabel, Symbol(\"#238#a__Cropbox.PostStage\")))\n",
       "                    nothing\n",
       "                end\n",
       "                begin\n",
       "                    #= In[47]:genupdate|r|‡:4 =#\n",
       "                    $(Expr(:symboliclabel, Symbol(\"#239#r__Cropbox.PostStage\")))\n",
       "                    nothing\n",
       "                end\n",
       "                begin\n",
       "                    #= In[47]:genupdate|x|‡:5 =#\n",
       "                    $(Expr(:symboliclabel, Symbol(\"#240#x__Cropbox.PostStage\")))\n",
       "                    nothing\n",
       "                end\n",
       "                self\n",
       "            end\n",
       "        end\n",
       "    #= /home/Cropbox.jl/src/macro.jl:438 =#\n",
       "    (Cropbox.Base).Docs.getdoc(::Cropbox.Type{S}) = begin\n",
       "            #= /home/Cropbox.jl/src/macro.jl:438 =#\n",
       "            (Cropbox.Cropbox).getdoc(var\"##_S#275\")\n",
       "        end\n",
       "    #= /home/Cropbox.jl/src/macro.jl:439 =#\n",
       "    (Cropbox.Base).Docs.getdoc(::Cropbox.Type{var\"##_S#275\"}) = begin\n",
       "            #= /home/Cropbox.jl/src/macro.jl:439 =#\n",
       "            (Cropbox.Cropbox).getdoc(var\"##_S#275\")\n",
       "        end\n",
       "    #= /home/Cropbox.jl/src/macro.jl:440 =#\n",
       "    S\n",
       "end"
      ]
     },
     "execution_count": 47,
     "metadata": {},
     "output_type": "execute_result"
    }
   ],
   "source": [
    "@macroexpand @system S(Controller) begin\n",
    "    i => 1 ~ preserve\n",
    "    a => 0.1 ~ preserve(parameter)\n",
    "    r(a, x) => a*x ~ track\n",
    "    x(r) ~ accumulate(init = i)\n",
    "end"
   ]
  },
  {
   "cell_type": "markdown",
   "metadata": {},
   "source": [
    "#### Syntax"
   ]
  },
  {
   "cell_type": "markdown",
   "metadata": {},
   "source": [
    "`@system` macro accepts lines of variable declaration specified by its own syntax. They are loosely based on Julia syntax sharing common expressions and operators, but have distinct semantics explained as below. In other words, they form a domain-specific language (DSL) specifically designed for our crop modeling framework."
   ]
  },
  {
   "cell_type": "markdown",
   "metadata": {},
   "source": [
    "`name[(args..; kwargs..)][: alias] [=> body] ~ [state][::type][(tags..)]`\n",
    "\n",
    "- `name`: variable name (usually short abbreviation)\n",
    "- `args`: automatically bound depending variables\n",
    "- `kwargs`: custom bound depending variables (only for *call* now)\n",
    "- `alias`: alternative name (long description)\n",
    "- `body`: code snippet (state/type specific, `begin .. end` block for multiple lines)\n",
    "- `state`: verb indicating kind of state (empty if not `State`-based)\n",
    "- `type`: internal type (*i.e.* `Float64` by default for most `State` variable)\n",
    "- `tags`: variable specific options (*i.e.* unit, min/max, etc.)"
   ]
  },
  {
   "cell_type": "markdown",
   "metadata": {},
   "source": [
    "Here is a hypothetical model specification showing various uses of syntax elements."
   ]
  },
  {
   "cell_type": "code",
   "execution_count": 48,
   "metadata": {},
   "outputs": [
    {
     "data": {
      "text/plain": [
       "MySystem"
      ]
     },
     "execution_count": 48,
     "metadata": {},
     "output_type": "execute_result"
    }
   ],
   "source": [
    "@system MySystem begin\n",
    "    a: my_precious_variable => 1 ~ preserve::Int(extern)\n",
    "    b(a) => begin\n",
    "        2a\n",
    "    end ~ track\n",
    "    c ~ ::String(override)\n",
    "    f(b; x, y) => b * (x + y) ~ call\n",
    "    g(f) => f(1, 2) ~ track\n",
    "end"
   ]
  },
  {
   "cell_type": "markdown",
   "metadata": {},
   "source": [
    "By the way, although looking verbose and suspicious, `MySystem` is still on a valid specification and you can visualizae its dependency graph of state variables without any problem."
   ]
  },
  {
   "cell_type": "code",
   "execution_count": 49,
   "metadata": {},
   "outputs": [
    {
     "data": {
      "image/svg+xml": [
       "<?xml version=\"1.0\" encoding=\"UTF-8\" standalone=\"no\"?>\n",
       "<!DOCTYPE svg PUBLIC \"-//W3C//DTD SVG 1.1//EN\"\n",
       " \"http://www.w3.org/Graphics/SVG/1.1/DTD/svg11.dtd\">\n",
       "<!-- Generated by graphviz version 2.49.0 (20210829.0051)\n",
       " -->\n",
       "<!-- Pages: 1 -->\n",
       "<svg width=\"205pt\" height=\"106pt\"\n",
       " viewBox=\"0.00 0.00 205.01 106.00\" xmlns=\"http://www.w3.org/2000/svg\" xmlns:xlink=\"http://www.w3.org/1999/xlink\">\n",
       "<g id=\"graph0\" class=\"graph\" transform=\"scale(1 1) rotate(0) translate(4 102)\">\n",
       "<polygon fill=\"white\" stroke=\"transparent\" points=\"-4,4 -4,-102 201.01,-102 201.01,4 -4,4\"/>\n",
       "<!-- 1 -->\n",
       "<g id=\"node1\" class=\"node\">\n",
       "<title>1</title>\n",
       "<text text-anchor=\"middle\" x=\"41.31\" y=\"-88.8\" font-family=\"Courier,monospace\" font-size=\"9.00\">context</text>\n",
       "</g>\n",
       "<!-- 2 -->\n",
       "<g id=\"node2\" class=\"node\">\n",
       "<title>2</title>\n",
       "<text text-anchor=\"middle\" x=\"41.31\" y=\"-60.8\" font-family=\"Courier,monospace\" font-size=\"9.00\">config</text>\n",
       "</g>\n",
       "<!-- 1&#45;&gt;2 -->\n",
       "<g id=\"edge1\" class=\"edge\">\n",
       "<title>1&#45;&gt;2</title>\n",
       "<path fill=\"none\" stroke=\"black\" stroke-width=\"0.2\" d=\"M41.31,-83.97C41.31,-80.53 41.31,-76.16 41.31,-72.39\"/>\n",
       "<polygon fill=\"black\" stroke=\"black\" stroke-width=\"0.2\" points=\"42.01,-72.36 41.31,-70.36 40.61,-72.36 42.01,-72.36\"/>\n",
       "</g>\n",
       "<!-- 3 -->\n",
       "<g id=\"node3\" class=\"node\">\n",
       "<title>3</title>\n",
       "<text text-anchor=\"middle\" x=\"130.31\" y=\"-88.8\" font-family=\"Courier,monospace\" font-size=\"9.00\">a</text>\n",
       "</g>\n",
       "<!-- 4 -->\n",
       "<g id=\"node4\" class=\"node\">\n",
       "<title>4</title>\n",
       "<text text-anchor=\"middle\" x=\"130.31\" y=\"-60.8\" font-family=\"Courier,monospace\" font-size=\"9.00\">b</text>\n",
       "</g>\n",
       "<!-- 3&#45;&gt;4 -->\n",
       "<g id=\"edge2\" class=\"edge\">\n",
       "<title>3&#45;&gt;4</title>\n",
       "<path fill=\"none\" stroke=\"black\" stroke-width=\"0.2\" d=\"M130.31,-83.97C130.31,-80.53 130.31,-76.16 130.31,-72.39\"/>\n",
       "<polygon fill=\"black\" stroke=\"black\" stroke-width=\"0.2\" points=\"131.01,-72.36 130.31,-70.36 129.61,-72.36 131.01,-72.36\"/>\n",
       "</g>\n",
       "<!-- 6 -->\n",
       "<g id=\"node6\" class=\"node\">\n",
       "<title>6</title>\n",
       "<text text-anchor=\"middle\" x=\"130.31\" y=\"-32.8\" font-family=\"Courier,monospace\" font-size=\"9.00\">f</text>\n",
       "</g>\n",
       "<!-- 4&#45;&gt;6 -->\n",
       "<g id=\"edge3\" class=\"edge\">\n",
       "<title>4&#45;&gt;6</title>\n",
       "<path fill=\"none\" stroke=\"black\" stroke-width=\"0.2\" d=\"M130.31,-55.97C130.31,-52.53 130.31,-48.16 130.31,-44.39\"/>\n",
       "<polygon fill=\"black\" stroke=\"black\" stroke-width=\"0.2\" points=\"131.01,-44.36 130.31,-42.36 129.61,-44.36 131.01,-44.36\"/>\n",
       "</g>\n",
       "<!-- 5 -->\n",
       "<g id=\"node5\" class=\"node\">\n",
       "<title>5</title>\n",
       "<text text-anchor=\"middle\" x=\"187.31\" y=\"-88.8\" font-family=\"Courier,monospace\" font-size=\"9.00\">c</text>\n",
       "</g>\n",
       "<!-- 7 -->\n",
       "<g id=\"node7\" class=\"node\">\n",
       "<title>7</title>\n",
       "<text text-anchor=\"middle\" x=\"130.31\" y=\"-4.8\" font-family=\"Courier,monospace\" font-size=\"9.00\">g</text>\n",
       "</g>\n",
       "<!-- 6&#45;&gt;7 -->\n",
       "<g id=\"edge4\" class=\"edge\">\n",
       "<title>6&#45;&gt;7</title>\n",
       "<path fill=\"none\" stroke=\"black\" stroke-width=\"0.2\" d=\"M130.31,-27.97C130.31,-24.53 130.31,-20.16 130.31,-16.39\"/>\n",
       "<polygon fill=\"black\" stroke=\"black\" stroke-width=\"0.2\" points=\"131.01,-16.36 130.31,-14.36 129.61,-16.36 131.01,-16.36\"/>\n",
       "</g>\n",
       "</g>\n",
       "</svg>\n"
      ],
      "text/plain": [
       "\u001b[90m[\u001b[39m\u001b[94mc\u001b[39m\u001b[90m → \u001b[39m\u001b[94ma\u001b[39m\u001b[90m → \u001b[39m\u001b[94mb\u001b[39m\u001b[90m → \u001b[39m\u001b[94mf\u001b[39m\u001b[90m → \u001b[39m\u001b[94mg\u001b[39m\u001b[90m → \u001b[39m\u001b[94mcontext\u001b[39m\u001b[90m → \u001b[39m\u001b[94mconfig\u001b[39m\u001b[90m]\u001b[39m"
      ]
     },
     "execution_count": 49,
     "metadata": {},
     "output_type": "execute_result"
    }
   ],
   "source": [
    "Cropbox.dependency(MySystem)"
   ]
  },
  {
   "cell_type": "markdown",
   "metadata": {},
   "source": [
    "#### State"
   ]
  },
  {
   "cell_type": "markdown",
   "metadata": {},
   "source": [
    "There are a number of built-in `State` verbs that can be used in model specification.\n",
    "\n",
    "- `hold`: mark a placeholder for variable shared between mixins\n",
    "- `wrap`: pass a state variable to other fucnction as is, not just its value\n",
    "- `advance`: hold a time variable defining time steps (*i.e.* tick)\n",
    "- `preserve`: keep the initial value once assigned (*i.e.* constants, parameters)\n",
    "- `tabulate`: make two dimensional table with named keys (*i.e.* partitioning table referenced by stage and organ)\n",
    "- `interpolate`: make curve fuction interpolated with discrete key/value pairs (*i.e.* soil characteristic curve)\n",
    "- `track`: recalculate its value every time step\n",
    "- `drive`: fetch a value from other variable by using itself a key\n",
    "- `call`: define a partial function bound with some variables\n",
    "- `integrate`: calculate integral using Gaussian method\n",
    "- `accumulate`: integrate rate calcuation every time step\n",
    "- `capture`: calculate difference between integration for each time step\n",
    "- `flag`: set a boolean flag used by other variables in the next time step\n",
    "- `produce`: allow dynamic creation of a new system (*i.e.* root structure development)\n",
    "- `bisect`: solve nonlinear equation using bisection method (*i.e.* photosynthesis model coupling)\n",
    "- `solve`: symbolic polynomial equation solver (*i.e.* quadratic equations in photosynthesis model)"
   ]
  },
  {
   "cell_type": "markdown",
   "metadata": {},
   "source": [
    "Internally, each kind directly maps to a Julia `struct` with its name capitalized. For example, `track` kind maps to `Track` struct."
   ]
  },
  {
   "cell_type": "markdown",
   "metadata": {},
   "source": [
    "#### System"
   ]
  },
  {
   "cell_type": "markdown",
   "metadata": {},
   "source": [
    "`System` is a container that contains a number of *variables*. Once defined, its structure gets fixed that no additional variables can get added or removed, but the state of variables can be still updated throughout time steps."
   ]
  },
  {
   "cell_type": "markdown",
   "metadata": {},
   "source": [
    "`System` may include other `System` as its component. In such case, kind of `state` would be empty and type of included `System` should be defined in the variable declaration. Indeed, every `System` by default includes a `System` called `Context` referred by `context` variable. We can visualize hierarchy of systems with `plot()` and `Cropbox.hierarchy()`."
   ]
  },
  {
   "cell_type": "markdown",
   "metadata": {},
   "source": [
    "For example, we can visually confirm that `MySystem` *has* a `Context` which *has* a `Clock`."
   ]
  },
  {
   "cell_type": "code",
   "execution_count": 50,
   "metadata": {},
   "outputs": [
    {
     "data": {
      "image/svg+xml": [
       "<?xml version=\"1.0\" encoding=\"UTF-8\" standalone=\"no\"?>\n",
       "<!DOCTYPE svg PUBLIC \"-//W3C//DTD SVG 1.1//EN\"\n",
       " \"http://www.w3.org/Graphics/SVG/1.1/DTD/svg11.dtd\">\n",
       "<!-- Generated by graphviz version 2.49.0 (20210829.0051)\n",
       " -->\n",
       "<!-- Pages: 1 -->\n",
       "<svg width=\"148pt\" height=\"78pt\"\n",
       " viewBox=\"0.00 0.00 148.00 78.00\" xmlns=\"http://www.w3.org/2000/svg\" xmlns:xlink=\"http://www.w3.org/1999/xlink\">\n",
       "<g id=\"graph0\" class=\"graph\" transform=\"scale(1 1) rotate(0) translate(4 74)\">\n",
       "<polygon fill=\"white\" stroke=\"transparent\" points=\"-4,4 -4,-74 144,-74 144,4 -4,4\"/>\n",
       "<!-- 1 -->\n",
       "<g id=\"node1\" class=\"node\">\n",
       "<title>1</title>\n",
       "<text text-anchor=\"middle\" x=\"70\" y=\"-4.8\" font-family=\"Courier,monospace\" font-size=\"9.00\">MySystem</text>\n",
       "</g>\n",
       "<!-- 2 -->\n",
       "<g id=\"node2\" class=\"node\">\n",
       "<title>2</title>\n",
       "<text text-anchor=\"middle\" x=\"70\" y=\"-32.8\" font-family=\"Courier,monospace\" font-size=\"9.00\">Context</text>\n",
       "</g>\n",
       "<!-- 2&#45;&gt;1 -->\n",
       "<g id=\"edge1\" class=\"edge\">\n",
       "<title>2&#45;&gt;1</title>\n",
       "<path fill=\"none\" stroke=\"black\" stroke-width=\"0.2\" d=\"M70,-27.97C70,-24.53 70,-20.16 70,-16.39\"/>\n",
       "<polygon fill=\"black\" stroke=\"black\" stroke-width=\"0.2\" points=\"70.7,-16.36 70,-14.36 69.3,-16.36 70.7,-16.36\"/>\n",
       "</g>\n",
       "<!-- 3 -->\n",
       "<g id=\"node3\" class=\"node\">\n",
       "<title>3</title>\n",
       "<text text-anchor=\"middle\" x=\"70\" y=\"-60.8\" font-family=\"Courier,monospace\" font-size=\"9.00\">Clock</text>\n",
       "</g>\n",
       "<!-- 3&#45;&gt;2 -->\n",
       "<g id=\"edge2\" class=\"edge\">\n",
       "<title>3&#45;&gt;2</title>\n",
       "<path fill=\"none\" stroke=\"black\" stroke-width=\"0.2\" d=\"M70,-55.97C70,-52.53 70,-48.16 70,-44.39\"/>\n",
       "<polygon fill=\"black\" stroke=\"black\" stroke-width=\"0.2\" points=\"70.7,-44.36 70,-42.36 69.3,-44.36 70.7,-44.36\"/>\n",
       "</g>\n",
       "</g>\n",
       "</svg>\n"
      ],
      "text/plain": [
       "\u001b[90m{\u001b[39m\u001b[95mMySystem\u001b[39m\u001b[90m, \u001b[39m\u001b[95mContext\u001b[39m\u001b[90m, \u001b[39m\u001b[95mClock\u001b[39m\u001b[90m}\u001b[39m"
      ]
     },
     "execution_count": 50,
     "metadata": {},
     "output_type": "execute_result"
    }
   ],
   "source": [
    "Cropbox.hierarchy(MySystem)"
   ]
  },
  {
   "cell_type": "markdown",
   "metadata": {},
   "source": [
    "In order to get a model that can be run, we need to make an instance of `System`. It can be done by calling `instance()` function on the type of `System`."
   ]
  },
  {
   "cell_type": "code",
   "execution_count": 51,
   "metadata": {},
   "outputs": [
    {
     "data": {
      "text/plain": [
       "\u001b[95mS\u001b[39m\n",
       "  \u001b[94mcontext\u001b[39m\u001b[90m = \u001b[39m<Context>\n",
       "  \u001b[94mconfig\u001b[39m\u001b[90m = \u001b[39m<Config>\n",
       "  \u001b[94mi\u001b[39m\u001b[90m = \u001b[39m1.0\n",
       "  \u001b[94ma\u001b[39m\u001b[90m = \u001b[39m0.1\n",
       "  \u001b[94mr\u001b[39m\u001b[90m = \u001b[39m0.1\n",
       "  \u001b[94mx\u001b[39m\u001b[90m = \u001b[39m1.0"
      ]
     },
     "execution_count": 51,
     "metadata": {},
     "output_type": "execute_result"
    }
   ],
   "source": [
    "s = instance(S)"
   ]
  },
  {
   "cell_type": "markdown",
   "metadata": {},
   "source": [
    "Here, we just made an instance of `S` which is referred by a variable name `s`."
   ]
  },
  {
   "cell_type": "markdown",
   "metadata": {},
   "source": [
    "#### Simulation"
   ]
  },
  {
   "cell_type": "markdown",
   "metadata": {},
   "source": [
    "Now we can call `simulate!()` to update its internal states for one time step. The function will keep updating the internal state of the given system instance until a stop condition is met. Here we pass the number of iterations for the updates, which is 1, to `stop` keyword argument."
   ]
  },
  {
   "cell_type": "code",
   "execution_count": 52,
   "metadata": {},
   "outputs": [
    {
     "data": {
      "text/html": [
       "<div class=\"data-frame\"><p>2 rows × 5 columns</p><table class=\"data-frame\"><thead><tr><th></th><th>time</th><th>i</th><th>a</th><th>r</th><th>x</th></tr><tr><th></th><th title=\"Unitful.Quantity{Float64, 𝐓, Unitful.FreeUnits{(hr,), 𝐓, nothing}}\">Quantit…</th><th title=\"Float64\">Float64</th><th title=\"Float64\">Float64</th><th title=\"Float64\">Float64</th><th title=\"Float64\">Float64</th></tr></thead><tbody><tr><th>1</th><td>0.0 hr</td><td>1.0</td><td>0.1</td><td>0.1</td><td>1.0</td></tr><tr><th>2</th><td>1.0 hr</td><td>1.0</td><td>0.1</td><td>0.11</td><td>1.1</td></tr></tbody></table></div>"
      ],
      "text/latex": [
       "\\begin{tabular}{r|ccccc}\n",
       "\t& time & i & a & r & x\\\\\n",
       "\t\\hline\n",
       "\t& Quantit… & Float64 & Float64 & Float64 & Float64\\\\\n",
       "\t\\hline\n",
       "\t1 & 0.0 hr & 1.0 & 0.1 & 0.1 & 1.0 \\\\\n",
       "\t2 & 1.0 hr & 1.0 & 0.1 & 0.11 & 1.1 \\\\\n",
       "\\end{tabular}\n"
      ],
      "text/plain": [
       "\u001b[1m2×5 DataFrame\u001b[0m\n",
       "\u001b[1m Row \u001b[0m│\u001b[1m time      \u001b[0m\u001b[1m i       \u001b[0m\u001b[1m a       \u001b[0m\u001b[1m r       \u001b[0m\u001b[1m x       \u001b[0m\n",
       "\u001b[1m     \u001b[0m│\u001b[90m Quantity… \u001b[0m\u001b[90m Float64 \u001b[0m\u001b[90m Float64 \u001b[0m\u001b[90m Float64 \u001b[0m\u001b[90m Float64 \u001b[0m\n",
       "─────┼───────────────────────────────────────────────\n",
       "   1 │    0.0 hr      1.0      0.1     0.1       1.0\n",
       "   2 │    1.0 hr      1.0      0.1     0.11      1.1"
      ]
     },
     "execution_count": 52,
     "metadata": {},
     "output_type": "execute_result"
    }
   ],
   "source": [
    "simulate!(s, stop = 1)"
   ]
  },
  {
   "cell_type": "markdown",
   "metadata": {},
   "source": [
    "If you want to run for more than one time step, the number of iterations can be specfied."
   ]
  },
  {
   "cell_type": "code",
   "execution_count": 53,
   "metadata": {},
   "outputs": [
    {
     "data": {
      "text/html": [
       "<div class=\"data-frame\"><p>3 rows × 5 columns</p><table class=\"data-frame\"><thead><tr><th></th><th>time</th><th>i</th><th>a</th><th>r</th><th>x</th></tr><tr><th></th><th title=\"Unitful.Quantity{Float64, 𝐓, Unitful.FreeUnits{(hr,), 𝐓, nothing}}\">Quantit…</th><th title=\"Float64\">Float64</th><th title=\"Float64\">Float64</th><th title=\"Float64\">Float64</th><th title=\"Float64\">Float64</th></tr></thead><tbody><tr><th>1</th><td>1.0 hr</td><td>1.0</td><td>0.1</td><td>0.11</td><td>1.1</td></tr><tr><th>2</th><td>2.0 hr</td><td>1.0</td><td>0.1</td><td>0.121</td><td>1.21</td></tr><tr><th>3</th><td>3.0 hr</td><td>1.0</td><td>0.1</td><td>0.1331</td><td>1.331</td></tr></tbody></table></div>"
      ],
      "text/latex": [
       "\\begin{tabular}{r|ccccc}\n",
       "\t& time & i & a & r & x\\\\\n",
       "\t\\hline\n",
       "\t& Quantit… & Float64 & Float64 & Float64 & Float64\\\\\n",
       "\t\\hline\n",
       "\t1 & 1.0 hr & 1.0 & 0.1 & 0.11 & 1.1 \\\\\n",
       "\t2 & 2.0 hr & 1.0 & 0.1 & 0.121 & 1.21 \\\\\n",
       "\t3 & 3.0 hr & 1.0 & 0.1 & 0.1331 & 1.331 \\\\\n",
       "\\end{tabular}\n"
      ],
      "text/plain": [
       "\u001b[1m3×5 DataFrame\u001b[0m\n",
       "\u001b[1m Row \u001b[0m│\u001b[1m time      \u001b[0m\u001b[1m i       \u001b[0m\u001b[1m a       \u001b[0m\u001b[1m r       \u001b[0m\u001b[1m x       \u001b[0m\n",
       "\u001b[1m     \u001b[0m│\u001b[90m Quantity… \u001b[0m\u001b[90m Float64 \u001b[0m\u001b[90m Float64 \u001b[0m\u001b[90m Float64 \u001b[0m\u001b[90m Float64 \u001b[0m\n",
       "─────┼───────────────────────────────────────────────\n",
       "   1 │    1.0 hr      1.0      0.1   0.11      1.1\n",
       "   2 │    2.0 hr      1.0      0.1   0.121     1.21\n",
       "   3 │    3.0 hr      1.0      0.1   0.1331    1.331"
      ]
     },
     "execution_count": 53,
     "metadata": {},
     "output_type": "execute_result"
    }
   ],
   "source": [
    "simulate!(s, stop = 2)"
   ]
  },
  {
   "cell_type": "markdown",
   "metadata": {},
   "source": [
    "Instead of calling `simulate!()` after `instance()`, `simulate()` can do both at the same time. Note that `simulate()` works with the type of `System` whereas `simulate!()` works with an instance of such `System`. Note that Julia follows a convention that function ending with `!` can change or mutate any arguments supplied to the function."
   ]
  },
  {
   "cell_type": "code",
   "execution_count": 54,
   "metadata": {},
   "outputs": [
    {
     "data": {
      "text/html": [
       "<div class=\"data-frame\"><p>4 rows × 5 columns</p><table class=\"data-frame\"><thead><tr><th></th><th>time</th><th>i</th><th>a</th><th>r</th><th>x</th></tr><tr><th></th><th title=\"Unitful.Quantity{Float64, 𝐓, Unitful.FreeUnits{(hr,), 𝐓, nothing}}\">Quantit…</th><th title=\"Float64\">Float64</th><th title=\"Float64\">Float64</th><th title=\"Float64\">Float64</th><th title=\"Float64\">Float64</th></tr></thead><tbody><tr><th>1</th><td>0.0 hr</td><td>1.0</td><td>0.1</td><td>0.1</td><td>1.0</td></tr><tr><th>2</th><td>1.0 hr</td><td>1.0</td><td>0.1</td><td>0.11</td><td>1.1</td></tr><tr><th>3</th><td>2.0 hr</td><td>1.0</td><td>0.1</td><td>0.121</td><td>1.21</td></tr><tr><th>4</th><td>3.0 hr</td><td>1.0</td><td>0.1</td><td>0.1331</td><td>1.331</td></tr></tbody></table></div>"
      ],
      "text/latex": [
       "\\begin{tabular}{r|ccccc}\n",
       "\t& time & i & a & r & x\\\\\n",
       "\t\\hline\n",
       "\t& Quantit… & Float64 & Float64 & Float64 & Float64\\\\\n",
       "\t\\hline\n",
       "\t1 & 0.0 hr & 1.0 & 0.1 & 0.1 & 1.0 \\\\\n",
       "\t2 & 1.0 hr & 1.0 & 0.1 & 0.11 & 1.1 \\\\\n",
       "\t3 & 2.0 hr & 1.0 & 0.1 & 0.121 & 1.21 \\\\\n",
       "\t4 & 3.0 hr & 1.0 & 0.1 & 0.1331 & 1.331 \\\\\n",
       "\\end{tabular}\n"
      ],
      "text/plain": [
       "\u001b[1m4×5 DataFrame\u001b[0m\n",
       "\u001b[1m Row \u001b[0m│\u001b[1m time      \u001b[0m\u001b[1m i       \u001b[0m\u001b[1m a       \u001b[0m\u001b[1m r       \u001b[0m\u001b[1m x       \u001b[0m\n",
       "\u001b[1m     \u001b[0m│\u001b[90m Quantity… \u001b[0m\u001b[90m Float64 \u001b[0m\u001b[90m Float64 \u001b[0m\u001b[90m Float64 \u001b[0m\u001b[90m Float64 \u001b[0m\n",
       "─────┼───────────────────────────────────────────────\n",
       "   1 │    0.0 hr      1.0      0.1   0.1       1.0\n",
       "   2 │    1.0 hr      1.0      0.1   0.11      1.1\n",
       "   3 │    2.0 hr      1.0      0.1   0.121     1.21\n",
       "   4 │    3.0 hr      1.0      0.1   0.1331    1.331"
      ]
     },
     "execution_count": 54,
     "metadata": {},
     "output_type": "execute_result"
    }
   ],
   "source": [
    "simulate(S, stop = 3)"
   ]
  },
  {
   "cell_type": "markdown",
   "metadata": {},
   "source": [
    "#### Navigation"
   ]
  },
  {
   "cell_type": "markdown",
   "metadata": {},
   "source": [
    "Cropbox provides `dive()` function which is a simple interactive tool for inspecting internal states of `System`. Unfortunately, it [doesn't work](https://github.com/JuliaLang/IJulia.jl/issues/801) inside Jupyter Notebook, merely showing some values with no navigation allowed. It should be still very handy on terminal REPL environment where you can freely navigate in and out of the variables."
   ]
  },
  {
   "cell_type": "code",
   "execution_count": 55,
   "metadata": {},
   "outputs": [
    {
     "name": "stdout",
     "output_type": "stream",
     "text": [
      "\u001b[90m[doc]\u001b[39m\n",
      "\n",
      "\u001b[90m[system]\u001b[39m\n",
      "\u001b[95mS\u001b[39m\n",
      "  \u001b[94mcontext\u001b[39m\u001b[90m = \u001b[39m<Context>\n",
      "  \u001b[94mconfig\u001b[39m\u001b[90m = \u001b[39m<Config>\n",
      "  \u001b[94mi\u001b[39m\u001b[90m = \u001b[39m1.0\n",
      "  \u001b[94ma\u001b[39m\u001b[90m = \u001b[39m0.1\n",
      "  \u001b[94mr\u001b[39m\u001b[90m = \u001b[39m0.1331\n",
      "  \u001b[94mx\u001b[39m\u001b[90m = \u001b[39m1.331"
     ]
    }
   ],
   "source": [
    "dive(s)"
   ]
  },
  {
   "cell_type": "markdown",
   "metadata": {},
   "source": [
    "We can also take a look into an internal state of the instance via `look()` function or `@look` macro."
   ]
  },
  {
   "cell_type": "code",
   "execution_count": 56,
   "metadata": {},
   "outputs": [
    {
     "name": "stdout",
     "output_type": "stream",
     "text": [
      "\u001b[90m[doc]\u001b[39m\n",
      "\n",
      "\u001b[90m[system]\u001b[39m\n",
      "\u001b[95mS\u001b[39m\n",
      "  \u001b[94mcontext\u001b[39m\u001b[90m = \u001b[39m<Context>\n",
      "  \u001b[94mconfig\u001b[39m\u001b[90m = \u001b[39m<Config>\n",
      "  \u001b[94mi\u001b[39m\u001b[90m = \u001b[39m1.0\n",
      "  \u001b[94ma\u001b[39m\u001b[90m = \u001b[39m0.1\n",
      "  \u001b[94mr\u001b[39m\u001b[90m = \u001b[39m0.1331\n",
      "  \u001b[94mx\u001b[39m\u001b[90m = \u001b[39m1.331"
     ]
    }
   ],
   "source": [
    "look(s)"
   ]
  },
  {
   "cell_type": "code",
   "execution_count": 57,
   "metadata": {},
   "outputs": [
    {
     "name": "stdout",
     "output_type": "stream",
     "text": [
      "\u001b[90m[doc]\u001b[39m\n",
      "\n",
      "\u001b[90m[system]\u001b[39m\n",
      "\u001b[95mS\u001b[39m\n",
      "  \u001b[94mcontext\u001b[39m\u001b[90m = \u001b[39m<Context>\n",
      "  \u001b[94mconfig\u001b[39m\u001b[90m = \u001b[39m<Config>\n",
      "  \u001b[94mi\u001b[39m\u001b[90m = \u001b[39m1.0\n",
      "  \u001b[94ma\u001b[39m\u001b[90m = \u001b[39m0.1\n",
      "  \u001b[94mr\u001b[39m\u001b[90m = \u001b[39m0.1331\n",
      "  \u001b[94mx\u001b[39m\u001b[90m = \u001b[39m1.331"
     ]
    }
   ],
   "source": [
    "@look s"
   ]
  },
  {
   "cell_type": "markdown",
   "metadata": {},
   "source": [
    "The `@look` macro can be convenient when you want to inspect a variable inside the system."
   ]
  },
  {
   "cell_type": "code",
   "execution_count": 58,
   "metadata": {},
   "outputs": [
    {
     "name": "stdout",
     "output_type": "stream",
     "text": [
      "\u001b[90m[doc]\u001b[39m\n",
      "\n",
      "\u001b[90m[code]\u001b[39m\n",
      "\u001b[22;23;24m  \u001b[22;23;24ma\u001b[22;23;24m \u001b[38;2;102;102;102;1;23;24m=>\u001b[39;22m\u001b[22;23;24m \u001b[38;2;59;151;46;22;23;24m0.1\u001b[39m\u001b[22;23;24m \u001b[38;2;102;102;102;1;23;24m~\u001b[39;22m\u001b[22;23;24m \u001b[38;2;66;102;213;22;23;24mpreserve\u001b[39m\u001b[22;23;24m(\u001b[22;23;24mparameter\u001b[22;23;24m)\n",
      "\n",
      "\u001b[90m[value]\u001b[39m\n",
      "0.1"
     ]
    }
   ],
   "source": [
    "@look s.a"
   ]
  },
  {
   "cell_type": "markdown",
   "metadata": {},
   "source": [
    "How is it different from using `look()` function instead?"
   ]
  },
  {
   "cell_type": "code",
   "execution_count": 59,
   "metadata": {},
   "outputs": [
    {
     "ename": "LoadError",
     "evalue": "MethodError: no method matching look(::Cropbox.Preserve{Float64})\n\u001b[0mClosest candidates are:\n\u001b[0m  look(\u001b[91m::System\u001b[39m; kw...) at /home/Cropbox.jl/src/look.jl:45\n\u001b[0m  look(\u001b[91m::Type{var\"#s2\"} where var\"#s2\"<:System\u001b[39m; kw...) at /home/Cropbox.jl/src/look.jl:46\n\u001b[0m  look(\u001b[91m::System\u001b[39m, \u001b[91m::Symbol\u001b[39m; kw...) at /home/Cropbox.jl/src/look.jl:47\n\u001b[0m  ...",
     "output_type": "error",
     "traceback": [
      "MethodError: no method matching look(::Cropbox.Preserve{Float64})\n\u001b[0mClosest candidates are:\n\u001b[0m  look(\u001b[91m::System\u001b[39m; kw...) at /home/Cropbox.jl/src/look.jl:45\n\u001b[0m  look(\u001b[91m::Type{var\"#s2\"} where var\"#s2\"<:System\u001b[39m; kw...) at /home/Cropbox.jl/src/look.jl:46\n\u001b[0m  look(\u001b[91m::System\u001b[39m, \u001b[91m::Symbol\u001b[39m; kw...) at /home/Cropbox.jl/src/look.jl:47\n\u001b[0m  ...",
      "",
      "Stacktrace:",
      " [1] top-level scope",
      "   @ In[59]:1",
      " [2] eval",
      "   @ ./boot.jl:360 [inlined]",
      " [3] include_string(mapexpr::typeof(REPL.softscope), mod::Module, code::String, filename::String)",
      "   @ Base ./loading.jl:1116"
     ]
    }
   ],
   "source": [
    "look(s.a)"
   ]
  },
  {
   "cell_type": "markdown",
   "metadata": {},
   "source": [
    "Calling `look()` directly with an argument `s.a` doesn't work here since `s.a` needs to be evaluated before calling the function and then the function can't figure out the name of binding variable once it's evaluated. In other words, a proper way of using `look()` for inspecting a variable would be like this."
   ]
  },
  {
   "cell_type": "code",
   "execution_count": 60,
   "metadata": {},
   "outputs": [
    {
     "name": "stdout",
     "output_type": "stream",
     "text": [
      "\u001b[90m[doc]\u001b[39m\n",
      "\n",
      "\u001b[90m[code]\u001b[39m\n",
      "\u001b[22;23;24m  \u001b[22;23;24ma\u001b[22;23;24m \u001b[38;2;102;102;102;1;23;24m=>\u001b[39;22m\u001b[22;23;24m \u001b[38;2;59;151;46;22;23;24m0.1\u001b[39m\u001b[22;23;24m \u001b[38;2;102;102;102;1;23;24m~\u001b[39;22m\u001b[22;23;24m \u001b[38;2;66;102;213;22;23;24mpreserve\u001b[39m\u001b[22;23;24m(\u001b[22;23;24mparameter\u001b[22;23;24m)\n",
      "\n",
      "\u001b[90m[value]\u001b[39m\n",
      "0.1"
     ]
    }
   ],
   "source": [
    "look(s, :a)"
   ]
  },
  {
   "cell_type": "markdown",
   "metadata": {},
   "source": [
    "Actually we can confirm that this is exactly how `@look s.a` got expanded internally."
   ]
  },
  {
   "cell_type": "code",
   "execution_count": 61,
   "metadata": {},
   "outputs": [
    {
     "data": {
      "text/plain": [
       ":((Cropbox.Cropbox).look(s, :a))"
      ]
     },
     "execution_count": 61,
     "metadata": {},
     "output_type": "execute_result"
    }
   ],
   "source": [
    "@macroexpand @look s.a"
   ]
  },
  {
   "cell_type": "markdown",
   "metadata": {},
   "source": [
    "Since macro works with whatever expression you type in without evaluation, it can help creating a new syntax not necessarily based on existing Julia language. That's how we built Cropbox."
   ]
  },
  {
   "cell_type": "markdown",
   "metadata": {},
   "source": [
    "#### Controller"
   ]
  },
  {
   "cell_type": "markdown",
   "metadata": {},
   "source": [
    "At this point, you may want to run this model as we did before with `simulate()`, but it would turn out our `MySystem` can't be run as a standalone model. Due to some technical implications regarding performance, any `System` that wants to be a direct target of instantiation requires to include `Controller` mixin in its specification. Remember we had `@system S(Controller) ..`, not just `@system S ..` in our first example."
   ]
  },
  {
   "cell_type": "markdown",
   "metadata": {},
   "source": [
    "#### Mixin"
   ]
  },
  {
   "cell_type": "markdown",
   "metadata": {},
   "source": [
    "[Mixin](https://en.wikipedia.org/wiki/Mixin) is a piece of `System` specification that can be included in the specification of larger `System`. Each mixin implements an own set of variables and some of them may be linked with variables from other `System` when a new `System` is formed. Mixins are declared by giving a list of them enclosed within parentheses after the name of `System` in the specification."
   ]
  },
  {
   "cell_type": "markdown",
   "metadata": {},
   "source": [
    "Here is an example of mixin where `S3` is composed by including `S1` and `S2` as mixins."
   ]
  },
  {
   "cell_type": "code",
   "execution_count": 62,
   "metadata": {},
   "outputs": [
    {
     "data": {
      "text/plain": [
       "S1"
      ]
     },
     "execution_count": 62,
     "metadata": {},
     "output_type": "execute_result"
    }
   ],
   "source": [
    "@system S1 begin\n",
    "    a => 1 ~ preserve(parameter)\n",
    "    b(a) => 2a ~ track\n",
    "end"
   ]
  },
  {
   "cell_type": "code",
   "execution_count": 63,
   "metadata": {},
   "outputs": [
    {
     "data": {
      "text/plain": [
       "S2"
      ]
     },
     "execution_count": 63,
     "metadata": {},
     "output_type": "execute_result"
    }
   ],
   "source": [
    "@system S2 begin\n",
    "    a => 2 ~ preserve(parameter)\n",
    "    b(a, c) => a*c ~ track\n",
    "    c => 1 ~ preserve\n",
    "end"
   ]
  },
  {
   "cell_type": "code",
   "execution_count": 64,
   "metadata": {},
   "outputs": [
    {
     "data": {
      "text/plain": [
       "S3"
      ]
     },
     "execution_count": 64,
     "metadata": {},
     "output_type": "execute_result"
    }
   ],
   "source": [
    "@system S3(S1, S2) begin\n",
    "    d(a) => 3a ~ preserve\n",
    "end"
   ]
  },
  {
   "cell_type": "markdown",
   "metadata": {},
   "source": [
    "We can take a look at the actual specification of `S3` after mixins were included by calling `Cropbox.source()`."
   ]
  },
  {
   "cell_type": "code",
   "execution_count": 65,
   "metadata": {},
   "outputs": [
    {
     "data": {
      "text/plain": [
       "quote\n",
       "    #= In[64]:2 =#\n",
       "    d(a) => 3a ~ preserve\n",
       "end"
      ]
     },
     "execution_count": 65,
     "metadata": {},
     "output_type": "execute_result"
    }
   ],
   "source": [
    "Cropbox.source(S3)"
   ]
  },
  {
   "cell_type": "markdown",
   "metadata": {},
   "source": [
    "Note that `a` from `S1` with default value of 1 was overridden by `S2` where default value was 2. The same went for variable `b`. In other words, order of mixins are important."
   ]
  },
  {
   "cell_type": "markdown",
   "metadata": {},
   "source": [
    "It may help understanding mixins by visualizaing their structure."
   ]
  },
  {
   "cell_type": "code",
   "execution_count": 66,
   "metadata": {},
   "outputs": [
    {
     "data": {
      "image/svg+xml": [
       "<?xml version=\"1.0\" encoding=\"UTF-8\" standalone=\"no\"?>\n",
       "<!DOCTYPE svg PUBLIC \"-//W3C//DTD SVG 1.1//EN\"\n",
       " \"http://www.w3.org/Graphics/SVG/1.1/DTD/svg11.dtd\">\n",
       "<!-- Generated by graphviz version 2.49.0 (20210829.0051)\n",
       " -->\n",
       "<!-- Pages: 1 -->\n",
       "<svg width=\"204pt\" height=\"106pt\"\n",
       " viewBox=\"0.00 0.00 204.00 106.00\" xmlns=\"http://www.w3.org/2000/svg\" xmlns:xlink=\"http://www.w3.org/1999/xlink\">\n",
       "<g id=\"graph0\" class=\"graph\" transform=\"scale(1 1) rotate(0) translate(4 102)\">\n",
       "<polygon fill=\"white\" stroke=\"transparent\" points=\"-4,4 -4,-102 200,-102 200,4 -4,4\"/>\n",
       "<!-- 1 -->\n",
       "<g id=\"node1\" class=\"node\">\n",
       "<title>1</title>\n",
       "<text text-anchor=\"middle\" x=\"98\" y=\"-88.8\" font-family=\"Courier,monospace\" font-size=\"9.00\">context</text>\n",
       "</g>\n",
       "<!-- 2 -->\n",
       "<g id=\"node2\" class=\"node\">\n",
       "<title>2</title>\n",
       "<text text-anchor=\"middle\" x=\"98\" y=\"-60.8\" font-family=\"Courier,monospace\" font-size=\"9.00\">config</text>\n",
       "</g>\n",
       "<!-- 1&#45;&gt;2 -->\n",
       "<g id=\"edge1\" class=\"edge\">\n",
       "<title>1&#45;&gt;2</title>\n",
       "<path fill=\"none\" stroke=\"black\" stroke-width=\"0.2\" d=\"M98,-83.97C98,-80.53 98,-76.16 98,-72.39\"/>\n",
       "<polygon fill=\"black\" stroke=\"black\" stroke-width=\"0.2\" points=\"98.7,-72.36 98,-70.36 97.3,-72.36 98.7,-72.36\"/>\n",
       "</g>\n",
       "<!-- 3 -->\n",
       "<g id=\"node3\" class=\"node\">\n",
       "<title>3</title>\n",
       "<text text-anchor=\"middle\" x=\"98\" y=\"-32.8\" font-family=\"Courier,monospace\" font-size=\"9.00\">a</text>\n",
       "</g>\n",
       "<!-- 2&#45;&gt;3 -->\n",
       "<g id=\"edge2\" class=\"edge\">\n",
       "<title>2&#45;&gt;3</title>\n",
       "<path fill=\"none\" stroke=\"black\" stroke-width=\"0.2\" d=\"M98,-55.97C98,-52.53 98,-48.16 98,-44.39\"/>\n",
       "<polygon fill=\"black\" stroke=\"black\" stroke-width=\"0.2\" points=\"98.7,-44.36 98,-42.36 97.3,-44.36 98.7,-44.36\"/>\n",
       "</g>\n",
       "<!-- 4 -->\n",
       "<g id=\"node4\" class=\"node\">\n",
       "<title>4</title>\n",
       "<text text-anchor=\"middle\" x=\"98\" y=\"-4.8\" font-family=\"Courier,monospace\" font-size=\"9.00\">b</text>\n",
       "</g>\n",
       "<!-- 3&#45;&gt;4 -->\n",
       "<g id=\"edge3\" class=\"edge\">\n",
       "<title>3&#45;&gt;4</title>\n",
       "<path fill=\"none\" stroke=\"black\" stroke-width=\"0.2\" d=\"M98,-27.97C98,-24.53 98,-20.16 98,-16.39\"/>\n",
       "<polygon fill=\"black\" stroke=\"black\" stroke-width=\"0.2\" points=\"98.7,-16.36 98,-14.36 97.3,-16.36 98.7,-16.36\"/>\n",
       "</g>\n",
       "</g>\n",
       "</svg>\n"
      ],
      "text/plain": [
       "\u001b[90m[\u001b[39m\u001b[94mcontext\u001b[39m\u001b[90m → \u001b[39m\u001b[94mconfig\u001b[39m\u001b[90m → \u001b[39m\u001b[94ma\u001b[39m\u001b[90m → \u001b[39m\u001b[94mb\u001b[39m\u001b[90m]\u001b[39m"
      ]
     },
     "execution_count": 66,
     "metadata": {},
     "output_type": "execute_result"
    }
   ],
   "source": [
    "Cropbox.dependency(S1)"
   ]
  },
  {
   "cell_type": "code",
   "execution_count": 67,
   "metadata": {},
   "outputs": [
    {
     "data": {
      "image/svg+xml": [
       "<?xml version=\"1.0\" encoding=\"UTF-8\" standalone=\"no\"?>\n",
       "<!DOCTYPE svg PUBLIC \"-//W3C//DTD SVG 1.1//EN\"\n",
       " \"http://www.w3.org/Graphics/SVG/1.1/DTD/svg11.dtd\">\n",
       "<!-- Generated by graphviz version 2.49.0 (20210829.0051)\n",
       " -->\n",
       "<!-- Pages: 1 -->\n",
       "<svg width=\"206pt\" height=\"106pt\"\n",
       " viewBox=\"0.00 0.00 205.85 106.00\" xmlns=\"http://www.w3.org/2000/svg\" xmlns:xlink=\"http://www.w3.org/1999/xlink\">\n",
       "<g id=\"graph0\" class=\"graph\" transform=\"scale(1 1) rotate(0) translate(4 102)\">\n",
       "<polygon fill=\"white\" stroke=\"transparent\" points=\"-4,4 -4,-102 201.85,-102 201.85,4 -4,4\"/>\n",
       "<!-- 1 -->\n",
       "<g id=\"node1\" class=\"node\">\n",
       "<title>1</title>\n",
       "<text text-anchor=\"middle\" x=\"75.58\" y=\"-88.8\" font-family=\"Courier,monospace\" font-size=\"9.00\">context</text>\n",
       "</g>\n",
       "<!-- 2 -->\n",
       "<g id=\"node2\" class=\"node\">\n",
       "<title>2</title>\n",
       "<text text-anchor=\"middle\" x=\"75.58\" y=\"-60.8\" font-family=\"Courier,monospace\" font-size=\"9.00\">config</text>\n",
       "</g>\n",
       "<!-- 1&#45;&gt;2 -->\n",
       "<g id=\"edge1\" class=\"edge\">\n",
       "<title>1&#45;&gt;2</title>\n",
       "<path fill=\"none\" stroke=\"black\" stroke-width=\"0.2\" d=\"M75.58,-83.97C75.58,-80.53 75.58,-76.16 75.58,-72.39\"/>\n",
       "<polygon fill=\"black\" stroke=\"black\" stroke-width=\"0.2\" points=\"76.29,-72.36 75.58,-70.36 74.89,-72.36 76.29,-72.36\"/>\n",
       "</g>\n",
       "<!-- 3 -->\n",
       "<g id=\"node3\" class=\"node\">\n",
       "<title>3</title>\n",
       "<text text-anchor=\"middle\" x=\"75.58\" y=\"-32.8\" font-family=\"Courier,monospace\" font-size=\"9.00\">a</text>\n",
       "</g>\n",
       "<!-- 2&#45;&gt;3 -->\n",
       "<g id=\"edge2\" class=\"edge\">\n",
       "<title>2&#45;&gt;3</title>\n",
       "<path fill=\"none\" stroke=\"black\" stroke-width=\"0.2\" d=\"M75.58,-55.97C75.58,-52.53 75.58,-48.16 75.58,-44.39\"/>\n",
       "<polygon fill=\"black\" stroke=\"black\" stroke-width=\"0.2\" points=\"76.29,-44.36 75.58,-42.36 74.89,-44.36 76.29,-44.36\"/>\n",
       "</g>\n",
       "<!-- 4 -->\n",
       "<g id=\"node4\" class=\"node\">\n",
       "<title>4</title>\n",
       "<text text-anchor=\"middle\" x=\"127.58\" y=\"-4.8\" font-family=\"Courier,monospace\" font-size=\"9.00\">b</text>\n",
       "</g>\n",
       "<!-- 3&#45;&gt;4 -->\n",
       "<g id=\"edge3\" class=\"edge\">\n",
       "<title>3&#45;&gt;4</title>\n",
       "<path fill=\"none\" stroke=\"black\" stroke-width=\"0.2\" d=\"M80.76,-31.41C90.11,-26.74 109.81,-16.89 120.43,-11.58\"/>\n",
       "<polygon fill=\"black\" stroke=\"black\" stroke-width=\"0.2\" points=\"120.95,-12.1 122.43,-10.58 120.33,-10.85 120.95,-12.1\"/>\n",
       "</g>\n",
       "<!-- 5 -->\n",
       "<g id=\"node5\" class=\"node\">\n",
       "<title>5</title>\n",
       "<text text-anchor=\"middle\" x=\"179.58\" y=\"-32.8\" font-family=\"Courier,monospace\" font-size=\"9.00\">c</text>\n",
       "</g>\n",
       "<!-- 5&#45;&gt;4 -->\n",
       "<g id=\"edge4\" class=\"edge\">\n",
       "<title>5&#45;&gt;4</title>\n",
       "<path fill=\"none\" stroke=\"black\" stroke-width=\"0.2\" d=\"M174.41,-31.41C165.06,-26.74 145.36,-16.89 134.74,-11.58\"/>\n",
       "<polygon fill=\"black\" stroke=\"black\" stroke-width=\"0.2\" points=\"134.84,-10.85 132.74,-10.58 134.22,-12.1 134.84,-10.85\"/>\n",
       "</g>\n",
       "</g>\n",
       "</svg>\n"
      ],
      "text/plain": [
       "\u001b[90m[\u001b[39m\u001b[94mc\u001b[39m\u001b[90m → \u001b[39m\u001b[94mcontext\u001b[39m\u001b[90m → \u001b[39m\u001b[94mconfig\u001b[39m\u001b[90m → \u001b[39m\u001b[94ma\u001b[39m\u001b[90m → \u001b[39m\u001b[94mb\u001b[39m\u001b[90m]\u001b[39m"
      ]
     },
     "execution_count": 67,
     "metadata": {},
     "output_type": "execute_result"
    }
   ],
   "source": [
    "Cropbox.dependency(S2)"
   ]
  },
  {
   "cell_type": "code",
   "execution_count": 68,
   "metadata": {},
   "outputs": [
    {
     "data": {
      "image/svg+xml": [
       "<?xml version=\"1.0\" encoding=\"UTF-8\" standalone=\"no\"?>\n",
       "<!DOCTYPE svg PUBLIC \"-//W3C//DTD SVG 1.1//EN\"\n",
       " \"http://www.w3.org/Graphics/SVG/1.1/DTD/svg11.dtd\">\n",
       "<!-- Generated by graphviz version 2.49.0 (20210829.0051)\n",
       " -->\n",
       "<!-- Pages: 1 -->\n",
       "<svg width=\"206pt\" height=\"106pt\"\n",
       " viewBox=\"0.00 0.00 205.85 106.00\" xmlns=\"http://www.w3.org/2000/svg\" xmlns:xlink=\"http://www.w3.org/1999/xlink\">\n",
       "<g id=\"graph0\" class=\"graph\" transform=\"scale(1 1) rotate(0) translate(4 102)\">\n",
       "<polygon fill=\"white\" stroke=\"transparent\" points=\"-4,4 -4,-102 201.85,-102 201.85,4 -4,4\"/>\n",
       "<!-- 1 -->\n",
       "<g id=\"node1\" class=\"node\">\n",
       "<title>1</title>\n",
       "<text text-anchor=\"middle\" x=\"122.04\" y=\"-88.8\" font-family=\"Courier,monospace\" font-size=\"9.00\">context</text>\n",
       "</g>\n",
       "<!-- 2 -->\n",
       "<g id=\"node2\" class=\"node\">\n",
       "<title>2</title>\n",
       "<text text-anchor=\"middle\" x=\"122.04\" y=\"-60.8\" font-family=\"Courier,monospace\" font-size=\"9.00\">config</text>\n",
       "</g>\n",
       "<!-- 1&#45;&gt;2 -->\n",
       "<g id=\"edge1\" class=\"edge\">\n",
       "<title>1&#45;&gt;2</title>\n",
       "<path fill=\"none\" stroke=\"black\" stroke-width=\"0.2\" d=\"M122.04,-83.97C122.04,-80.53 122.04,-76.16 122.04,-72.39\"/>\n",
       "<polygon fill=\"black\" stroke=\"black\" stroke-width=\"0.2\" points=\"122.74,-72.36 122.04,-70.36 121.34,-72.36 122.74,-72.36\"/>\n",
       "</g>\n",
       "<!-- 3 -->\n",
       "<g id=\"node3\" class=\"node\">\n",
       "<title>3</title>\n",
       "<text text-anchor=\"middle\" x=\"122.04\" y=\"-32.8\" font-family=\"Courier,monospace\" font-size=\"9.00\">a</text>\n",
       "</g>\n",
       "<!-- 2&#45;&gt;3 -->\n",
       "<g id=\"edge2\" class=\"edge\">\n",
       "<title>2&#45;&gt;3</title>\n",
       "<path fill=\"none\" stroke=\"black\" stroke-width=\"0.2\" d=\"M122.04,-55.97C122.04,-52.53 122.04,-48.16 122.04,-44.39\"/>\n",
       "<polygon fill=\"black\" stroke=\"black\" stroke-width=\"0.2\" points=\"122.74,-44.36 122.04,-42.36 121.34,-44.36 122.74,-44.36\"/>\n",
       "</g>\n",
       "<!-- 4 -->\n",
       "<g id=\"node4\" class=\"node\">\n",
       "<title>4</title>\n",
       "<text text-anchor=\"middle\" x=\"18.04\" y=\"-4.8\" font-family=\"Courier,monospace\" font-size=\"9.00\">b</text>\n",
       "</g>\n",
       "<!-- 3&#45;&gt;4 -->\n",
       "<g id=\"edge3\" class=\"edge\">\n",
       "<title>3&#45;&gt;4</title>\n",
       "<path fill=\"none\" stroke=\"black\" stroke-width=\"0.2\" d=\"M117.02,-32.75C100.18,-28.54 45.58,-14.88 25.52,-9.87\"/>\n",
       "<polygon fill=\"black\" stroke=\"black\" stroke-width=\"0.2\" points=\"25.36,-9.11 23.25,-9.3 25.02,-10.47 25.36,-9.11\"/>\n",
       "</g>\n",
       "<!-- 6 -->\n",
       "<g id=\"node6\" class=\"node\">\n",
       "<title>6</title>\n",
       "<text text-anchor=\"middle\" x=\"122.04\" y=\"-4.8\" font-family=\"Courier,monospace\" font-size=\"9.00\">d</text>\n",
       "</g>\n",
       "<!-- 3&#45;&gt;6 -->\n",
       "<g id=\"edge4\" class=\"edge\">\n",
       "<title>3&#45;&gt;6</title>\n",
       "<path fill=\"none\" stroke=\"black\" stroke-width=\"0.2\" d=\"M122.04,-27.97C122.04,-24.53 122.04,-20.16 122.04,-16.39\"/>\n",
       "<polygon fill=\"black\" stroke=\"black\" stroke-width=\"0.2\" points=\"122.74,-16.36 122.04,-14.36 121.34,-16.36 122.74,-16.36\"/>\n",
       "</g>\n",
       "<!-- 5 -->\n",
       "<g id=\"node5\" class=\"node\">\n",
       "<title>5</title>\n",
       "<text text-anchor=\"middle\" x=\"18.04\" y=\"-32.8\" font-family=\"Courier,monospace\" font-size=\"9.00\">c</text>\n",
       "</g>\n",
       "<!-- 5&#45;&gt;4 -->\n",
       "<g id=\"edge5\" class=\"edge\">\n",
       "<title>5&#45;&gt;4</title>\n",
       "<path fill=\"none\" stroke=\"black\" stroke-width=\"0.2\" d=\"M18.04,-27.97C18.04,-24.53 18.04,-20.16 18.04,-16.39\"/>\n",
       "<polygon fill=\"black\" stroke=\"black\" stroke-width=\"0.2\" points=\"18.74,-16.36 18.04,-14.36 17.34,-16.36 18.74,-16.36\"/>\n",
       "</g>\n",
       "</g>\n",
       "</svg>\n"
      ],
      "text/plain": [
       "\u001b[90m[\u001b[39m\u001b[94mc\u001b[39m\u001b[90m → \u001b[39m\u001b[94mcontext\u001b[39m\u001b[90m → \u001b[39m\u001b[94mconfig\u001b[39m\u001b[90m → \u001b[39m\u001b[94ma\u001b[39m\u001b[90m → \u001b[39m\u001b[94md\u001b[39m\u001b[90m → \u001b[39m\u001b[94mb\u001b[39m\u001b[90m]\u001b[39m"
      ]
     },
     "execution_count": 68,
     "metadata": {},
     "output_type": "execute_result"
    }
   ],
   "source": [
    "Cropbox.dependency(S3)"
   ]
  },
  {
   "cell_type": "code",
   "execution_count": 69,
   "metadata": {},
   "outputs": [
    {
     "data": {
      "image/svg+xml": [
       "<?xml version=\"1.0\" encoding=\"UTF-8\" standalone=\"no\"?>\n",
       "<!DOCTYPE svg PUBLIC \"-//W3C//DTD SVG 1.1//EN\"\n",
       " \"http://www.w3.org/Graphics/SVG/1.1/DTD/svg11.dtd\">\n",
       "<!-- Generated by graphviz version 2.49.0 (20210829.0051)\n",
       " -->\n",
       "<!-- Pages: 1 -->\n",
       "<svg width=\"204pt\" height=\"106pt\"\n",
       " viewBox=\"0.00 0.00 204.00 106.00\" xmlns=\"http://www.w3.org/2000/svg\" xmlns:xlink=\"http://www.w3.org/1999/xlink\">\n",
       "<g id=\"graph0\" class=\"graph\" transform=\"scale(1 1) rotate(0) translate(4 102)\">\n",
       "<polygon fill=\"white\" stroke=\"transparent\" points=\"-4,4 -4,-102 200,-102 200,4 -4,4\"/>\n",
       "<!-- 1 -->\n",
       "<g id=\"node1\" class=\"node\">\n",
       "<title>1</title>\n",
       "<text text-anchor=\"middle\" x=\"65.66\" y=\"-4.8\" font-family=\"Courier,monospace\" font-size=\"9.00\">S3</text>\n",
       "</g>\n",
       "<!-- 2 -->\n",
       "<g id=\"node2\" class=\"node\">\n",
       "<title>2</title>\n",
       "<text text-anchor=\"middle\" x=\"65.66\" y=\"-32.8\" font-family=\"Courier,monospace\" font-size=\"9.00\">S1</text>\n",
       "</g>\n",
       "<!-- 2&#45;&gt;1 -->\n",
       "<g id=\"edge1\" class=\"edge\">\n",
       "<title>2&#45;&gt;1</title>\n",
       "<path fill=\"none\" stroke=\"black\" stroke-width=\"0.2\" stroke-dasharray=\"5,2\" d=\"M65.66,-27.97C65.66,-24.53 65.66,-20.16 65.66,-16.39\"/>\n",
       "<polygon fill=\"black\" stroke=\"black\" stroke-width=\"0.2\" points=\"66.36,-16.36 65.66,-14.36 64.96,-16.36 66.36,-16.36\"/>\n",
       "</g>\n",
       "<!-- 3 -->\n",
       "<g id=\"node3\" class=\"node\">\n",
       "<title>3</title>\n",
       "<text text-anchor=\"middle\" x=\"65.66\" y=\"-60.8\" font-family=\"Courier,monospace\" font-size=\"9.00\">Context</text>\n",
       "</g>\n",
       "<!-- 3&#45;&gt;1 -->\n",
       "<g id=\"edge2\" class=\"edge\">\n",
       "<title>3&#45;&gt;1</title>\n",
       "<path fill=\"none\" stroke=\"black\" stroke-width=\"0.2\" d=\"M58.31,-55.76C54.65,-52.16 50.61,-47.3 48.66,-42 46.51,-36.16 46.51,-33.84 48.66,-28 50.3,-23.52 53.44,-19.37 56.58,-16.01\"/>\n",
       "<polygon fill=\"black\" stroke=\"black\" stroke-width=\"0.2\" points=\"57.42,-16.16 58.31,-14.24 56.41,-15.18 57.42,-16.16\"/>\n",
       "</g>\n",
       "<!-- 3&#45;&gt;2 -->\n",
       "<g id=\"edge3\" class=\"edge\">\n",
       "<title>3&#45;&gt;2</title>\n",
       "<path fill=\"none\" stroke=\"black\" stroke-width=\"0.2\" d=\"M65.66,-55.97C65.66,-52.53 65.66,-48.16 65.66,-44.39\"/>\n",
       "<polygon fill=\"black\" stroke=\"black\" stroke-width=\"0.2\" points=\"66.36,-44.36 65.66,-42.36 64.96,-44.36 66.36,-44.36\"/>\n",
       "</g>\n",
       "<!-- 5 -->\n",
       "<g id=\"node5\" class=\"node\">\n",
       "<title>5</title>\n",
       "<text text-anchor=\"middle\" x=\"171.66\" y=\"-32.8\" font-family=\"Courier,monospace\" font-size=\"9.00\">S2</text>\n",
       "</g>\n",
       "<!-- 3&#45;&gt;5 -->\n",
       "<g id=\"edge4\" class=\"edge\">\n",
       "<title>3&#45;&gt;5</title>\n",
       "<path fill=\"none\" stroke=\"black\" stroke-width=\"0.2\" d=\"M86.35,-56.93C109.04,-51.36 144.52,-42.66 161.69,-38.45\"/>\n",
       "<polygon fill=\"black\" stroke=\"black\" stroke-width=\"0.2\" points=\"161.91,-39.11 163.69,-37.95 161.58,-37.75 161.91,-39.11\"/>\n",
       "</g>\n",
       "<!-- 4 -->\n",
       "<g id=\"node4\" class=\"node\">\n",
       "<title>4</title>\n",
       "<text text-anchor=\"middle\" x=\"65.66\" y=\"-88.8\" font-family=\"Courier,monospace\" font-size=\"9.00\">Clock</text>\n",
       "</g>\n",
       "<!-- 4&#45;&gt;3 -->\n",
       "<g id=\"edge5\" class=\"edge\">\n",
       "<title>4&#45;&gt;3</title>\n",
       "<path fill=\"none\" stroke=\"black\" stroke-width=\"0.2\" d=\"M65.66,-83.97C65.66,-80.53 65.66,-76.16 65.66,-72.39\"/>\n",
       "<polygon fill=\"black\" stroke=\"black\" stroke-width=\"0.2\" points=\"66.36,-72.36 65.66,-70.36 64.96,-72.36 66.36,-72.36\"/>\n",
       "</g>\n",
       "<!-- 5&#45;&gt;1 -->\n",
       "<g id=\"edge6\" class=\"edge\">\n",
       "<title>5&#45;&gt;1</title>\n",
       "<path fill=\"none\" stroke=\"black\" stroke-width=\"0.2\" stroke-dasharray=\"5,2\" d=\"M164.03,-32.13C145.16,-27.5 96.29,-15.51 75.38,-10.39\"/>\n",
       "<polygon fill=\"black\" stroke=\"black\" stroke-width=\"0.2\" points=\"75.32,-9.65 73.21,-9.85 74.99,-11.01 75.32,-9.65\"/>\n",
       "</g>\n",
       "</g>\n",
       "</svg>\n"
      ],
      "text/plain": [
       "\u001b[90m{\u001b[39m\u001b[95mS3\u001b[39m\u001b[90m, \u001b[39m\u001b[95mS1\u001b[39m\u001b[90m, \u001b[39m\u001b[95mContext\u001b[39m\u001b[90m, \u001b[39m\u001b[95mClock\u001b[39m\u001b[90m, \u001b[39m\u001b[95mS2\u001b[39m\u001b[90m}\u001b[39m"
      ]
     },
     "execution_count": 69,
     "metadata": {},
     "output_type": "execute_result"
    }
   ],
   "source": [
    "Cropbox.hierarchy(S3)"
   ]
  },
  {
   "cell_type": "markdown",
   "metadata": {},
   "source": [
    "Here `S3` *includes* `S1` and `S2`. `S3` *has* a `Context` which has a `Clock`."
   ]
  },
  {
   "cell_type": "markdown",
   "metadata": {},
   "source": [
    "### Notes"
   ]
  },
  {
   "cell_type": "markdown",
   "metadata": {},
   "source": [
    "1. Some functions (*i.e.* `simulate()`, `instance()`) we used in this notebook were called without explicit prefix of package name (`Cropbox.`), while some other functions were the opposite (*i.e.* `Cropbox.plot()`, `Cropbox.hierarchy()`, `Cropbox.source()`). The latter group of functions are not exported by default because they were likely designed for internal use only and are more likely to change their shapes/behaviors throughout the future development. So please be mindful when you happen to use them."
   ]
  },
  {
   "cell_type": "markdown",
   "metadata": {},
   "source": [
    "2. This tutorial assumed readers have basic understanding of Julia language. For more information, please read the official [Julia documentation](https://docs.julialang.org/)."
   ]
  }
 ],
 "metadata": {
  "@webio": {
   "lastCommId": "65e5fb1a-3248-40bc-bf27-51ba60d58fc5",
   "lastKernelId": "72b8eb22-b317-49b9-a442-906f25f41058"
  },
  "kernelspec": {
   "display_name": "Julia 1.6.2",
   "language": "julia",
   "name": "julia-1.6"
  },
  "language_info": {
   "file_extension": ".jl",
   "mimetype": "application/julia",
   "name": "julia",
   "version": "1.6.3"
  }
 },
 "nbformat": 4,
 "nbformat_minor": 4
}
