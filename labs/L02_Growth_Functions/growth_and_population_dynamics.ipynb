{
 "cells": [
  {
   "cell_type": "markdown",
   "metadata": {},
   "source": [
    "# Lab: Growth functions and population dynamics"
   ]
  },
  {
   "cell_type": "markdown",
   "metadata": {},
   "source": [
    "<div class=\"alert alert-warning\">\n",
    "If figures/tables are not rendered correctly, make sure your notebook is `trusted` by running `Trust Notebook` operation found in `Commands` (third icon from the top on the toolbar located left-hand side). You can easily find this menu by typing in \"trust\" in the search box there.\n",
    "</div>"
   ]
  },
  {
   "cell_type": "markdown",
   "metadata": {},
   "source": [
    "<div class=\"alert alert-info\">\n",
    "This is a student version of the notebook that some portions of code may be redacted with comments like `#= .. =#`. Students are encouraged to complete the code to get same/similar results as rendered in the notebook. A complete version of the notebook will be provided once the lab session is finished each week.\n",
    "</div>"
   ]
  },
  {
   "cell_type": "code",
   "execution_count": null,
   "metadata": {
    "tags": []
   },
   "outputs": [],
   "source": [
    "using Cropbox, CSV, DataFrames"
   ]
  },
  {
   "cell_type": "markdown",
   "metadata": {
    "jp-MarkdownHeadingCollapsed": true,
    "tags": []
   },
   "source": [
    "## Exponential growth\n",
    "\n",
    "A simple exponential growth fuction can be written as:\n",
    "\n",
    "- Eqn 2.1\n",
    "$$\n",
    "\\frac{dW}{dt} = rW\n",
    "$$\n",
    "\n",
    "Assuming this relatioship during the growth, the relative growth rate (RGR; $r$) can be obtained from two biomass measurements ($W{_1}$ and $W{_2}$) (or height ($H$) or other measures of growth) measured at two time points ($t{_1}$ and $t{_2}$) as shown in Eqn 2.4.\n",
    "- Eqn 2.3.\n",
    "\n",
    "$$\n",
    "r = \\frac{\\ln{W_2} - \\ln{W_1}}{t_2 - t_1}\n",
    "$$\n",
    "\n",
    "\n",
    "## Ex 2.1. Douglas-fir early height growth\n",
    "\n",
    "In Chapter 1, we've estimated the absolute growth rate (AGR; $\\mathrm{m \\cdot yr^{-1}}$) of Douglas-fir saplings grown in Marin County, CA in the first few decades of their life based on a figure from Porzig et al. (2014). Table shown below provide mean tree heights over 20 year period with 10 year intervals. Calculate the relative growth rate (RGR; $r$) for each 10 year period (i.e., 1985 - 1995 and 1995 - 2005) and over the entire 20 year period (1985 - 2005), and compare their values. These trees are in relatively early stage of their growth. Do you think the exponential growth model does a good job of describing their growth pattern? How do RGRs from this problem compare with the AGR from Q1.1 in Chapter 1? What are their units?\n",
    "\n",
    "\n",
    "| Year | Height (m)\n",
    "| :- | :- |\n",
    "| 1985 | 1.68 |\n",
    "| 1995 | 2.56 |\n",
    "| 2005 | 6.99 |"
   ]
  },
  {
   "cell_type": "code",
   "execution_count": null,
   "metadata": {
    "tags": []
   },
   "outputs": [],
   "source": [
    "r(t1, t2; H1, H2) = (log(H2)-log(H1))/(t2-t1)"
   ]
  },
  {
   "cell_type": "code",
   "execution_count": null,
   "metadata": {
    "tags": []
   },
   "outputs": [],
   "source": [
    "r(1985,2005; H1 = 1.68, H2 = 6.99)"
   ]
  },
  {
   "cell_type": "markdown",
   "metadata": {},
   "source": [
    "Let's recall the simple exponential growth model from Lab 01 and enter the parameter values we got.  Exact age of the trees when the measurements were made was unknown. But the mean initial height ($H_0$) of the trees was 1.42m in 1983 when the first measurements were made.\n",
    "\n",
    "Note that we are ignoring units here but an important feature of `Cropbox` is the accounting of all units used in the model. We will revisit this later."
   ]
  },
  {
   "cell_type": "code",
   "execution_count": null,
   "metadata": {
    "scrolled": true,
    "tags": []
   },
   "outputs": [],
   "source": [
    "@system DF_exp(Controller) begin\n",
    "    H0      => 1.42  ~ preserve\n",
    "    r       => 0.071  ~ preserve(parameter)\n",
    "    H(r,H)  => r*H   ~ accumulate(init = H0)\n",
    "    yr      => 1     ~ accumulate(init = 1983)\n",
    "end"
   ]
  },
  {
   "cell_type": "code",
   "execution_count": null,
   "metadata": {
    "tags": []
   },
   "outputs": [],
   "source": [
    "visualize(DF_exp, :yr, :H; stop = 27, kind = :line)"
   ]
  },
  {
   "cell_type": "code",
   "execution_count": null,
   "metadata": {
    "tags": []
   },
   "outputs": [],
   "source": [
    "DF_obs = CSV.read(\"PSME-height.csv\", DataFrame) |> unitfy; \n",
    "# keeping the correct unit is a key in Cropbox. We will talk more about this."
   ]
  },
  {
   "cell_type": "markdown",
   "metadata": {},
   "source": [
    "Let's overlay the digitized data with our model. How did did the model do? How does it compare with the linear model we worked on in Lab 01? Which model would you choose to use and why?"
   ]
  },
  {
   "cell_type": "code",
   "execution_count": null,
   "metadata": {
    "tags": []
   },
   "outputs": [],
   "source": [
    "p = visualize(DF_obs, :year, :height; )\n",
    "visualize!(p, DF_exp, :yr, :H; stop=27, kind = :line)"
   ]
  },
  {
   "cell_type": "markdown",
   "metadata": {
    "jp-MarkdownHeadingCollapsed": true,
    "tags": []
   },
   "source": [
    "## Logistic growth\n",
    "\n",
    "One of the most widely used growth models is the logistsic function for its intuitive parameters that are relatable to biological traits and ecological concepts. For example, if we assume that a plant grows through cell division and expansion at a rate proportional to the existing cells and their biomass with little to no physical or physiological limitations, the early growth rate is likely to resemble that of the exponential growth growth. However, as the plant grows bigger and taller the growth rate will slow down. This may be because the plant is approaching its ceiling for height and biomass that's controlled by genetic, physiological, or physcal limits (e.g., maximal height; $H_f$). The logistic function provides a useful mathematical formula to describe this growth pattern. The plant height growth may be written as: \n",
    "\n",
    "- Differential equation of logistic height growth\n",
    "\n",
    "$$\n",
    "\\frac{dH}{dt} = rH(1-\\frac{H}{H_f}) = rH(\\frac{H_f-H}{H_f})\n",
    "$$\n",
    "\n",
    "Where $H$ is plant height, $H_f$ is the final or potential height, and $r$ is the initial growth rate. More often than not though the final height or potential capacity is unknown. "
   ]
  },
  {
   "cell_type": "markdown",
   "metadata": {
    "jp-MarkdownHeadingCollapsed": true,
    "tags": []
   },
   "source": [
    "## Ex 2.2. Douglas-Fir height growth to maturity with a logistic function\n",
    "\n",
    "A Douglas-Fir tree may grow up to 70m in height when mature if grown at a high quality site. \n",
    "\n",
    "- Create a `Cropbox` system that simulates Douglas-Fir tree growth at a high quality site over 200 years using the logistic equation\n",
    "- Recreate Figure 2.1a for a high quality site\n",
    "- Recreate Figure 2.1b for a high quality site\n",
    "- Compare your results with the original figures and discuss. How would you grade this model's performance to describe Douglas-fir growth and why?"
   ]
  },
  {
   "cell_type": "code",
   "execution_count": null,
   "metadata": {
    "scrolled": true,
    "tags": []
   },
   "outputs": [],
   "source": [
    "@system DF_logi(Controller) begin\n",
    "    H0         => 1.42               ~ preserve\n",
    "    r          => 0.07               ~ preserve(parameter)\n",
    "    Hf         => 70.0               ~ preserve(parameter)\n",
    "    H(r,H,Hf)  => r*H*(1.0 - H/Hf)   ~ accumulate(init = H0)\n",
    "    yr         => 1                  ~ accumulate(init = 1983)\n",
    "    dH(r,H,Hf) => r*H*(1.0 - H/Hf)   ~ capture # This \"state verb\" or command captures the changes occuring at each time step\n",
    "end"
   ]
  },
  {
   "cell_type": "code",
   "execution_count": null,
   "metadata": {
    "tags": []
   },
   "outputs": [],
   "source": [
    "p = visualize(DF_obs, :year, :height; xlim = (1983, 2183), ylim = (0, 75))\n",
    "visualize!(p, [DF_logi], :yr, :H; stop=200, kind = :line)"
   ]
  },
  {
   "cell_type": "code",
   "execution_count": null,
   "metadata": {
    "tags": []
   },
   "outputs": [],
   "source": [
    "visualize([DF_logi], :H, :dH; stop=200, kind = :line)"
   ]
  },
  {
   "cell_type": "markdown",
   "metadata": {
    "jp-MarkdownHeadingCollapsed": true,
    "tags": []
   },
   "source": [
    "## Ex 2.3. Logistic growth for corn biomass\n",
    "\n",
    "Incorporate the differential equation (Eqn 2.5) and an analytical solution (Eqn 2.5) of the logistic equation using *Cropbox* package. Using the parameter values in Table 2.1, simulate both forms of the logistic model for 300 days on *daily time steps*. Plot to overlay the two forms in one figure and compare the results. Before running simulations, predict if you expect the results from both models to be identical? Why or why not? Do your simulations support your predictions? Why or why not? Test the behavior of the model with respect to its parameter values."
   ]
  },
  {
   "cell_type": "markdown",
   "metadata": {
    "tags": []
   },
   "source": [
    "### Logistic growth (derivative form)\n",
    "\n",
    "Here we are going to implement the logistic growth function more fully in `Cropbox` fashion with proper units and time handling to describe the growh of a highly productive annual crop (e.g., corn) in daily time steps. \n",
    "\n",
    "- Eqn 2.4.\n",
    "\n",
    "$$\n",
    "\\frac{dW}{dt} = rW(1-\\frac{W}{W_f}) = rW(\\frac{W_f-W}{W_f})\n",
    "$$"
   ]
  },
  {
   "cell_type": "markdown",
   "metadata": {},
   "source": [
    "- Table 2.1.\n",
    "\n",
    "| Symbol | Value | Units | Description |\n",
    "| :- | :- | :- | :- |\n",
    "| $t$ | - | $\\mathrm{d}$ | Time unit used in the model |\n",
    "| $r$ | 0.05 | $\\mathrm{g}$ $\\mathrm{g^{-1}}$ $\\mathrm{d^{-1}}$ | Relative (or specific or intrinsic) growth rate |\n",
    "| $W_0$ | 0.25 | $\\mathrm{g}$ | Seed mass or initial biomass |\n",
    "| $W_f$ | 300 | $\\mathrm{g}$ | Potential final mass of a plant |\n",
    "| $W$ | - | $\\mathrm{g}$ | Whole-plant biomass as dry matter (state variable) |"
   ]
  },
  {
   "cell_type": "markdown",
   "metadata": {},
   "source": [
    "Here is the model specification of Eqn 2.4 implemented on Cropbox framework. See how variables and parameters are declared each line with state verbs (`track`, `preserve`, `accumulate`) and tags (*i.e.* `parameter`, `init`, `u\"..\"`).\n",
    "\n",
    "- Time variable `t` is set to `track` internal time variable (`context.clock.tick`) in the unit of `d` (day) which is a conversion from default `hr` (hour).\n",
    "- Parameters `r`, `W0`, `Wf` are set to `preserve` their initial values which are declared in the body. They are tagged `parameter` indicating their values may be replaced by configuration when running simulations.\n",
    "- As the state variable `W` is defined as a form of derivative ($\\frac{dW}{dt}$), we want to integrate its value over time. As Cropbox is essentially a discrete-time modeling framework, what we do here is `accumulate` (summing up) instead of integration over continous time."
   ]
  },
  {
   "cell_type": "code",
   "execution_count": null,
   "metadata": {
    "tags": []
   },
   "outputs": [],
   "source": [
    "@system Eq24(Controller) begin\n",
    "    t(context.clock.tick) ~ track(u\"d\")\n",
    "    \n",
    "    r: relative_growth_rate => 0.05 ~ preserve(u\"g/g/d\", parameter)\n",
    "    W0: initial_biomass => 0.25 ~ preserve(u\"g\", parameter)\n",
    "    Wf: potential_final_biomass => 300 ~ preserve(u\"g\", parameter)\n",
    "    \n",
    "    W(r, W, Wf): biomass => begin\n",
    "        r * W * (Wf - W) / Wf\n",
    "    end ~ accumulate(u\"g\", init=W0)\n",
    "end"
   ]
  },
  {
   "cell_type": "markdown",
   "metadata": {},
   "source": [
    "`simulate(<System>; ..)` function make an instance of the model system and run simulation until `stop` condition is met. Here we use `300u\"d\"` as a stop condition which indicates the simulation should run for 300 days. The output of `simulate()` is a table-like DataFrame with columns from variables specified in the model."
   ]
  },
  {
   "cell_type": "code",
   "execution_count": null,
   "metadata": {},
   "outputs": [],
   "source": [
    "r24 = simulate(Eq24; stop=300u\"d\")"
   ]
  },
  {
   "cell_type": "markdown",
   "metadata": {},
   "source": [
    "We can draw a graph with `plot(<DataFrame>, <x>, <y>; ..)` function with the DataFrame output. By default, `kind` option is set to `:scatter` which could be inefficient to plot too many data points, so we instead decided to use `:line` to draw a line plot."
   ]
  },
  {
   "cell_type": "code",
   "execution_count": null,
   "metadata": {},
   "outputs": [],
   "source": [
    "plot(r24, :t, :W; kind=:line)"
   ]
  },
  {
   "cell_type": "markdown",
   "metadata": {},
   "source": [
    "#### Clock and Configulation\n",
    "\n",
    "Note that models in Cropbox have a default clock set in hourly time step (`context.clock.step`). We may change the time step by providing a user configuration. Configuration is in a two-level mapping like `<System> => <Variable> => <Value>`. Cropbox supports many different ways of constructing construction and one simple way is to use a pair of pair."
   ]
  },
  {
   "cell_type": "code",
   "execution_count": null,
   "metadata": {},
   "outputs": [],
   "source": [
    "c = :Clock => :step => 1u\"d\""
   ]
  },
  {
   "cell_type": "markdown",
   "metadata": {},
   "source": [
    "Here we make a configuration `c` for system `Clock` and want to have its variable `step` to be `1u\"d\"` (1 day). We can take a look at how this pair of pair structure transformed into an actual instance of configuration by calling `configure()` or `@config`."
   ]
  },
  {
   "cell_type": "code",
   "execution_count": null,
   "metadata": {},
   "outputs": [],
   "source": [
    "@config(c)"
   ]
  },
  {
   "cell_type": "markdown",
   "metadata": {},
   "source": [
    "Now we re-run the simulation with the custom configuration `c` for daily time step."
   ]
  },
  {
   "cell_type": "code",
   "execution_count": null,
   "metadata": {},
   "outputs": [],
   "source": [
    "r24 = simulate(Eq24; config=c, stop=300u\"d\")"
   ]
  },
  {
   "cell_type": "code",
   "execution_count": null,
   "metadata": {},
   "outputs": [],
   "source": [
    "plot(r24, :t, :W; kind=:line)"
   ]
  },
  {
   "cell_type": "markdown",
   "metadata": {},
   "source": [
    "### Logisitc growth (integrated form): This is an analytical solution of Eqn. 2.5"
   ]
  },
  {
   "cell_type": "markdown",
   "metadata": {},
   "source": [
    "- Eqn 2.5.\n",
    "\n",
    "$$\n",
    "W = \\frac{W_0 W_f}{W_0 + (W_f-W_0)e^{-rt}} = \\frac{W_f}{1 + (\\frac{W_f}{W_0}-1)e^{-rt}}\n",
    "$$"
   ]
  },
  {
   "cell_type": "markdown",
   "metadata": {},
   "source": [
    "- Table 2.1.\n",
    "\n",
    "| Symbol | Value | Units | Description |\n",
    "| :- | :- | :- | :- |\n",
    "| $t$ | - | $\\mathrm{d}$ | Time unit used in the model |\n",
    "| $r$ | 0.05 | $\\mathrm{g}$ $\\mathrm{g^{-1}}$ $\\mathrm{d^{-1}}$ | Relative (or specific or intrinsic) growth rate |\n",
    "| $W_0$ | 0.25 | $\\mathrm{g}$ | Seed mass or initial biomass |\n",
    "| $W_f$ | 300 | $\\mathrm{g}$ | Potential final mass of a plant |\n",
    "| $W$ | - | $\\mathrm{g}$ | Whole-plant biomass as dry matter (state variable) |"
   ]
  },
  {
   "cell_type": "markdown",
   "metadata": {},
   "source": [
    "Specification of system `Eq25` looks very similar to `Eq24` except the state variable `W` is already in the form of integral, not a derivative. Thus, what we need to do is just to make sure re-calculate `W` to `track` its value every time step instead of accumulation / integration."
   ]
  },
  {
   "cell_type": "code",
   "execution_count": null,
   "metadata": {},
   "outputs": [],
   "source": [
    "@system Eq25(Controller) begin\n",
    "    t(context.clock.tick) ~ track(u\"d\")\n",
    "    \n",
    "    r: relative_growth_rate => 0.05  ~ preserve(u\"g/g/d\", parameter)\n",
    "    W0: initial_biomass => 0.25 ~ preserve(u\"g\", parameter)\n",
    "    Wf: potential_final_biomass => 300 ~ preserve(u\"g\", parameter)\n",
    "    \n",
    "    W(r, W0, Wf, t): biomass => begin\n",
    "        Wf / (1 + (Wf/W0 - 1)* exp(-r*t))\n",
    "    end ~ track(u\"g\")\n",
    "end"
   ]
  },
  {
   "cell_type": "code",
   "execution_count": null,
   "metadata": {},
   "outputs": [],
   "source": [
    "r25 = simulate(Eq25; config=c, stop = 300u\"d\")"
   ]
  },
  {
   "cell_type": "code",
   "execution_count": null,
   "metadata": {},
   "outputs": [],
   "source": [
    "plot(r25, :t, :W; kind=:line)"
   ]
  },
  {
   "cell_type": "markdown",
   "metadata": {},
   "source": [
    "#### Plot overlay"
   ]
  },
  {
   "cell_type": "markdown",
   "metadata": {},
   "source": [
    "We can overlay multiple plots with consecutive calls of `plot!(<Plot>, ...)` with a Plot object returned by previous `plot()` or `plot!()` function."
   ]
  },
  {
   "cell_type": "code",
   "execution_count": null,
   "metadata": {},
   "outputs": [],
   "source": [
    "p = plot(r24, :t, :W; kind=:line, name=\"Eq24\")\n",
    "plot!(p, r25, :t, :W; kind=:line, name=\"Eq25\")"
   ]
  },
  {
   "cell_type": "markdown",
   "metadata": {},
   "source": [
    "Cropbox also provides some high-level plotting functions to make a plot without manually running simulations first. One form of `visualize()` function supports `visualize([<System>..], <x>, <y>; <simulate() options>.., <plot() options..>)` to make an overlay plot in one line."
   ]
  },
  {
   "cell_type": "code",
   "execution_count": null,
   "metadata": {},
   "outputs": [],
   "source": [
    "visualize([Eq24, Eq25], :t, :W; config=c, stop=300u\"d\", kind=:line)"
   ]
  },
  {
   "cell_type": "markdown",
   "metadata": {},
   "source": [
    "You may notice a small difference between two implementations of logistic growth models. Answer the question above and discuss with others."
   ]
  },
  {
   "cell_type": "markdown",
   "metadata": {
    "jp-MarkdownHeadingCollapsed": true,
    "tags": []
   },
   "source": [
    "## Ex 2.4. The Lotka-Volterra model for competition between two species\n",
    "\n",
    "Create a system to implement the Lotka-Volterra competition model (Eqn 2.8) using $\\textit{Cropbox}$. Using the parameter and initial values of your choice, simulate the population dynamics of two annual plant species (e.g., crop and weed) competing for spaces, light, water, and nutrients. Study the system behavior by experimenting with initial conditions and parameter values. Do you think the model demonstrate reasonable predictions that are consistent with your understanding of interspecific competition between two plant species?"
   ]
  },
  {
   "cell_type": "markdown",
   "metadata": {},
   "source": [
    "- Eqn 2.8\n",
    "\n",
    "$$\n",
    "\\begin{equation}\n",
    "\\begin{split}    \n",
    "    \\label{eq:LV-compet}\n",
    "    &\\frac{dN_1}{dt} = r_1N_1(1-\\frac{N_1+\\alpha N_2}{K_1}) = r_1 N_1(\\frac{K_1-N_1-\\alpha N_2}{K_1})\\\\\n",
    "    &\\frac{dN_2}{dt} = r_2N_2(1-\\frac{N_2+\\beta N_1}{K_2}) = r_2 N_2(\\frac{K_2-N_2-\\beta N_1}{K_2})\n",
    "\\end{split}\n",
    "\\end{equation}\n",
    "$$"
   ]
  },
  {
   "cell_type": "markdown",
   "metadata": {},
   "source": [
    "See table 2.1 of the lecture note for parameter definitions."
   ]
  },
  {
   "cell_type": "code",
   "execution_count": null,
   "metadata": {},
   "outputs": [],
   "source": [
    "@system LV_competition(Controller) begin\n",
    "    t(context.clock.time) ~ track(u\"d\")\n",
    "    N1(r1, α, N1, N2, K1): sp1_population => r1*N1*(K1-N1-α*N2)/K1 ~ accumulate(init = N1_0)\n",
    "    N2(r2, β, N2, N1, K2): sp2_population => r2*N2*(K2-N2-β*N1)/K2 ~ accumulate(init = N2_0)\n",
    "    \n",
    "    N1_0: initial_sp1_population => 100 ~ preserve(parameter)\n",
    "    N2_0: initial_sp2_population => 20 ~ preserve(parameter)\n",
    "    \n",
    "    r1: RGR_sp1 => 0.15 ~ preserve(u\"d^-1\",parameter)\n",
    "    r2: RGR_sp2 => 0.2 ~ preserve(u\"d^-1\",parameter)\n",
    "    α: effect_of_sp2_on_sp1 => 0.5 ~preserve(parameter)\n",
    "    β: effect_of_sp1_on_sp2 => 0.2 ~preserve(parameter)\n",
    "    K1: carrying_capacity_sp1 => 200 ~ preserve(parameter)\n",
    "    K2: carrying_capacity_sp2 => 200 ~ preserve(parameter)\n",
    "end"
   ]
  },
  {
   "cell_type": "code",
   "execution_count": null,
   "metadata": {},
   "outputs": [],
   "source": [
    "Cropbox.dependency(LV_competition)"
   ]
  },
  {
   "cell_type": "markdown",
   "metadata": {},
   "source": [
    "Here, we make a configuration for setting parameters for `LV_competition` system we've just made above. We'll use a daily time step."
   ]
  },
  {
   "cell_type": "code",
   "execution_count": null,
   "metadata": {
    "tags": []
   },
   "outputs": [],
   "source": [
    "## Stable equillibrium\n",
    "cLV_c1 = @config (\n",
    "    :Clock => (;\n",
    "        step = 1u\"d\",\n",
    "    ),\n",
    "    :LV_competition => (;\n",
    "        r1 = 0.15, r2 = 0.2,\n",
    "        α = 0.5, β = 0.2,\n",
    "        K1 = 200, K2 = 200,\n",
    "        N1_0 = 100, N2_0 = 20,\n",
    "    ),\n",
    ")"
   ]
  },
  {
   "cell_type": "code",
   "execution_count": null,
   "metadata": {
    "tags": []
   },
   "outputs": [],
   "source": [
    "visualize(LV_competition, :t, [:N1, :N2]; config=cLV_c1, stop=200u\"d\", kind=:line)"
   ]
  },
  {
   "cell_type": "code",
   "execution_count": null,
   "metadata": {
    "tags": []
   },
   "outputs": [],
   "source": [
    "## Unstable equillibrium is the point at which two populations cross\n",
    "cLV_c2 = @config (\n",
    "    :Clock => (;\n",
    "        step = 1u\"d\",\n",
    "    ),\n",
    "    :LV_competition => (;\n",
    "        r1 = 0.1, r2 = 0.2,\n",
    "        α = 1.1, β = 1.2,\n",
    "        K1 = 100, K2 = 100,\n",
    "        N1_0 = 40, N2_0 = 50,\n",
    "    ),\n",
    ")\n",
    "visualize(LV_competition, :t, [:N1, :N2]; config=cLV_c2, stop=300u\"d\", kind=:line)"
   ]
  },
  {
   "cell_type": "markdown",
   "metadata": {
    "tags": []
   },
   "source": [
    "### Equilibria and Isocline Analsis\n",
    "\n",
    "In popuplation models the concept of equilibrium is important. There may be stable and unstable equilibria for two species in competition to coexisit. For two populations, the isocline ananlysis can provide useful insights to understand the conditions that can lead to stable and unstable equilibria. See Essington (2021) Chapter 4 and Edelstein-Keshet (2005) Chapter 6 for more information. The figure below is borrowed from [Chapter 4 of Essington (2021)](https://doi.org/10.1093/oso/9780192843470.003.0004). It illustrates the X isocline (black line) signifying the population size that X population would move toward (horizontal arrows to grow or shrink) in relation to the size of Y population. The Y isocline (gray line) is for Y population to move toward in vertical direction. Four equilibria are identified in this figure: one stable (d) and three unstable."
   ]
  },
  {
   "cell_type": "markdown",
   "metadata": {},
   "source": [
    "<img src=\"Essington-2021-Ch4-stable-isoclines.png\" alt=\"isoclines\" width=\"500\"/>"
   ]
  },
  {
   "cell_type": "markdown",
   "metadata": {
    "jp-MarkdownHeadingCollapsed": true,
    "tags": []
   },
   "source": [
    "## Ex 2.5. Density-independent predator-prey interactions\n",
    "\n",
    "Create a system to implement the density-independent Lotka-Volterra model (Eqn 2.9) using Cropbox package. Using your guesstimates, find the set of parameter values and initial conditions by eyes that mimic the population dynamics shown in Fig. 2.1b. Repeat this process until you are satisfied with the result. What are their values? Do you think those values are ecologically realistic?"
   ]
  },
  {
   "cell_type": "markdown",
   "metadata": {},
   "source": [
    "### Density-independent Lotka-Volterra model for predator-prey interactions"
   ]
  },
  {
   "cell_type": "markdown",
   "metadata": {},
   "source": [
    "- Eqn 2.9.\n",
    "\n",
    "$$\n",
    "\\begin{align}\n",
    "\\frac{dN}{dt} &= rN - aNP \\\\\n",
    "\\frac{dP}{dt} &= caNP - mP \\\\\n",
    "\\end{align}\n",
    "$$"
   ]
  },
  {
   "cell_type": "markdown",
   "metadata": {},
   "source": [
    "- Table 2.1.\n",
    "\n",
    "| Symbol | Value | Units | Description |\n",
    "| :- | :- | :- | :- |\n",
    "| $t$ | - | $\\mathrm{yr}$ | Time unit used in the model |\n",
    "| $N$ | - | - | Prey population as number of individuals (state variable) |\n",
    "| $P$ | - | - | Predator population as number of individuals (state variable) |\n",
    "| $r$ | - | $\\mathrm{yr^{-1}}$ | Per capita growth rate of prey population |\n",
    "| $a$ | - | $\\mathrm{yr^{-1}}$ | Attack rate or predation rate |\n",
    "| $c$ | - | - | Conversion efficiency of an eaten prey into new predator; predator's reproduction efficiency per prey consumed) |\n",
    "| $m$ | - | $\\mathrm{yr^{-1}}$ | Mortality rate of predator population |"
   ]
  },
  {
   "cell_type": "markdown",
   "metadata": {},
   "source": [
    "- Fig. 2.1b\n",
    "\n",
    "![Fig. 2.1b](http://www2.nau.edu/lrm22/lessons/predator_prey/hare_lynx_graph.png)"
   ]
  },
  {
   "cell_type": "markdown",
   "metadata": {},
   "source": [
    "Model specification of `LotkaVolterra` resembles what we did with `Eq24` for logistic growth model in a derivative form."
   ]
  },
  {
   "cell_type": "code",
   "execution_count": null,
   "metadata": {},
   "outputs": [],
   "source": [
    "@system LV_predation(Controller) begin\n",
    "    t(context.clock.time) ~ track(u\"yr\")\n",
    "    \n",
    "    N(N, P, r, a): prey_population => r*N - a*N*P ~ accumulate(init=N0)\n",
    "    P(N, P, c, a, m): predator_population => c*a*N*P - m*P ~ accumulate(init=P0)\n",
    "    \n",
    "    N0: prey_initial_population ~ preserve(parameter)\n",
    "    P0: predator_initial_population ~ preserve(parameter)\n",
    "    \n",
    "    r: prey_growth_rate ~ preserve(u\"yr^-1\", parameter)\n",
    "    a: predation_rate ~ preserve(u\"yr^-1\", parameter)\n",
    "    c: predator_reproduction_rate ~ preserve(parameter)\n",
    "    m: predator_mortality_rate ~ preserve(u\"yr^-1\", parameter)\n",
    "end"
   ]
  },
  {
   "cell_type": "markdown",
   "metadata": {},
   "source": [
    "We can take a look at the dependency between variables declared in the system by calling `Cropbox.dependency(<System>)`."
   ]
  },
  {
   "cell_type": "code",
   "execution_count": null,
   "metadata": {},
   "outputs": [],
   "source": [
    "Cropbox.dependency(LV_predation)"
   ]
  },
  {
   "cell_type": "markdown",
   "metadata": {},
   "source": [
    "Similarly, a hierarchy between mix-in systems can be drawn by `Cropbox.hierarchy(<System>)`. Solid line indicates *has* relationship meaning the target system contains an instance of source system. Dashed line indicates *is* relationship meaning the target system is composed of source system as a mix-in."
   ]
  },
  {
   "cell_type": "code",
   "execution_count": null,
   "metadata": {},
   "outputs": [],
   "source": [
    "Cropbox.hierarchy(LV_predation)"
   ]
  },
  {
   "cell_type": "markdown",
   "metadata": {
    "tags": []
   },
   "source": [
    "Here, we make a configuration for setting parameters for `LV_predation` system we've just made above. We'll use a daily time step."
   ]
  },
  {
   "cell_type": "code",
   "execution_count": null,
   "metadata": {},
   "outputs": [],
   "source": [
    "cLV_p = @config (\n",
    "    :Clock => (;\n",
    "        step = 1u\"d\",\n",
    "    ),\n",
    "    :LV_predation => (;\n",
    "        r = 0.6,\n",
    "        a = 0.02,\n",
    "        c = 0.5,\n",
    "        m = 0.5,\n",
    "        N0 = 20,\n",
    "        P0 = 30,\n",
    "    ),\n",
    ")"
   ]
  },
  {
   "cell_type": "markdown",
   "metadata": {},
   "source": [
    "Let's make a simulation plot and see how it compares to the original dataset. Note we use a variant `visualize(<System>, <x>, [<y>..]; ..)` with multiple target variables mapped to multiple series of lines."
   ]
  },
  {
   "cell_type": "code",
   "execution_count": null,
   "metadata": {},
   "outputs": [],
   "source": [
    "visualize(LV_predation, :t, [:N, :P]; config=cLV_p, stop=100u\"yr\", kind=:line)"
   ]
  },
  {
   "cell_type": "markdown",
   "metadata": {},
   "source": [
    "Repeat this process until you are satisfied with the result. What are their values? Do you think those values are ecologically realistic?"
   ]
  },
  {
   "cell_type": "code",
   "execution_count": null,
   "metadata": {},
   "outputs": [],
   "source": [
    "@system LV_steady(LV_predation, Controller) begin\n",
    "    N̄(m, a, c): prey_population_steady_state     => m / (a*c) ~ preserve\n",
    "    P̄(r, a):    predator_population_steady_state => r / a     ~ preserve\n",
    "end"
   ]
  },
  {
   "cell_type": "code",
   "execution_count": null,
   "metadata": {
    "tags": []
   },
   "outputs": [],
   "source": [
    "lv = instance(LV_steady; config = cLV_p)"
   ]
  },
  {
   "cell_type": "markdown",
   "metadata": {},
   "source": [
    "Here we calculate the prey population ($\\bar{N}$) that leads to the neutral stability. The vertical line that goes through this point determines the predator nullcline.  "
   ]
  },
  {
   "cell_type": "code",
   "execution_count": null,
   "metadata": {
    "tags": []
   },
   "outputs": [],
   "source": [
    "lv.N̄"
   ]
  },
  {
   "cell_type": "markdown",
   "metadata": {},
   "source": [
    "Here we calculate the prey population ($\\bar{P}$) that leads to the neutral stability. The line going through this point determines the prey nullcline. "
   ]
  },
  {
   "cell_type": "code",
   "execution_count": null,
   "metadata": {},
   "outputs": [],
   "source": [
    "lv.P̄"
   ]
  },
  {
   "cell_type": "markdown",
   "metadata": {},
   "source": [
    "Putting the simulation result into a dataframe named `ex23` for Lab exercise 2.3. Note that we use `snap` option to collect output for every 10 days, instead of 1-day interval we set for `Clock`, to avoid potential slowdown and stroage issue caused by a massive amount of data points."
   ]
  },
  {
   "cell_type": "code",
   "execution_count": null,
   "metadata": {
    "tags": []
   },
   "outputs": [],
   "source": [
    "ex23 = simulate(LV_steady; config = cLV_p, stop = 100u\"yr\", snap = 10u\"d\");"
   ]
  },
  {
   "cell_type": "markdown",
   "metadata": {},
   "source": [
    "Here we use a Julia package called Plots for plotting the phase-plane figure. If the package has not been installed, uncomment the first line to install it once and re-comment it after installling it. \n",
    "\n",
    "Study the plot. See where $\\bar{N}$ and $\\bar{P}$ intersect in the plane and how the N and P populations change with respect to the intersection. Try changing the initial conditions ($N_0$ and $P_0$) closer to $\\bar{N}$ and $\\bar{P}$ and observe how the model behavior changes."
   ]
  },
  {
   "cell_type": "code",
   "execution_count": null,
   "metadata": {},
   "outputs": [],
   "source": [
    "p = visualize(ex23, :N, :P;\n",
    "    name = \"N:P\",\n",
    "    xlab = \"N (Prey Population)\",\n",
    "    ylab = \"P (Predator Population)\",\n",
    ")\n",
    "p = visualize!(p, lv.P̄'; kind = :hline, name = \"P̄ = r/a\")\n",
    "p = visualize!(p, lv.N̄'; kind = :vline, name = \"N̄ = m/ac\")\n",
    "p = visualize!(p, [lv.N0'], [lv.P0']; kind = :scatter, name = \"Initial point\")\n",
    "p = visualize!(p, [lv.N̄'],  [lv.P̄'];  kind = :scatter, name = \"Stable state\")"
   ]
  },
  {
   "cell_type": "markdown",
   "metadata": {},
   "source": [
    "We can save this plot as PDF file using `Cairo` and `Fontconfig` packages. If the packages are not installed, run:\n",
    "`import Pkg; Pkg.add(\"Cairo\")` and `Pkg.add(\"Fontconfig\")`"
   ]
  },
  {
   "cell_type": "code",
   "execution_count": null,
   "metadata": {},
   "outputs": [],
   "source": [
    "#import Pkg; Pkg.add(\"Cairo\"); Pkg.add(\"Fontconfig\");\n",
    "using Cairo, Fontconfig\n",
    "p[] |> Cropbox.Gadfly.PDF(\"fig1-LV_predation-phaseplane.pdf\")"
   ]
  },
  {
   "cell_type": "markdown",
   "metadata": {},
   "source": [
    "Let's make a simulation plot and see how it compares to the original dataset. Note we use a variant `visualize(<System>, <x>, [<y>..]; ..)` with multiple target variables mapped to multiple series of lines."
   ]
  },
  {
   "cell_type": "markdown",
   "metadata": {
    "jp-MarkdownHeadingCollapsed": true,
    "tags": []
   },
   "source": [
    "## Ex 2.6. Density-dependent Lotka-Volterra model for predator-prey interactions\n",
    "\n",
    "Repeat the previous exercise for the *density-dependent* Lotka-Volterra model (Eqn 2.10). Does this model do a better job mimicking the observations than the density-independent model? Why do you think that's the case? Which model do you prefer to use and why?"
   ]
  },
  {
   "cell_type": "markdown",
   "metadata": {},
   "source": [
    "- Eqn 2.10.\n",
    "\n",
    "$$\n",
    "\\begin{align}\n",
    "\\frac{dN}{dt} &= rN-\\frac{r}{K}N^2-aNP \\\\\n",
    "\\frac{dP}{dt} &= caNP-mP \\\\\n",
    "\\end{align}\n",
    "$$"
   ]
  },
  {
   "cell_type": "markdown",
   "metadata": {},
   "source": [
    "- Table 2.1.\n",
    "\n",
    "| Symbol | Value | Units | Description |\n",
    "| :- | :- | :- | :- |\n",
    "| $t$ | - | $\\mathrm{yr}$ | Time unit used in the model |\n",
    "| $N$ | - | - | Prey population as number of individuals (state variable) |\n",
    "| $P$ | - | - | Predator population as number of individuals (state variable) |\n",
    "| $r$ | - | $\\mathrm{yr^{-1}}$ | Per capita growth rate of prey population |\n",
    "| $a$ | - | $\\mathrm{yr^{-1}}$ | Attack rate or predation rate |\n",
    "| $c$ | - | - | Conversion efficiency of an eaten prey into new predator; predator's reproduction efficiency per prey consumed) |\n",
    "| $m$ | - | $\\mathrm{yr^{-1}}$ | Mortality rate of predator population |\n",
    "| $K$ | - | - | Carrying capacity of the system for prey population |"
   ]
  },
  {
   "cell_type": "markdown",
   "metadata": {},
   "source": [
    "We can make a density-dependent version of the model `LotkaVoleterraDD` by reusing `LotkaVoleterra` as a mix-in. Note that base model `LotkaVoletrra` is indicated in the first line of arguments list of `@system` declaration, meaning declarations of variables for `LotkaVoletrra` are imported and available for `LotkaVolterraDD`. That's why we only need to provide a change or difference in terms of variable declaration in the new model, leading to a much compact specification. Here declaration of prey population `N` is overwritten by a new statement with an additionally introduced parameter `K` for carrying capacity."
   ]
  },
  {
   "cell_type": "code",
   "execution_count": null,
   "metadata": {},
   "outputs": [],
   "source": [
    "@system DDLV_predation(LV_predation, Controller) begin\n",
    "    N(N, P, K, r, a): prey_population => begin\n",
    "        r*N - r/K*N^2 - a*N*P\n",
    "    end ~ accumulate(init=N0)\n",
    "    \n",
    "    K: carrying_capacity ~ preserve(parameter)\n",
    "end"
   ]
  },
  {
   "cell_type": "code",
   "execution_count": null,
   "metadata": {
    "scrolled": true,
    "tags": []
   },
   "outputs": [],
   "source": [
    "Cropbox.dependency(DDLV_predation)"
   ]
  },
  {
   "cell_type": "markdown",
   "metadata": {},
   "source": [
    "A hierarchy graph shows how `DDLV_predation` is based on `LV_predation` as a mix-in."
   ]
  },
  {
   "cell_type": "code",
   "execution_count": null,
   "metadata": {
    "tags": []
   },
   "outputs": [],
   "source": [
    "Cropbox.hierarchy(DDLV_predation)"
   ]
  },
  {
   "cell_type": "markdown",
   "metadata": {},
   "source": [
    "Similarly to how a new system can be derived from existing ones, a new configuration can be also built by a collection of existing configruations in the form of `(A, B, C...)` where a new configuration is based on the existing configuration A, overlaid by B, then overlaid by C, and so on.\n",
    "\n",
    "Here we make a new configuration `lvddc` for `LotkaVolterraDD` based on `lvc` for `LotkaVolterra` with an additional parameter for carrying capacity `K`."
   ]
  },
  {
   "cell_type": "code",
   "execution_count": null,
   "metadata": {},
   "outputs": [],
   "source": [
    "cDDLV_p = @config (cLV_p,\n",
    "    :DDLV_predation => (;\n",
    "        K = 100,\n",
    "    ),\n",
    ")"
   ]
  },
  {
   "cell_type": "markdown",
   "metadata": {},
   "source": [
    "Let's run the simulation for `LotkaVolterraDD` and a new configuration `lvddc`."
   ]
  },
  {
   "cell_type": "code",
   "execution_count": null,
   "metadata": {},
   "outputs": [],
   "source": [
    "visualize(DDLV_predation, :t, [:N, :P]; config=cDDLV_p, stop=100u\"yr\", kind=:line)"
   ]
  },
  {
   "cell_type": "markdown",
   "metadata": {},
   "source": [
    "Does thismodel do a better job mimicking the observations than the density-independent model? Why do you think that’s the case? Which model do you prefer to use and why?"
   ]
  },
  {
   "cell_type": "code",
   "execution_count": null,
   "metadata": {},
   "outputs": [],
   "source": [
    "@system DDLV_steady(DDLV_predation, Controller) begin\n",
    "    N̄(m, a, c):       stable_prey_population     => m / (a*c)             ~ preserve\n",
    "    P̄(r, a, m, c, K): stable_predator_population => (r/a) - m*r/(a*c*a*K) ~ preserve\n",
    "end"
   ]
  },
  {
   "cell_type": "code",
   "execution_count": null,
   "metadata": {
    "tags": []
   },
   "outputs": [],
   "source": [
    "lvdd = instance(DDLV_steady; config = cDDLV_p)"
   ]
  },
  {
   "cell_type": "markdown",
   "metadata": {},
   "source": [
    "Here we calculate the prey population ($\\bar{N}$) that leads to the neutral stability. The vertical line that goes through this point determines the predator nullcline.  "
   ]
  },
  {
   "cell_type": "code",
   "execution_count": null,
   "metadata": {
    "tags": []
   },
   "outputs": [],
   "source": [
    "lvdd.N̄'"
   ]
  },
  {
   "cell_type": "markdown",
   "metadata": {},
   "source": [
    "Here we calculate the prey population ($\\bar{P}$) that leads to the neutral stability. The line going through this point determines the prey nullcline. "
   ]
  },
  {
   "cell_type": "code",
   "execution_count": null,
   "metadata": {},
   "outputs": [],
   "source": [
    "lvdd.P̄"
   ]
  },
  {
   "cell_type": "markdown",
   "metadata": {},
   "source": [
    "Putting the simulation result into a dataframe named `ex24`for Lab exercise 2.4."
   ]
  },
  {
   "cell_type": "code",
   "execution_count": null,
   "metadata": {
    "tags": []
   },
   "outputs": [],
   "source": [
    "ex24 = simulate(DDLV_steady; config = cDDLV_p, stop = 100u\"yr\", snap = 10u\"d\");"
   ]
  },
  {
   "cell_type": "markdown",
   "metadata": {},
   "source": [
    "Here we use a Julia package called Plots for plotting the phase-plane figure. If the package has not been installed, uncomment the first line to install it once and re-comment it after installling it. \n",
    "\n",
    "Study the plot. See where $\\bar{N}$ and $\\bar{P}$ intersect in the plane and how the N and P populations change with respect to the intersection. Try changing the initial conditions ($N_0$ and $P_0$) closer to $\\bar{N}$ and $\\bar{P}$ and observe how the model behavior changes."
   ]
  },
  {
   "cell_type": "code",
   "execution_count": null,
   "metadata": {},
   "outputs": [],
   "source": [
    "p = visualize(ex24, :N, :P; name = \"N:P\", xlab = \"N (Prey Population)\", ylab = \"P (Predator Population)\")\n",
    "p = let x = range(0, stop = lvdd.K', length = 100) |> collect,\n",
    "        y = (lvdd.r' / lvdd.a') .* (1 .- x ./ lvdd.K')\n",
    "    visualize!(p, x, y; kind = :line, name = \"N nullcline\")\n",
    "end\n",
    "p = visualize!(p, lvdd.N̄';    kind = :vline, name = \"P nullcline\")\n",
    "p = visualize!(p, [lvdd.N0'], [lvdd.P0']; kind = :scatter, name = \"Initial point\")\n",
    "p = visualize!(p, [lvdd.N̄'],  [lvdd.P̄'];  kind = :scatter, name = \"Stable state\")"
   ]
  },
  {
   "cell_type": "code",
   "execution_count": null,
   "metadata": {},
   "outputs": [],
   "source": [
    "p[] |> Cropbox.Gadfly.PDF(\"fig2-DDLV_predation-phaseplane.pdf\")"
   ]
  },
  {
   "cell_type": "markdown",
   "metadata": {
    "jp-MarkdownHeadingCollapsed": true,
    "tags": []
   },
   "source": [
    "## Cropbox Internals"
   ]
  },
  {
   "cell_type": "markdown",
   "metadata": {},
   "source": [
    "Let's make an instance of `LotkaVolterraDD` system with configuration `lvddc`."
   ]
  },
  {
   "cell_type": "code",
   "execution_count": null,
   "metadata": {},
   "outputs": [],
   "source": [
    "s = instance(DDLV_predation; config=cDDLV_p)"
   ]
  },
  {
   "cell_type": "markdown",
   "metadata": {},
   "source": [
    "#### Alias"
   ]
  },
  {
   "cell_type": "markdown",
   "metadata": {},
   "source": [
    "We have two state variables `N` and `P` as kind of `accumulate`. Rate calculation for each variable looks almost same as mathematical equation. Note that `N` and `P` are short abbreviations for much longer names `prey_population` and `predator_population`. By giving a descriptive long alias to the variable while referring it with a short name, we can keep our model specification concise yet expressive enough."
   ]
  },
  {
   "cell_type": "code",
   "execution_count": null,
   "metadata": {},
   "outputs": [],
   "source": [
    "s.N"
   ]
  },
  {
   "cell_type": "code",
   "execution_count": null,
   "metadata": {},
   "outputs": [],
   "source": [
    "s.prey_population"
   ]
  },
  {
   "cell_type": "markdown",
   "metadata": {},
   "source": [
    "#### State vs. Value"
   ]
  },
  {
   "cell_type": "markdown",
   "metadata": {},
   "source": [
    "`s.prey_population` and `s.N` above point out to an instance of the exactly same state variable."
   ]
  },
  {
   "cell_type": "code",
   "execution_count": null,
   "metadata": {},
   "outputs": [],
   "source": [
    "s.prey_population === s.N"
   ]
  },
  {
   "cell_type": "markdown",
   "metadata": {},
   "source": [
    "Note that what they return is not an actual value stored in the state variable, but the data structure (of type `State`) itself. We can get the type of variable with `typeof()` function provided by Julia."
   ]
  },
  {
   "cell_type": "code",
   "execution_count": null,
   "metadata": {},
   "outputs": [],
   "source": [
    "typeof(s.N)"
   ]
  },
  {
   "cell_type": "markdown",
   "metadata": {},
   "source": [
    "To get an actual value stored in the state variable, we can use `Cropbox.value()` function."
   ]
  },
  {
   "cell_type": "code",
   "execution_count": null,
   "metadata": {},
   "outputs": [],
   "source": [
    "value(s.N)"
   ]
  },
  {
   "cell_type": "markdown",
   "metadata": {},
   "source": [
    "Alternatively, we can also use postfix adjoint operator `'` or dereference operator `[]` which is specifically defined as a shortcut to `Cropbox.value()` in the case of `State` type."
   ]
  },
  {
   "cell_type": "code",
   "execution_count": null,
   "metadata": {},
   "outputs": [],
   "source": [
    "s.N'"
   ]
  },
  {
   "cell_type": "code",
   "execution_count": null,
   "metadata": {},
   "outputs": [],
   "source": [
    "typeof(s.N')"
   ]
  },
  {
   "cell_type": "code",
   "execution_count": null,
   "metadata": {},
   "outputs": [],
   "source": [
    "s.N[]"
   ]
  },
  {
   "cell_type": "code",
   "execution_count": null,
   "metadata": {},
   "outputs": [],
   "source": [
    "typeof(s.N[])"
   ]
  },
  {
   "cell_type": "markdown",
   "metadata": {},
   "source": [
    "#### Units"
   ]
  },
  {
   "cell_type": "markdown",
   "metadata": {},
   "source": [
    "Note that we defined units for rate parameters `a`, `b`, and `c`. `u\"..\"` is a string format used by [Unitful.jl](https://github.com/PainterQubits/Unitful.jl) package which provides unit conversion functionality for our framework."
   ]
  },
  {
   "cell_type": "code",
   "execution_count": null,
   "metadata": {
    "scrolled": true
   },
   "outputs": [],
   "source": [
    "u\"yr^-1\""
   ]
  },
  {
   "cell_type": "markdown",
   "metadata": {},
   "source": [
    "`u\"yr^-1\"` tag in our model specification is actually a shorthand notation for `unit=u\"yr^-1\"`. For example, `a ~ preserve(u\"m\")` expands to `a ~ preserve(unit=u\"m\")`."
   ]
  },
  {
   "cell_type": "markdown",
   "metadata": {},
   "source": [
    "By default, time variables used by Cropbox framework are defined in an hourly unit (`u\"hr\"`).\n",
    "For simulation, you can still choose whichever time step you'd like to use by changing `step` parameter of `Clock` in `Context`.\n",
    "\n",
    "You should be cautious when using some larger time units like month and year. `1 yr` is defined to be `365.25 d` following the [convention](https://github.com/PainterQubits/Unitful.jl/pull/288) used in Astronomy. There is no unit for month due to ambiguity."
   ]
  },
  {
   "cell_type": "markdown",
   "metadata": {},
   "source": [
    "We can check the unit of state variable or its value with `Cropbox.unittype()`."
   ]
  },
  {
   "cell_type": "code",
   "execution_count": null,
   "metadata": {
    "scrolled": true
   },
   "outputs": [],
   "source": [
    "s.a"
   ]
  },
  {
   "cell_type": "code",
   "execution_count": null,
   "metadata": {
    "scrolled": true
   },
   "outputs": [],
   "source": [
    "Cropbox.unittype(s.a)"
   ]
  },
  {
   "cell_type": "code",
   "execution_count": null,
   "metadata": {},
   "outputs": [],
   "source": [
    "Cropbox.unittype(s.a')"
   ]
  },
  {
   "cell_type": "markdown",
   "metadata": {},
   "source": [
    "#### Parameter"
   ]
  },
  {
   "cell_type": "markdown",
   "metadata": {},
   "source": [
    "We can look up a list of default parameters declared for a given system by calling `parameters()`."
   ]
  },
  {
   "cell_type": "code",
   "execution_count": null,
   "metadata": {},
   "outputs": [],
   "source": [
    "parameters(DDLV_predation)"
   ]
  },
  {
   "cell_type": "markdown",
   "metadata": {},
   "source": [
    "Since `DDLV_predation` had no default parameter values declared in the model itself, let's instead take a look at `LV_competition` system."
   ]
  },
  {
   "cell_type": "code",
   "execution_count": null,
   "metadata": {},
   "outputs": [],
   "source": [
    "parameters(LV_competition)"
   ]
  },
  {
   "cell_type": "markdown",
   "metadata": {},
   "source": [
    "If you prefer long descriptive names, set `alias=true`."
   ]
  },
  {
   "cell_type": "code",
   "execution_count": null,
   "metadata": {},
   "outputs": [],
   "source": [
    "parameters(LV_competition, alias=true)"
   ]
  },
  {
   "cell_type": "markdown",
   "metadata": {},
   "source": [
    "It also accepts `recursive` to look up other systems referred in the target system. For example, every system has `Context` which contains `Clock` and all of their parameters can be retrieved as below."
   ]
  },
  {
   "cell_type": "code",
   "execution_count": null,
   "metadata": {},
   "outputs": [],
   "source": [
    "parameters(LV_competition, recursive=true)"
   ]
  },
  {
   "cell_type": "markdown",
   "metadata": {
    "jp-MarkdownHeadingCollapsed": true,
    "tags": []
   },
   "source": [
    "## HW 2.3.\n",
    "\n",
    "In this exercise, you will use the density dependent L-V model to find the parameter combinations and initial conditions of state variables that satisfy the following scenarios for 100 years. Note that there could be multiple solutions. \n",
    "\n",
    "Please show one set of parameters that works for each case but do make sure to <b>provide your own discussion and interpretation</b> based on biological meaning of the parameter values and their ecological contexts."
   ]
  },
  {
   "cell_type": "markdown",
   "metadata": {},
   "source": [
    "Shown below is the configuration we used above. Let's try making a different set of parameters for simulating a desired behavior. Note that the figures rendered below are just examples. You don't have to replicate them.\n"
   ]
  },
  {
   "cell_type": "code",
   "execution_count": null,
   "metadata": {
    "tags": []
   },
   "outputs": [],
   "source": [
    "using Cairo, Fontconfig"
   ]
  },
  {
   "cell_type": "code",
   "execution_count": null,
   "metadata": {},
   "outputs": [],
   "source": [
    "@config(cDDLV_p)"
   ]
  },
  {
   "attachments": {
    "6d555782-ec74-47a0-b497-64b245efdbb6.png": {
     "image/png": "[encoded data removed]"
    }
   },
   "cell_type": "markdown",
   "metadata": {},
   "source": [
    "### a. Prey dies out slowly, then predator dies out.\n",
    "![HW23a.png](attachment:6d555782-ec74-47a0-b497-64b245efdbb6.png)"
   ]
  },
  {
   "cell_type": "code",
   "execution_count": null,
   "metadata": {},
   "outputs": [],
   "source": [
    "HW23a = visualize(DDLV_predation, :t, [:N, :P]; config=(cDDLV_p,\n",
    "    :DDLV_predation => (;\n",
    "            r = #= .. =#,\n",
    "            a = #= .. =#,\n",
    "            c = #= .. =#,\n",
    "            m = #= .. =#,\n",
    "            K = #= .. =#,\n",
    "            N0 = #= .. =#,\n",
    "            P0 = #= .. =#,\n",
    "    ),\n",
    "), stop=100u\"yr\", snap=100u\"d\",kind=:line)"
   ]
  },
  {
   "attachments": {
    "1b68eada-21c9-4313-8a8a-62f51ce116d7.png": {
     "image/png": "[encoded data removed]"
    }
   },
   "cell_type": "markdown",
   "metadata": {},
   "source": [
    "### b. Predator dies out and prey does not.\n",
    "![HW23b.png](attachment:1b68eada-21c9-4313-8a8a-62f51ce116d7.png)"
   ]
  },
  {
   "cell_type": "code",
   "execution_count": null,
   "metadata": {},
   "outputs": [],
   "source": [
    "HW23b = visualize(DDLV_predation, :t, [:N, :P]; config=(cDDLV_p,\n",
    "    :DDLV_predation => (;\n",
    "            r = #= .. =#,\n",
    "            a = #= .. =#,\n",
    "            c = #= .. =#,\n",
    "            m = #= .. =#,\n",
    "            K = #= .. =#,\n",
    "            N0 = #= .. =#,\n",
    "            P0 = #= .. =#,\n",
    "    ),\n",
    "), stop=100u\"yr\", snap=100u\"d\", kind=:line)"
   ]
  },
  {
   "attachments": {
    "02402981-96d6-41f8-b197-c08cffd608b0.png": {
     "image/png": "[encoded data removed]"
    }
   },
   "cell_type": "markdown",
   "metadata": {},
   "source": [
    "### c. Both predator and prey populations oscillate for the entire period.\n",
    "![HW23c.png](attachment:02402981-96d6-41f8-b197-c08cffd608b0.png)"
   ]
  },
  {
   "cell_type": "code",
   "execution_count": null,
   "metadata": {},
   "outputs": [],
   "source": [
    "HW23c = visualize(DDLV_predation, :t, [:N, :P]; config=(cDDLV_p,\n",
    "    :DDLV_predation => (;\n",
    "            r = #= .. =#,\n",
    "            a = #= .. =#,\n",
    "            c = #= .. =#,\n",
    "            m = #= .. =#,\n",
    "            K = #= .. =#,\n",
    "            N0 = #= .. =#,\n",
    "            P0 = #= .. =#,\n",
    "    ),\n",
    "), stop=100u\"yr\", snap=100u\"d\", kind=:line)"
   ]
  },
  {
   "attachments": {
    "dd10fb3d-ef56-433e-98c0-3a2db37f0355.png": {
     "image/png": "[encoded data removed]"
    }
   },
   "cell_type": "markdown",
   "metadata": {},
   "source": [
    "### d. Both predator and prey populations stabilize over time to reach an equilibrium.\n",
    "![HW23d.png](attachment:dd10fb3d-ef56-433e-98c0-3a2db37f0355.png)"
   ]
  },
  {
   "cell_type": "code",
   "execution_count": null,
   "metadata": {},
   "outputs": [],
   "source": [
    "HW23d = visualize(DDLV_predation, :t, [:N, :P]; config=(cDDLV_p,\n",
    "    :DDLV_predation => (;\n",
    "            r = #= .. =#,\n",
    "            a = #= .. =#,\n",
    "            c = #= .. =#,\n",
    "            m = #= .. =#,\n",
    "            K = #= .. =#,\n",
    "            N0 = #= .. =#,\n",
    "            P0 = #= .. =#,\n",
    "    ),\n",
    "), stop=100u\"yr\", snap=100u\"d\", kind=:line)"
   ]
  }
 ],
 "metadata": {
  "@webio": {
   "lastCommId": "370c95b2-9904-49e9-98dd-6b4ba0c9fc59",
   "lastKernelId": "44c40547-112a-4105-9bd4-6eef8d638873"
  },
  "kernelspec": {
   "display_name": "Julia 1.10.4",
   "language": "julia",
   "name": "julia-1.10"
  },
  "language_info": {
   "file_extension": ".jl",
   "mimetype": "application/julia",
   "name": "julia",
   "version": "1.10.4"
  }
 },
 "nbformat": 4,
 "nbformat_minor": 4
}
